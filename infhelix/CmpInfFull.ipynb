{
 "cells": [
  {
   "cell_type": "code",
   "execution_count": 1,
   "metadata": {},
   "outputs": [
    {
     "name": "stdout",
     "output_type": "stream",
     "text": [
      "Populating the interactive namespace from numpy and matplotlib\n"
     ]
    }
   ],
   "source": [
    "# !/usr/bin/env python3\n",
    "# -*- coding: utf-8 -*-\n",
    "\"\"\"\n",
    "Created on 20190115\n",
    "\n",
    "@author: zhangji\n",
    "\n",
    "\"\"\"\n",
    "\n",
    "%pylab inline\n",
    "pylab.rcParams['figure.figsize'] = (25, 11)\n",
    "fontsize = 40\n",
    "\n",
    "import numpy as np\n",
    "import scipy as sp\n",
    "from scipy.optimize import leastsq, curve_fit\n",
    "from scipy import interpolate\n",
    "from scipy.interpolate import interp1d\n",
    "from scipy.io import loadmat, savemat\n",
    "# import scipy.misc\n",
    "\n",
    "import matplotlib\n",
    "from matplotlib import pyplot as plt\n",
    "from matplotlib import animation, rc\n",
    "import matplotlib.ticker as mtick\n",
    "from mpl_toolkits.axes_grid1.inset_locator import inset_axes, zoomed_inset_axes\n",
    "from mpl_toolkits.mplot3d import Axes3D, axes3d\n",
    "\n",
    "from sympy import symbols, simplify, series, exp\n",
    "from sympy.matrices import Matrix\n",
    "from sympy.solvers import solve\n",
    "\n",
    "from IPython.display import display, HTML\n",
    "from tqdm import tqdm_notebook as tqdm\n",
    "import pandas as pd\n",
    "import re\n",
    "from scanf import scanf\n",
    "import os\n",
    "import glob\n",
    "import importlib\n",
    "from time import time\n",
    "\n",
    "from codeStore import support_fun as spf\n",
    "from src.support_class import *\n",
    "\n",
    "rc('animation', html='html5')\n",
    "PWD = os.getcwd()\n",
    "font = {'size': 20}\n",
    "matplotlib.rc('font', **font)\n",
    "np.set_printoptions(linewidth=90, precision=5)\n"
   ]
  },
  {
   "cell_type": "code",
   "execution_count": 131,
   "metadata": {},
   "outputs": [],
   "source": [
    "# check convergence1, infspace\n",
    "\n",
    "dir_name = 'compare_Liu/gFig_2_a/theta_0.13'\n",
    "t_dir = os.path.join(PWD, dir_name)\n",
    "txt_names = glob.glob('./%s/*.txt' % dir_name)\n",
    "\n",
    "psi2 = []\n",
    "psi3 = []\n",
    "psi61 = []\n",
    "psi62 = []\n",
    "ph = []\n",
    "zf = []\n",
    "for txt_name in txt_names:\n",
    "    with open(txt_name, 'r') as ftxt:\n",
    "        FILE_DATA = ftxt.read()\n",
    "    \n",
    "    text_headle = 'Translation, helix forces and torques \\['\n",
    "    temp1 = spf.read_array(text_headle, FILE_DATA, array_length=6)\n",
    "    psi2.append(temp1[2])\n",
    "    psi61.append(temp1[5])\n",
    "        \n",
    "    text_headle = 'Rotation, helix forces and torques \\['\n",
    "    temp1 = spf.read_array(text_headle, FILE_DATA, array_length=6)\n",
    "    psi62.append(temp1[2])\n",
    "    psi3.append(temp1[5])\n",
    "    \n",
    "    text_headle = 'helix pitch: '\n",
    "    temp1 = spf.read_array(text_headle, FILE_DATA, array_length=1)\n",
    "    ph.append(temp1)\n",
    "    \n",
    "    text_headle = 'geometry zoom factor is '\n",
    "    temp1 = spf.read_array(text_headle, FILE_DATA, array_length=1)\n",
    "    if np.isclose(temp1, 1):\n",
    "        temp1 = 0\n",
    "    zf.append(temp1)\n",
    "\n",
    "data1 = pd.DataFrame({'ph': np.hstack(ph), \n",
    "                      'zf': np.hstack(zf), \n",
    "                      'psi2': np.hstack(psi2), \n",
    "                      'psi3': np.hstack(psi3), \n",
    "                      'psi61': np.hstack(psi61), \n",
    "                      'psi62': np.hstack(psi62), })\\\n",
    "        .pivot_table(columns=['zf'])\n",
    "\n",
    "psi2 = data1.loc['psi2']\n",
    "psi3 = data1.loc['psi3']\n",
    "psi61 = data1.loc['psi61']\n",
    "psi62 = data1.loc['psi62']\n"
   ]
  },
  {
   "cell_type": "code",
   "execution_count": 132,
   "metadata": {},
   "outputs": [
    {
     "data": {
      "image/png": "[encoded data removed]",
      "text/plain": [
       "<Figure size 432x288 with 1 Axes>"
      ]
     },
     "metadata": {},
     "output_type": "display_data"
    }
   ],
   "source": [
    "t1 = -psi61 / psi2\n",
    "t1 = t1 / t1[0]\n",
    "fig, ax1 = plt.subplots(nrows=1, ncols=1)\n",
    "fig.patch.set_facecolor('white')\n",
    "ax1.plot(1 / t1.index, t1.values, '-*')\n",
    "ax1.set_xlim(1, 6)\n",
    "ax1.set_ylim(0.5, 4.5)\n",
    "pass"
   ]
  },
  {
   "cell_type": "code",
   "execution_count": 130,
   "metadata": {},
   "outputs": [
    {
     "data": {
      "image/png": "[encoded data removed]",
      "text/plain": [
       "<Figure size 432x288 with 1 Axes>"
      ]
     },
     "metadata": {},
     "output_type": "display_data"
    }
   ],
   "source": [
    "t1 = -psi61 / psi2\n",
    "t1 = t1 / t1[0]\n",
    "fig, ax1 = plt.subplots(nrows=1, ncols=1)\n",
    "fig.patch.set_facecolor('white')\n",
    "ax1.plot(1 / t1.index, t1.values, '-*')\n",
    "ax1.set_xlim(1, 6)\n",
    "ax1.set_ylim(0.5, 4.5)\n",
    "pass"
   ]
  },
  {
   "cell_type": "code",
   "execution_count": 122,
   "metadata": {},
   "outputs": [
    {
     "data": {
      "text/plain": [
       "zf\n",
       "0.0     64.066096\n",
       "0.1      4.483837\n",
       "0.2      5.345983\n",
       "0.3      6.415537\n",
       "0.4      7.632954\n",
       "0.5      9.056660\n",
       "0.6     10.944546\n",
       "0.7     14.179724\n",
       "0.8     26.264814\n",
       "0.9    106.215720\n",
       "Name: psi3, dtype: float64"
      ]
     },
     "execution_count": 122,
     "metadata": {},
     "output_type": "execute_result"
    }
   ],
   "source": [
    "psi3"
   ]
  },
  {
   "cell_type": "code",
   "execution_count": 121,
   "metadata": {},
   "outputs": [
    {
     "data": {
      "text/plain": [
       "zf\n",
       "0.0     64.066096\n",
       "0.1      4.483837\n",
       "0.2      5.345983\n",
       "0.3      6.415537\n",
       "0.4      7.632954\n",
       "0.5      9.056660\n",
       "0.6     10.944546\n",
       "0.7     14.179724\n",
       "0.8     26.264814\n",
       "0.9    106.215720\n",
       "Name: psi3, dtype: float64"
      ]
     },
     "execution_count": 121,
     "metadata": {},
     "output_type": "execute_result"
    }
   ],
   "source": [
    "psi3"
   ]
  },
  {
   "cell_type": "code",
   "execution_count": null,
   "metadata": {},
   "outputs": [],
   "source": []
  }
 ],
 "metadata": {
  "kernelspec": {
   "display_name": "Python [conda root]",
   "language": "python",
   "name": "conda-root-py"
  },
  "language_info": {
   "codemirror_mode": {
    "name": "ipython",
    "version": 3
   },
   "file_extension": ".py",
   "mimetype": "text/x-python",
   "name": "python",
   "nbconvert_exporter": "python",
   "pygments_lexer": "ipython3",
   "version": "3.5.6"
  }
 },
 "nbformat": 4,
 "nbformat_minor": 2
}
