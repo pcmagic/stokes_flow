{
 "cells": [
  {
   "cell_type": "code",
   "execution_count": 18,
   "metadata": {
    "collapsed": true
   },
   "outputs": [],
   "source": [
    "import numpy as np\n",
    "import os"
   ]
  },
  {
   "cell_type": "code",
   "execution_count": 19,
   "metadata": {
    "collapsed": true
   },
   "outputs": [],
   "source": [
    "def write_pbs_head(fpbs, job_name):\n",
    "    fpbs.write('#! /bin/bash\\n')\n",
    "    fpbs.write('#PBS -M zhangji@csrc.ac.cn\\n')\n",
    "    fpbs.write('#PBS -l nodes=1:ppn=24\\n')\n",
    "    fpbs.write('#PBS -l walltime=72:00:00\\n')\n",
    "    fpbs.write('#PBS -q common\\n')\n",
    "    fpbs.write('#PBS -N %s\\n' % job_name)\n",
    "    fpbs.write('\\n')\n",
    "    fpbs.write('cd $PBS_O_WORKDIR\\n')\n",
    "    fpbs.write('\\n')\n",
    "    "
   ]
  },
  {
   "cell_type": "code",
   "execution_count": 23,
   "metadata": {},
   "outputs": [],
   "source": [
    "# case 1, traverse all parameters, inf space\n",
    "maxtheta_list = [10, 50, 100, 500, 1000, 5000, 10000, 50000]\n",
    "nphi_list = [100, 500, 1000, 5000, 10000, 20000]\n",
    "nthfct_list = [1, 10, 100]  # nth = nthfct * maxtheta\n",
    "job_dir = 'infhlx_20180510'\n",
    "if not os.path.exists(job_dir):\n",
    "    os.makedirs(job_dir)\n",
    "\n",
    "t_name = os.path.join(job_dir, 'run.sh')\n",
    "with open(t_name, 'w') as frun:\n",
    "    # create .pbs file\n",
    "    for maxtheta in maxtheta_list:\n",
    "        for nphi in nphi_list:\n",
    "            for nthfct in nthfct_list:\n",
    "                nth = nthfct * maxtheta\n",
    "                job_name = 'infhlx%06d_%06d_%04d' % (maxtheta, nphi, nthfct)\n",
    "                t_name = os.path.join(job_dir, '%s.pbs' % job_name)\n",
    "                with open(t_name, 'w') as fpbs:\n",
    "                    write_pbs_head(fpbs, job_name)\n",
    "                    fpbs.write('mpirun -n 24 python ')\n",
    "                    fpbs.write(' ../try_infhelix.py ')\n",
    "                    fpbs.write(' -infhelix_maxtheta %f ' % maxtheta)\n",
    "                    fpbs.write(' -infhelix_nnode %f ' % nphi)\n",
    "                    fpbs.write(' -infhelix_ntheta %f ' % nth)\n",
    "                    fpbs.write(' > %s.txt' % job_name)\n",
    "                \n",
    "    # write to .sh file\n",
    "                    frun.write('qsub %s.pbs\\n' % job_name)\n",
    "    \n",
    "    frun.write('\\n')"
   ]
  },
  {
   "cell_type": "code",
   "execution_count": 37,
   "metadata": {},
   "outputs": [],
   "source": [
    "# case 2, maxtheta varing, inf space\n",
    "maxtheta_list = 10 ** np.arange(1, 8)\n",
    "nphi_list = [100, ]\n",
    "nthfct_list = [30, ]  # nth = nthfct * maxtheta\n",
    "job_dir = 'infhlx_20180511'\n",
    "if not os.path.exists(job_dir):\n",
    "    os.makedirs(job_dir)\n",
    "\n",
    "t_name = os.path.join(job_dir, 'run.sh')\n",
    "with open(t_name, 'w') as frun:\n",
    "    # create .pbs file\n",
    "    for maxtheta in maxtheta_list:\n",
    "        for nphi in nphi_list:\n",
    "            for nthfct in nthfct_list:\n",
    "                nth = nthfct * maxtheta\n",
    "                job_name = 'infhlx_maxtheta1E%02d' % np.log10(maxtheta)\n",
    "                t_name = os.path.join(job_dir, '%s.pbs' % job_name)\n",
    "                with open(t_name, 'w') as fpbs:\n",
    "                    write_pbs_head(fpbs, job_name)\n",
    "                    fpbs.write('mpirun -n 24 python ')\n",
    "                    fpbs.write(' ../try_infhelix.py ')\n",
    "                    fpbs.write(' -infhelix_maxtheta %f ' % maxtheta)\n",
    "                    fpbs.write(' -infhelix_nnode %f ' % nphi)\n",
    "                    fpbs.write(' -infhelix_ntheta %f ' % nth)\n",
    "                    fpbs.write(' -ksp_max_it 1000')\n",
    "                    fpbs.write(' > %s.txt' % job_name)\n",
    "                \n",
    "    # write to .sh file\n",
    "                    frun.write('qsub %s.pbs\\n' % job_name)\n",
    "    \n",
    "    frun.write('\\n')\n"
   ]
  },
  {
   "cell_type": "code",
   "execution_count": 36,
   "metadata": {},
   "outputs": [],
   "source": [
    "# case 2, maxtheta varing, inf space\n",
    "maxtheta_list = 10 ** np.arange(1, 8)\n",
    "nphi_list = [100, ]\n",
    "nthfct_list = [30, ]  # nth = nthfct * maxtheta\n",
    "job_dir = 'helixInPipe_20180512'\n",
    "if not os.path.exists(job_dir):\n",
    "    os.makedirs(job_dir)\n",
    "\n",
    "t_name = os.path.join(job_dir, 'run.sh')\n",
    "with open(t_name, 'w') as frun:\n",
    "    # create .pbs file\n",
    "    for maxtheta in maxtheta_list:\n",
    "        for nphi in nphi_list:\n",
    "            for nthfct in nthfct_list:\n",
    "                nth = nthfct * maxtheta\n",
    "                job_name = 'helixInPipe_1E%1d' % np.log10(maxtheta)\n",
    "                t_name = os.path.join(job_dir, '%s.pbs' % job_name)\n",
    "                with open(t_name, 'w') as fpbs:\n",
    "                    write_pbs_head(fpbs, job_name)\n",
    "                    fpbs.write('mpirun -n 24 python ')\n",
    "                    fpbs.write(' ../helixInPipe.py ')\n",
    "                    fpbs.write(' -infhelix_maxtheta %f ' % maxtheta)\n",
    "                    fpbs.write(' -infhelix_nnode %f ' % nphi)\n",
    "                    fpbs.write(' -infhelix_ntheta %f ' % nth)\n",
    "                    fpbs.write(' -ksp_max_it 1000')\n",
    "                    fpbs.write(' > %s.txt' % job_name)\n",
    "                \n",
    "    # write to .sh file\n",
    "                    frun.write('qsub %s.pbs\\n' % job_name)\n",
    "    \n",
    "    frun.write('\\n')\n"
   ]
  },
  {
   "cell_type": "code",
   "execution_count": null,
   "metadata": {
    "collapsed": true
   },
   "outputs": [],
   "source": []
  }
 ],
 "metadata": {
  "kernelspec": {
   "display_name": "Python [conda root]",
   "language": "python",
   "name": "conda-root-py"
  },
  "language_info": {
   "codemirror_mode": {
    "name": "ipython",
    "version": 3
   },
   "file_extension": ".py",
   "mimetype": "text/x-python",
   "name": "python",
   "nbconvert_exporter": "python",
   "pygments_lexer": "ipython3",
   "version": "3.5.4"
  }
 },
 "nbformat": 4,
 "nbformat_minor": 2
}
