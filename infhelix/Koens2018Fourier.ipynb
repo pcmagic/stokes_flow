{
 "cells": [
  {
   "cell_type": "code",
   "execution_count": 1,
   "metadata": {},
   "outputs": [
    {
     "name": "stdout",
     "output_type": "stream",
     "text": [
      "Populating the interactive namespace from numpy and matplotlib\n"
     ]
    }
   ],
   "source": [
    "# !/usr/bin/env python3\n",
    "# -*- coding: utf-8 -*-\n",
    "\"\"\"\n",
    "Created on \n",
    "\n",
    "@author: zhangji\n",
    "\"\"\"\n",
    "\n",
    "%pylab inline\n",
    "pylab.rcParams['figure.figsize'] = (18.5, 10.5)\n",
    "fontsize = 40\n",
    "\n",
    "import os\n",
    "import importlib\n",
    "from time import time\n",
    "import numpy as np\n",
    "import scipy as sp\n",
    "import pandas as pd\n",
    "import re\n",
    "from scanf import scanf\n",
    "from matplotlib import pyplot as plt\n",
    "from mpl_toolkits.mplot3d import axes3d, Axes3D\n",
    "from scipy.optimize import leastsq, curve_fit\n",
    "from IPython.display import display, HTML\n",
    "from scipy import interpolate, integrate, optimize, sparse\n",
    "from codeStore import support_fun as spf\n",
    "from src import slenderBodyTheory as slb\n",
    "\n",
    "PWD = os.getcwd()\n",
    "np.set_printoptions(linewidth=130, precision=5)"
   ]
  },
  {
   "cell_type": "code",
   "execution_count": 74,
   "metadata": {},
   "outputs": [],
   "source": [
    "importlib.reload(slb)\n",
    "\n",
    "ph = 1\n",
    "rt1 = 1\n",
    "rt2 = 1\n",
    "theta = 0\n",
    "uz, wz = 0, 1\n",
    "\n",
    "phi_list = np.linspace(0, 2 * np.pi, 30)\n",
    "t_fra = slb.T1_fun(theta, ph, rt1, rt2)\n",
    "n_fra = slb.N1_fun(theta, ph, rt1, rt2)\n",
    "b_fra = slb.B1_fun(theta, ph, rt1, rt2)\n",
    "ep = np.array([n_fra * ti for ti in np.cos(phi_list)]) + np.array([b_fra * ti for ti in np.sin(phi_list)])\n",
    "x0 = slb.x1_fun(theta, ph, rt1, rt2)\n",
    "x1 = x0 + ep * rt2\n",
    "u1 = np.array((0, 0, uz)) + np.cross(np.array((0, 0, wz)), x1)\n",
    "fft_u = np.fft.fft(u1, axis=0)\n",
    "usin = -fft_u.imag\n",
    "ucos = fft_u.real\n",
    "# Eq 5.4 in Koens2018\n",
    "t1 = 2 * (np.eye(3) + np.outer(t_fra, t_fra)) - np.outer(n_fra, n_fra) + np.outer(b_fra, b_fra)\n",
    "t2 = -(np.outer(n_fra, b_fra) + np.outer(b_fra, n_fra))\n",
    "t3 = 2 * (np.eye(3) + np.outer(t_fra, t_fra)) + np.outer(n_fra, n_fra) - np.outer(b_fra, b_fra)\n",
    "t4 = -(np.outer(n_fra, b_fra) + np.outer(b_fra, n_fra))\n",
    "tA = np.vstack((np.hstack((t1, t2)), np.hstack((t3, t4))))\n",
    "tb = np.hstack((8 * ucos[1], 8 * usin[1]))\n",
    "\n"
   ]
  },
  {
   "cell_type": "code",
   "execution_count": 9,
   "metadata": {},
   "outputs": [
    {
     "name": "stdout",
     "output_type": "stream",
     "text": [
      "[[ 3.14353e-01  0.00000e+00  0.00000e+00]\n",
      " [ 0.00000e+00  5.02659e+02  7.99506e+01]\n",
      " [ 0.00000e+00  7.99506e+01  1.30389e+01]\n",
      " [ 0.00000e+00  0.00000e+00 -0.00000e+00]\n",
      " [ 0.00000e+00  0.00000e+00 -0.00000e+00]\n",
      " [-0.00000e+00 -0.00000e+00  0.00000e+00]\n",
      " [ 3.14353e-01  1.23039e-13  1.95822e-14]\n",
      " [ 1.23039e-13  5.02659e+02  7.99506e+01]\n",
      " [ 1.95822e-14  7.99506e+01  1.30389e+01]]\n"
     ]
    }
   ],
   "source": [
    "importlib.reload(slb)\n",
    "x1_fun = slb.x1_fun\n",
    "T1_fun = slb.T1_fun\n",
    "\n",
    "def KRJ_stokeslets_mij2(u_theta, f_theta, fidx, ph, rt1, rt2,\n",
    "                        u_node_fun=x1_fun, f_node_fun=x1_fun, T_fun=T1_fun):\n",
    "    # inner_mj = S(:, j), along u\n",
    "    S = np.sqrt(4 * np.pi ** 2 * rt1 ** 2 + ph ** 2)\n",
    "    intFct = S / (2 * np.pi)\n",
    "    su = u_theta * intFct\n",
    "    sf = f_theta * intFct\n",
    "    t = T_fun(u_theta, ph, rt1, rt2)\n",
    "    ds = np.abs(sf - su)\n",
    "    if u_node_fun is f_node_fun:\n",
    "        ds[fidx] = np.inf\n",
    "    t_m = np.vstack([(np.eye(3) + np.outer(ti, ti)) / dsi for ti, dsi in zip(t.reshape(-1, 3), ds)])\n",
    "    return t_m\n",
    "\n",
    "ph = 1\n",
    "rt1 = 1\n",
    "rt2 = 1\n",
    "u_theta = np.linspace(0, 2 * np.pi, 3)\n",
    "# f_theta = 0.3 * np.pi\n",
    "fidx=1\n",
    "\n",
    "tm = KRJ_stokeslets_mij2(u_theta, u_theta[fidx], fidx, ph, rt1, rt2, \n",
    "                         u_node_fun=x1_fun, f_node_fun=x1_fun, T_fun=T1_fun)"
   ]
  },
  {
   "cell_type": "code",
   "execution_count": 60,
   "metadata": {},
   "outputs": [
    {
     "data": {
      "text/plain": [
       "array([ 0.25016, 14.63443,  0.     ])"
      ]
     },
     "execution_count": 60,
     "metadata": {},
     "output_type": "execute_result"
    }
   ],
   "source": [
    "Fn1Mat_fun = lambda theta, ph, rt1, rt2: \\\n",
    "    np.identity(3) - np.tensordot(T1_fun(theta, ph, rt1, rt2), T1_fun(theta, ph, rt1, rt2), axes=0)\n",
    "Fn2Mat_fun = lambda theta, ph, rt1, rt2: \\\n",
    "    np.identity(3) - np.tensordot(T2_fun(theta, ph, rt1, rt2), T2_fun(theta, ph, rt1, rt2), axes=0)\n"
   ]
  },
  {
   "cell_type": "code",
   "execution_count": 38,
   "metadata": {},
   "outputs": [
    {
     "name": "stdout",
     "output_type": "stream",
     "text": [
      "[[-0.09859  0.98264  0.15718]\n",
      " [-0.1962   0.96788  0.15718]]\n",
      "\n",
      "[[ 1.00972 -0.09688 -0.0155 ]\n",
      " [-0.09688  1.96557  0.15445]\n",
      " [-0.0155   0.15445  1.0247 ]\n",
      " [ 1.03849 -0.1899  -0.03084]\n",
      " [-0.1899   1.9368   0.15213]\n",
      " [-0.03084  0.15213  1.0247 ]]\n"
     ]
    }
   ],
   "source": [
    "T_fun=T1_fun\n",
    "u_theta = np.array((0.1, 0.2))\n",
    "t = T_fun(u_theta, ph, rt1, rt2)\n",
    "print(t)\n",
    "print()\n",
    "temp1 = np.vstack([np.eye(3) + np.outer(ti, ti) for ti in t.reshape(-1, 3)])\n",
    "print(temp1)"
   ]
  },
  {
   "cell_type": "code",
   "execution_count": null,
   "metadata": {},
   "outputs": [],
   "source": [
    "[[-0.09859  0.98264  0.15718]]\n",
    "\n",
    "[[ 0.00972 -0.09688 -0.0155 ]\n",
    " [-0.09688  0.96557  0.15445]\n",
    " [-0.0155   0.15445  0.0247 ]]"
   ]
  },
  {
   "cell_type": "code",
   "execution_count": null,
   "metadata": {},
   "outputs": [],
   "source": [
    "[[-0.1962   0.96788  0.15718]]\n",
    "\n",
    "[[ 0.03849 -0.1899  -0.03084]\n",
    " [-0.1899   0.9368   0.15213]\n",
    " [-0.03084  0.15213  0.0247 ]]"
   ]
  }
 ],
 "metadata": {
  "kernelspec": {
   "display_name": "Python 3",
   "language": "python",
   "name": "python3"
  },
  "language_info": {
   "codemirror_mode": {
    "name": "ipython",
    "version": 3
   },
   "file_extension": ".py",
   "mimetype": "text/x-python",
   "name": "python",
   "nbconvert_exporter": "python",
   "pygments_lexer": "ipython3",
   "version": "3.5.6"
  }
 },
 "nbformat": 4,
 "nbformat_minor": 4
}
