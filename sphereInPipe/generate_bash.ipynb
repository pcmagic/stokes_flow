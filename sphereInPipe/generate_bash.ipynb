{
 "cells": [
  {
   "cell_type": "code",
   "execution_count": 1,
   "metadata": {
    "collapsed": true
   },
   "outputs": [],
   "source": [
    "import numpy as np\n",
    "import os"
   ]
  },
  {
   "cell_type": "code",
   "execution_count": 2,
   "metadata": {
    "collapsed": true
   },
   "outputs": [],
   "source": [
    "def write_pbs_head(fpbs, job_name):\n",
    "    fpbs.write('#! /bin/bash\\n')\n",
    "    fpbs.write('#PBS -M zhangji@csrc.ac.cn\\n')\n",
    "    fpbs.write('#PBS -l nodes=1:ppn=24\\n')\n",
    "    fpbs.write('#PBS -l walltime=72:00:00\\n')\n",
    "    fpbs.write('#PBS -q common\\n')\n",
    "    fpbs.write('#PBS -N %s\\n' % job_name)\n",
    "    fpbs.write('\\n')\n",
    "    fpbs.write('cd $PBS_O_WORKDIR\\n')\n",
    "    fpbs.write('\\n')\n",
    "    "
   ]
  },
  {
   "cell_type": "code",
   "execution_count": 7,
   "metadata": {},
   "outputs": [],
   "source": [
    "# case 1\n",
    "rs_list = [0.2, 0.5, 0.8]\n",
    "ds_list = [0.6, 0.4, 0.3, 0.2, 0.15, 0.1, 0.07, 0.05]\n",
    "es_list = [-0.5, -1, -2, -3]\n",
    "job_dir = 'sphere_converge'\n",
    "if not os.path.exists(job_dir):\n",
    "    os.makedirs(job_dir)\n",
    "\n",
    "for es in es_list:\n",
    "    t_name = os.path.join(job_dir, 'run_es%3.1f.sh' % np.abs(es))\n",
    "    with open(t_name, 'w') as frun:\n",
    "        # create .pbs file\n",
    "        for ds in ds_list:\n",
    "            for rs in rs_list:\n",
    "                    job_name = 'rs%3.1f_ds%4.2f_es%3.1f' % (rs, ds, np.abs(es))\n",
    "                    frun.write('mpirun -n 24 python ')\n",
    "                    frun.write(' ../sphereInPipe.py ')\n",
    "                    frun.write(' -ksp_max_it 1000 ')\n",
    "                    frun.write(' -forcepipe R09l20 ')\n",
    "                    frun.write(' -rs %f ' % rs)\n",
    "                    frun.write(' -es %f ' % es)\n",
    "                    frun.write(' -ds %f ' % ds)\n",
    "                    frun.write(' -f %s ' % job_name)\n",
    "                    frun.write(' > %s.txt \\n' % job_name)    \n",
    "                    frun.write('echo %s finished \\n\\n ' % job_name)    \n"
   ]
  },
  {
   "cell_type": "code",
   "execution_count": 8,
   "metadata": {
    "collapsed": true
   },
   "outputs": [],
   "source": [
    "# case 2\n",
    "rs_list = [0.1, 0.3, 0.4, 0.6, 0.7]\n",
    "ds_list = [0.6, 0.4, 0.3, 0.2, 0.15, 0.1, 0.07, 0.05]\n",
    "es_list = [-0.5, -1, -2, -3]\n",
    "job_dir = 'sphere_converge'\n",
    "if not os.path.exists(job_dir):\n",
    "    os.makedirs(job_dir)\n",
    "\n",
    "for es in es_list:\n",
    "    t_name = os.path.join(job_dir, 'run2_es%3.1f.sh' % np.abs(es))\n",
    "    with open(t_name, 'w') as frun:\n",
    "        # create .pbs file\n",
    "        for ds in ds_list:\n",
    "            for rs in rs_list:\n",
    "                    job_name = 'rs%3.1f_ds%4.2f_es%3.1f' % (rs, ds, np.abs(es))\n",
    "                    frun.write('mpirun -n 24 python ')\n",
    "                    frun.write(' ../sphereInPipe.py ')\n",
    "                    frun.write(' -ksp_max_it 1000 ')\n",
    "                    frun.write(' -forcepipe R09l20 ')\n",
    "                    frun.write(' -rs %f ' % rs)\n",
    "                    frun.write(' -es %f ' % es)\n",
    "                    frun.write(' -ds %f ' % ds)\n",
    "                    frun.write(' -f %s ' % job_name)\n",
    "                    frun.write(' > %s.txt \\n' % job_name)    \n",
    "                    frun.write('echo %s finished \\n\\n ' % job_name)    \n"
   ]
  }
 ],
 "metadata": {
  "kernelspec": {
   "display_name": "Python [conda root]",
   "language": "python",
   "name": "conda-root-py"
  },
  "language_info": {
   "codemirror_mode": {
    "name": "ipython",
    "version": 3
   },
   "file_extension": ".py",
   "mimetype": "text/x-python",
   "name": "python",
   "nbconvert_exporter": "python",
   "pygments_lexer": "ipython3",
   "version": "3.5.4"
  }
 },
 "nbformat": 4,
 "nbformat_minor": 2
}
