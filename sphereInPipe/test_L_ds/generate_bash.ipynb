{
 "cells": [
  {
   "cell_type": "code",
   "execution_count": 1,
   "metadata": {
    "collapsed": true
   },
   "outputs": [],
   "source": [
    "import numpy as np\n",
    "import os\n",
    "from codeStore import support_fun as spf\n"
   ]
  },
  {
   "cell_type": "code",
   "execution_count": 12,
   "metadata": {
    "collapsed": true
   },
   "outputs": [],
   "source": [
    "# case 1\n",
    "\n",
    "L_list = [1, 0.8, 0.6, 0.4, 0.2, 0.1]\n",
    "ds_list = [0.024, 0.03, 0.04, 0.06, 0.08, 0.1, 0.12, 0.14, 0.16, 0.18, 0.2]\n",
    "cth_list = [30, 40, 50, 80, 150, 300]\n",
    "job_dir = 'case1_v3'\n",
    "if not os.path.exists(job_dir):\n",
    "    os.makedirs(job_dir)\n",
    "\n",
    "t_name = os.path.join(job_dir, 'run.sh')\n",
    "with open(t_name, 'w') as frun:\n",
    "    # create .pbs file\n",
    "    for Li, cthi in zip(L_list, cth_list):\n",
    "        for dsi in ds_list:\n",
    "            job_name = 'case1_L%.1f_ds%.3f' % (Li, dsi)\n",
    "            t_name = os.path.join(job_dir, '%s.pbs' % job_name)\n",
    "            with open(t_name, 'w') as fpbs:        \n",
    "                spf.write_pbs_head(fpbs, job_name)\n",
    "                fpbs.write('mpirun -n 24 python ')\n",
    "                fpbs.write(' ../../force_pipe.py ')\n",
    "                fpbs.write(' -f %s ' % job_name)\n",
    "                fpbs.write(' -dp %f ' % dsi)\n",
    "                fpbs.write(' -ep %f ' % 1)\n",
    "                fpbs.write(' -lp %f ' % Li)\n",
    "                fpbs.write(' -b0 %f ' % 0)\n",
    "                fpbs.write(' -b1 %f ' % 0.8)\n",
    "                fpbs.write(' -nb %d ' % 9)\n",
    "                fpbs.write(' -th %d ' % cthi)\n",
    "                fpbs.write(' -factor %f ' % 1)\n",
    "                fpbs.write(' -check_acc %d ' % 1)\n",
    "                fpbs.write(' -ksp_max_it %d ' % 1000)\n",
    "                fpbs.write(' > %s.txt' % job_name)\n",
    "                \n",
    "    # write to .sh file\n",
    "                frun.write('qsub %s.pbs\\n' % job_name)\n",
    "    \n",
    "    frun.write('\\n')"
   ]
  }
 ],
 "metadata": {
  "kernelspec": {
   "display_name": "Python [conda root]",
   "language": "python",
   "name": "conda-root-py"
  },
  "language_info": {
   "codemirror_mode": {
    "name": "ipython",
    "version": 3
   },
   "file_extension": ".py",
   "mimetype": "text/x-python",
   "name": "python",
   "nbconvert_exporter": "python",
   "pygments_lexer": "ipython3",
   "version": "3.5.4"
  }
 },
 "nbformat": 4,
 "nbformat_minor": 2
}
