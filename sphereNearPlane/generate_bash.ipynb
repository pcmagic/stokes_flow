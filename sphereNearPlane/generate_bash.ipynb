{
 "cells": [
  {
   "cell_type": "code",
   "execution_count": 1,
   "metadata": {},
   "outputs": [],
   "source": [
    "%load_ext autoreload\n",
    "%autoreload 2\n",
    "\n",
    "import numpy as np\n",
    "import os\n",
    "from codeStore import support_fun as spf\n",
    "import importlib\n",
    "PWD = os.getcwd()"
   ]
  },
  {
   "cell_type": "markdown",
   "metadata": {},
   "source": [
    "## sphereNearPlane, vary epsilon and h2Plane"
   ]
  },
  {
   "cell_type": "raw",
   "metadata": {},
   "source": [
    "mpirun -np 48 python sphereNearPlane.py -main_resistanceMatrix 1 -sm rs_plane -rs 1 -ds 0.03 -es 0 -ksp_max_it 1000 -ksp_atol 1e-200 -ksp_rtol 1e-20 -epsilon 1 -h2Plane 10"
   ]
  },
  {
   "cell_type": "code",
   "execution_count": 21,
   "metadata": {},
   "outputs": [
    {
     "name": "stdout",
     "output_type": "stream",
     "text": [
      "exist folder /home/zhangji/stokes_flow_master/sphereNearPlane/sphereNearPlane_a\n",
      "input 540 cases.\n",
      "generate 1 pbs files in total.\n",
      " --->>random order mode is ON. \n",
      "Command of first case is:\n",
      "mpirun -np 48 python ../sphereNearPlane.py  -main_resistanceMatrix 1  -sm rs_plane -epsilon 0.200000  -rs 1.000000 -ds 0.030000 -es 0.000000 -h2Plane 1.300000  -ksp_max_it 1000 -ksp_rtol 1.000000e-10 -ksp_atol 1.000000e-100 -f h1.3000_epsilon0.2000\n"
     ]
    },
    {
     "data": {
      "text/plain": [
       "True"
      ]
     },
     "execution_count": 21,
     "metadata": {},
     "output_type": "execute_result"
    }
   ],
   "source": [
    "use_node = 3\n",
    "njob_node = 1\n",
    "n_job_pbs = use_node * njob_node\n",
    "random_order = True\n",
    "n_job_pbs = 10000\n",
    "\n",
    "def comm_sphereNearPlane(sm, epsilon, rs, ds, es, h2Plane, \n",
    "                         ksp_max_it, ksp_rtol, ksp_atol, f): \n",
    "    if 'rs' in sm:\n",
    "        err_msg = 'the regularized family methods requires eh==0. '\n",
    "        assert np.isclose(es, 0), err_msg\n",
    "    \n",
    "    assert sm is 'rs_plane'\n",
    "    assert rs < h2Plane\n",
    "    \n",
    "    main_fun = 'main_resistanceMatrix' \n",
    "    ts = 'mpirun -np 48 python ../sphereNearPlane.py  -%s 1 ' % main_fun\n",
    "    ts = ts + ' -sm %s -epsilon %f ' % (sm, epsilon)\n",
    "    ts = ts + ' -rs %f -ds %f -es %f -h2Plane %f ' % (rs, ds, es, h2Plane)\n",
    "    ts = ts + ' -ksp_max_it %d -ksp_rtol %e -ksp_atol %e -f %s' % (ksp_max_it, ksp_rtol, ksp_atol, f)\n",
    "    return ts\n",
    "\n",
    "write_pbs_head = spf.write_pbs_head_haiguang\n",
    "sm = 'rs_plane'\n",
    "rs, ds, es = 1, 0.03, 0\n",
    "ksp_max_it, ksp_rtol, ksp_atol = 1000, 1e-10, 1e-100\n",
    "epsilon_list = np.linspace(0.1, 1, 10)\n",
    "h2Plane_list = np.hstack((np.linspace(1.1, 1.9, 9), np.linspace(2, 9, 8), \n",
    "                          np.linspace(10, 100, 19)[:-1], np.linspace(100, 1000, 19)))\n",
    "job_dir = 'sphereNearPlane_a'\n",
    "use_node = 1\n",
    "\n",
    "###############################################################################################\n",
    "# generate all comment file. \n",
    "comm_list = []\n",
    "txt_list = []\n",
    "h2Plane_list, epsilon_list = np.meshgrid(h2Plane_list, epsilon_list)\n",
    "for h2Plane, epsilon in zip(h2Plane_list.ravel(), epsilon_list.ravel()):\n",
    "    f = 'h%.4f_epsilon%.4f' % (h2Plane, epsilon)\n",
    "    ts = comm_sphereNearPlane(sm, epsilon, rs, ds, es, h2Plane, \n",
    "                              ksp_max_it, ksp_rtol, ksp_atol, f)\n",
    "    comm_list.append(ts)\n",
    "    txt_list.append(f)\n",
    "spf.write_main_run_comm_list(comm_list, txt_list, use_node, njob_node, job_dir, \n",
    "                             write_pbs_head, n_job_pbs, random_order=random_order)"
   ]
  },
  {
   "cell_type": "code",
   "execution_count": null,
   "metadata": {},
   "outputs": [],
   "source": []
  },
  {
   "cell_type": "markdown",
   "metadata": {},
   "source": [
    "## two sphere with or without plane"
   ]
  },
  {
   "cell_type": "raw",
   "metadata": {},
   "source": [
    "mpirun -np 48 python sphereNearPlane.py -main_resistanceMatrix_twoSphere 1 -sm rs_plane -rs 1 -ds 0.03 -es 0 -ksp_max_it 1000 -ksp_atol 1e-200 -ksp_rtol 1e-20 -epsilon 0.3 -h2Plane 1.5 -move_x 1.25 \n",
    "mpirun -np 48 python sphereNearPlane.py -main_resistanceMatrix_twoSphere 1 -sm rs     -rs 1 -ds 0.03 -es 0 -ksp_max_it 1000 -ksp_atol 1e-200 -ksp_rtol 1e-20 -epsilon 0.3 -h2Plane 1.5 -move_x 1.25 "
   ]
  },
  {
   "cell_type": "code",
   "execution_count": 5,
   "metadata": {},
   "outputs": [
    {
     "name": "stdout",
     "output_type": "stream",
     "text": [
      "make folder /home/zhangji/stokes_flow_master/sphereNearPlane/twoSphere_b\n",
      "input 4 cases.\n",
      "generate 1 pbs files in total.\n",
      " --->>random order mode is ON. \n",
      "Command of first case is:\n",
      "mpirun -np 48 python ../sphereNearPlane.py  -main_resistanceMatrix_twoSphere 1  -sm rs -epsilon 0.300000  -rs 1.000000 -ds 0.030000 -es 0.000000 -h2Plane 1.500000  -move_x 2.000000 -move_y 0.000000 -move_z 0.000000  -ksp_max_it 1000 -ksp_rtol 1.000000e-10 -ksp_atol 1.000000e-100 -f h1.5000_movex2.0000\n"
     ]
    },
    {
     "data": {
      "text/plain": [
       "True"
      ]
     },
     "execution_count": 5,
     "metadata": {},
     "output_type": "execute_result"
    }
   ],
   "source": [
    "use_node = 3\n",
    "njob_node = 1\n",
    "n_job_pbs = use_node * njob_node\n",
    "random_order = True\n",
    "n_job_pbs = 10000\n",
    "\n",
    "def comm_twoSsphere(sm, epsilon, rs, ds, es, h2Plane, \n",
    "                    move_x, move_y, move_z, \n",
    "                    ksp_max_it, ksp_rtol, ksp_atol, f): \n",
    "    if 'rs' in sm:\n",
    "        err_msg = 'the regularized family methods requires eh==0. '\n",
    "        assert np.isclose(es, 0), err_msg\n",
    "    \n",
    "    assert (sm is 'rs_plane') or (sm is 'rs')\n",
    "    assert rs < h2Plane\n",
    "    \n",
    "    main_fun = 'main_resistanceMatrix_twoSphere' \n",
    "    ts = 'mpirun -np 64 python ../sphereNearPlane.py  -%s 1 ' % main_fun\n",
    "    ts = ts + ' -sm %s -epsilon %f ' % (sm, epsilon)\n",
    "    ts = ts + ' -rs %f -ds %f -es %f -h2Plane %f ' % (rs, ds, es, h2Plane)\n",
    "    ts = ts + ' -move_x %f -move_y %f -move_z %f ' % (move_x, move_y, move_z)\n",
    "    ts = ts + ' -ksp_max_it %d -ksp_rtol %e -ksp_atol %e -f %s' % (ksp_max_it, ksp_rtol, ksp_atol, f)\n",
    "    return ts\n",
    "\n",
    "# write_pbs_head = spf.write_pbs_head_haiguang\n",
    "# sm, epsilon = 'rs_plane', 0.3\n",
    "# rs, ds, es = 1, 0.03, 0\n",
    "# ksp_max_it, ksp_rtol, ksp_atol = 1000, 1e-10, 1e-100\n",
    "# move_y, move_z = 0, 0 \n",
    "# move_x_list = np.array((1.25, 2, 2.5, 3))\n",
    "# # h2Plane_list = np.hstack((np.linspace(1.1, 1.9, 9), np.linspace(2, 9, 8), \n",
    "# #                           np.linspace(10, 100, 19)[:-1], np.linspace(100, 1000, 19)))\n",
    "# h2Plane_list = np.array(1.5)\n",
    "# job_dir = 'twoSphereNearPlane_b'\n",
    "# njob_node, use_node = 1, 1\n",
    "\n",
    "write_pbs_head = spf.write_pbs_head_haiguang\n",
    "sm, epsilon = 'rs', 0.3\n",
    "rs, ds, es = 1, 0.03, 0\n",
    "ksp_max_it, ksp_rtol, ksp_atol = 1000, 1e-10, 1e-100\n",
    "move_y, move_z = 0, 0 \n",
    "move_x_list = np.array((1.25, 2, 2.5, 3))\n",
    "# h2Plane_list = np.hstack((np.linspace(1.1, 1.9, 9), np.linspace(2, 9, 8), \n",
    "#                           np.linspace(10, 100, 19)[:-1], np.linspace(100, 1000, 19)))\n",
    "h2Plane_list = np.array(1.5)\n",
    "job_dir = 'twoSphere_b'\n",
    "njob_node, use_node = 1, 1\n",
    "\n",
    "###############################################################################################\n",
    "# generate all comment file. \n",
    "comm_list = []\n",
    "txt_list = []\n",
    "move_x_list, h2Plane_list = np.meshgrid(move_x_list, h2Plane_list)\n",
    "for move_x, h2Plane in zip(move_x_list.ravel(), h2Plane_list.ravel()):\n",
    "    f = 'h%.4f_movex%.4f' % (h2Plane, move_x)\n",
    "    ts = comm_twoSsphere(sm, epsilon, rs, ds, es, h2Plane, \n",
    "                         move_x, move_y, move_z, \n",
    "                         ksp_max_it, ksp_rtol, ksp_atol, f)\n",
    "    comm_list.append(ts)\n",
    "    txt_list.append(f)\n",
    "spf.write_main_run_comm_list(comm_list, txt_list, use_node, njob_node, job_dir, \n",
    "                             write_pbs_head, n_job_pbs, random_order=random_order)"
   ]
  },
  {
   "cell_type": "code",
   "execution_count": 4,
   "metadata": {},
   "outputs": [
    {
     "data": {
      "text/plain": [
       "array([ 1,  2,  4,  8, 16])"
      ]
     },
     "execution_count": 4,
     "metadata": {},
     "output_type": "execute_result"
    }
   ],
   "source": []
  },
  {
   "cell_type": "code",
   "execution_count": 13,
   "metadata": {},
   "outputs": [
    {
     "data": {
      "text/plain": [
       "[<matplotlib.lines.Line2D at 0x7f3a9c7f02b0>]"
      ]
     },
     "execution_count": 13,
     "metadata": {},
     "output_type": "execute_result"
    },
    {
     "data": {
      "image/png": "[encoded data removed]",
      "text/plain": [
       "<Figure size 432x288 with 1 Axes>"
      ]
     },
     "metadata": {
      "needs_background": "light"
     },
     "output_type": "display_data"
    }
   ],
   "source": [
    "from matplotlib import pyplot as plt\n",
    "import numpy as np\n",
    "\n",
    "prc0 = np.array((14900, 30800, 60800, 99300, 318800, 336900))\n",
    "level = np.arange(prc0.size) + 1\n",
    "# level = np.array((1,  2,    3,     4,     5     ))\n",
    "\n",
    "prc1 = prc0[0] * (2 ** (level - level[0]))\n",
    "plt.semilogy(level, prc0, '.')\n",
    "plt.semilogy(level, prc1)"
   ]
  },
  {
   "cell_type": "code",
   "execution_count": null,
   "metadata": {},
   "outputs": [],
   "source": []
  }
 ],
 "metadata": {
  "kernelspec": {
   "display_name": "Python 3",
   "language": "python",
   "name": "python3"
  },
  "language_info": {
   "codemirror_mode": {
    "name": "ipython",
    "version": 3
   },
   "file_extension": ".py",
   "mimetype": "text/x-python",
   "name": "python",
   "nbconvert_exporter": "python",
   "pygments_lexer": "ipython3",
   "version": "3.5.6"
  }
 },
 "nbformat": 4,
 "nbformat_minor": 4
}
