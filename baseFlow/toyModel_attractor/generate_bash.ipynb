{
 "cells": [
  {
   "cell_type": "code",
   "execution_count": 1,
   "metadata": {},
   "outputs": [],
   "source": [
    "%load_ext autoreload\n",
    "%autoreload 2\n",
    "\n",
    "import numpy as np\n",
    "import os\n",
    "from codeStore import support_fun as spf\n",
    "import importlib\n",
    "PWD = os.getcwd()"
   ]
  },
  {
   "cell_type": "markdown",
   "metadata": {},
   "source": [
    "## calculate $\\omega_1^{E4}$ and $\\omega_2^{E4}$"
   ]
  },
  {
   "cell_type": "raw",
   "metadata": {},
   "source": [
    "pythonmpi ../ecoli_strain_rate.py -rh11 0.300000  -rh12 0.100000  -rh2 0.030000  -ch 3.000000  -nth 3 -eh -0.1  -ph 0.666667 -hfct 1.000000  -n_tail 1  -with_cover 2  -left_hand 0 -rs1 0.500000  -rs2 0.166667  -ds 0.1 -es -1.000000  -with_T_geo 0  -dist_hs 0.500000 -ksp_max_it 10 -plot_geo 0  -ffweight 2.000000  -sm pf  -zoom_factor 1.000000 -f ecoC01B05_baseFlow -main_fun_iter 1\n"
   ]
  },
  {
   "cell_type": "code",
   "execution_count": 9,
   "metadata": {},
   "outputs": [
    {
     "name": "stdout",
     "output_type": "stream",
     "text": [
      "make folder /home/zhangji/stokes_flow_master/baseFlow/toyModel_attractor/omega_E42_zero_d\n",
      "input 513 cases.\n",
      "generate 1 pbs files in total.\n",
      " --->>random order mode is ON. \n",
      "Command of first case is:\n",
      "mpirun -np 24 python ../../../head_Force/ecoli_strain_rate.py  -main_fun 1  -sm lg_rs -legendre_m 3 -legendre_k 2 -epsilon 3.000000  -rh11 1.000000 -rh12 1.000000 -rh2 0.100000 -nth 12 -eh 0.000000 -ph 6.500000 -ch 8.500000 -n_tail 1  -rs1 0.500000 -rs2 2.000000 -ds 0.115000 -es 0.000000  -hfct 1.000000 -with_cover 2 -with_T_geo 0 -left_hand 0 -dist_hs 0.500000 -ksp_max_it 500 -ksp_rtol 1.000000e-05 -ksp_atol 1.000000e-50 -ffweight 2.000000 -f ph6.5000_ch8.5000\n"
     ]
    },
    {
     "data": {
      "text/plain": [
       "True"
      ]
     },
     "execution_count": 9,
     "metadata": {},
     "output_type": "execute_result"
    }
   ],
   "source": [
    "use_node = 3\n",
    "njob_node = 1\n",
    "n_job_pbs = use_node * njob_node\n",
    "random_order = True\n",
    "n_job_pbs = 10000\n",
    "\n",
    "# pythonmpi ../ecoli_strain_rate.py -rh11 0.300000  -rh12 0.100000  -rh2 0.030000  -ch 3.000000  -nth 10  \n",
    "#   -eh -1.000000  -ph 0.666667 -hfct 1.000000  -n_tail 1  -with_cover 2  -left_hand 0  \n",
    "#   -rs1 0.500000  -rs2 0.166667  -ds 0.023333  -es -1.000000  -with_T_geo 0  -dist_hs 0.500000  \n",
    "#   -ksp_max_it 1000  -plot_geo 0  -ffweight 2.000000  -sm pf  -zoom_factor 1.000000 -f ecoC01B05_baseFlow\n",
    "\n",
    "# mpirun -n 24 python ../../single_ecoli.py -pickProblem 0 -save_singleEcoli_vtk 0 -rh1 1 -rh2 0.09653 \n",
    "#   -eh -0.8 -ph 2.3938 -hfct 1 -with_cover 2 -left_hand 0 -dist_hs 0.5019 \n",
    "#   -rs1 2.162 -rs2 2.162 -ls 4.7645 -ds 0.15 -es -1 -rT1 1 -rT2 0.07722 -ntT 20 -eT -0.8 -with_T_geo 1 \n",
    "#   -ksp_max_it 500 -plot_geo 0 -rel_wsz 0 -rel_whz 1 -ffweight 2 -forcepipe R09l20 \n",
    "#   -sm pf -nth 20 -ch 0.500000 -prb_index 001 -zoom_factor 1.000000 -f eq30_050_0000 > eq30_050_0000.txt\n",
    "\n",
    "def comm_ecoli_strain_rate(sm, legendre_m, legendre_k, epsilon, \n",
    "                           rh11, rh12, rh2, nth, eh, ph, ch, n_tail, \n",
    "                           rs1, rs2, ds, es, \n",
    "                           hfct, with_cover, with_T_geo, left_hand, dist_hs, \n",
    "                           ksp_max_it, ksp_rtol, ksp_atol, ffweight, f,\n",
    "                           mpinp=24): \n",
    "    main_fun = 'main_fun' \n",
    "    ts = 'mpirun -np %d python ../../../head_Force/ecoli_strain_rate.py  -%s 1 ' % (mpinp, main_fun)\n",
    "    ts = ts + ' -sm %s -legendre_m %d -legendre_k %d -epsilon %f ' % \\\n",
    "                (sm,    legendre_m,    legendre_k,    epsilon)\n",
    "    ts = ts + ' -rh11 %f -rh12 %f -rh2 %f -nth %d -eh %f -ph %f -ch %f -n_tail %d ' % \\\n",
    "                (rh11,    rh12,    rh2,    nth,    eh,    ph,    ch,    n_tail)\n",
    "    ts = ts + ' -rs1 %f -rs2 %f -ds %f -es %f ' % \\\n",
    "                (rs1,    rs2,    ds,    es)\n",
    "    ts = ts + ' -hfct %f -with_cover %d -with_T_geo %d -left_hand %d -dist_hs %f' % \\\n",
    "                (hfct,    with_cover,    with_T_geo,    left_hand,    dist_hs)\n",
    "    ts = ts + ' -ksp_max_it %d -ksp_rtol %e -ksp_atol %e -ffweight %f -f %s' % \\\n",
    "                (ksp_max_it,    ksp_rtol,    ksp_atol,    ffweight,    f)\n",
    "    return ts\n",
    "\n",
    "# write_pbs_head = spf.write_pbs_head_haiguang\n",
    "# sm, legendre_m, legendre_k, epsilon = 'lg_rs', 3, 2, 3\n",
    "# rh11, rh12, rh2, nth, eh, n_tail = 1, 1, 0.1, 20, -1, 1\n",
    "# rs1, rs2, ds, es = 0.5, 2, 0.07, -1\n",
    "# hfct, with_cover, with_T_geo, left_hand, dist_hs = 1, 2, 0, 0, 0.5\n",
    "# ksp_max_it, ksp_rtol, ksp_atol, ffweight = 1000, 1e-20, 1e-200, 2\n",
    "# ph_list = np.linspace(1, 10, 1)\n",
    "# ch_list = np.hstack((np.linspace(0.1, 1, 10)[:-1], np.linspace(1, 10, 19)[:-1]))\n",
    "# job_dir = 'omega_E42_zero_a'\n",
    "# use_node, mpinp = 1, 64\n",
    "\n",
    "# write_pbs_head = spf.write_pbs_head_haiguang\n",
    "# sm, legendre_m, legendre_k, epsilon = 'lg_rs', 3, 2, 3\n",
    "# rh11, rh12, rh2, nth, eh, n_tail = 1, 1, 0.1, 12, -1, 1\n",
    "# rs1, rs2, ds, es = 0.5, 2, 0.115, -1\n",
    "# hfct, with_cover, with_T_geo, left_hand, dist_hs = 1, 2, 0, 0, 0.5\n",
    "# ksp_max_it, ksp_rtol, ksp_atol, ffweight = 1000, 1e-20, 1e-200, 2\n",
    "# ph_list = np.linspace(1, 10, 1)\n",
    "# ch_list = np.hstack((np.linspace(0.1, 1, 10)[:-1], np.linspace(1, 10, 19)[:-1]))\n",
    "# job_dir = 'omega_E42_zero_b'\n",
    "# use_node, mpinp = 1, 64\n",
    "\n",
    "# write_pbs_head = spf.write_pbs_head_haiguang\n",
    "# sm, legendre_m, legendre_k, epsilon = 'lg_rs', 3, 2, 3\n",
    "# rh11, rh12, rh2, nth, eh, n_tail = 1, 1, 0.1, 12, -1, 1\n",
    "# rs1, rs2, ds, es = 0.5, 2, 0.115, -1\n",
    "# hfct, with_cover, with_T_geo, left_hand, dist_hs = 1, 2, 0, 0, 0.5\n",
    "# ksp_max_it, ksp_rtol, ksp_atol, ffweight = 1000, 1e-20, 1e-200, 2\n",
    "# ph_list = np.linspace(2, 10, 1)\n",
    "# ch_list = np.hstack((np.linspace(0.1, 1, 10)[:-1], np.linspace(1, 10, 19)[:-1]))\n",
    "# job_dir = 'omega_E42_zero_c'\n",
    "# njob_node, use_node, mpinp = 1, 1, 64\n",
    "\n",
    "write_pbs_head = spf.write_pbs_head_haiguang\n",
    "sm, legendre_m, legendre_k, epsilon = 'lg_rs', 3, 2, 3\n",
    "rh11, rh12, rh2, nth, eh, n_tail = 1, 1, 0.1, 12, 0, 1\n",
    "rs1, rs2, ds, es = 0.5, 2, 0.115, 0\n",
    "hfct, with_cover, with_T_geo, left_hand, dist_hs = 1, 2, 0, 0, 0.5\n",
    "ksp_max_it, ksp_rtol, ksp_atol, ffweight = 500, 1e-5, 1e-50, 2\n",
    "ph_list = np.linspace(1, 10, 19)\n",
    "ch_list = np.hstack((np.linspace(0.1, 1, 10)[:-1], np.linspace(1, 10, 19)[:-1]))\n",
    "job_dir = 'omega_E42_zero_d'\n",
    "njob_node, use_node, mpinp = 5, 1, 24\n",
    "\n",
    "###############################################################################################\n",
    "# generate all comment file. \n",
    "comm_list = []\n",
    "txt_list = []\n",
    "ph_list, ch_list = np.meshgrid(ph_list, ch_list)\n",
    "for ph, ch in zip(ph_list.ravel(), ch_list.ravel()):\n",
    "    f = 'ph%.4f_ch%.4f' % (ph, ch)\n",
    "    ts = comm_ecoli_strain_rate(sm, legendre_m, legendre_k, epsilon, \n",
    "                                rh11, rh12, rh2, nth, eh, ph, ch, n_tail, \n",
    "                                rs1, rs2, ds, es, \n",
    "                                hfct, with_cover, with_T_geo, left_hand, dist_hs, \n",
    "                                ksp_max_it, ksp_rtol, ksp_atol, ffweight, f, mpinp=mpinp)\n",
    "    comm_list.append(ts)\n",
    "    txt_list.append(f)\n",
    "spf.write_main_run_comm_list(comm_list, txt_list, use_node, njob_node, job_dir, \n",
    "                             write_pbs_head, n_job_pbs, random_order=random_order)\n"
   ]
  },
  {
   "cell_type": "code",
   "execution_count": 7,
   "metadata": {},
   "outputs": [
    {
     "data": {
      "text/plain": [
       "array([ 1. ,  1.5,  2. ,  2.5,  3. ,  3.5,  4. ,  4.5,  5. ,  5.5,  6. ,\n",
       "        6.5,  7. ,  7.5,  8. ,  8.5,  9. ,  9.5, 10. ])"
      ]
     },
     "execution_count": 7,
     "metadata": {},
     "output_type": "execute_result"
    }
   ],
   "source": [
    "np.linspace(1, 10, 19)"
   ]
  }
 ],
 "metadata": {
  "kernelspec": {
   "display_name": "Python 3",
   "language": "python",
   "name": "python3"
  },
  "language_info": {
   "codemirror_mode": {
    "name": "ipython",
    "version": 3
   },
   "file_extension": ".py",
   "mimetype": "text/x-python",
   "name": "python",
   "nbconvert_exporter": "python",
   "pygments_lexer": "ipython3",
   "version": "3.5.6"
  }
 },
 "nbformat": 4,
 "nbformat_minor": 4
}
