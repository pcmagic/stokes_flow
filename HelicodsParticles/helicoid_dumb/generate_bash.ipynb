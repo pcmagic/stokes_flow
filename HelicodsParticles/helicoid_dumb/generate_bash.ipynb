{
 "cells": [
  {
   "cell_type": "code",
   "execution_count": 1,
   "metadata": {},
   "outputs": [],
   "source": [
    "%load_ext autoreload\n",
    "%autoreload 2\n",
    "\n",
    "import numpy as np\n",
    "import os\n",
    "from codeStore import support_fun as spf\n",
    "import importlib\n",
    "PWD = os.getcwd()"
   ]
  },
  {
   "cell_type": "code",
   "execution_count": 85,
   "metadata": {},
   "outputs": [
    {
     "name": "stdout",
     "output_type": "stream",
     "text": [
      "exist folder /home/zhangji/stokes_flow_master/HelicodsParticles/helicoid_dumb/Collins2020_smFig1_f2\n",
      "input 39 cases.\n",
      "generate 1 pbs files in total.\n",
      " --->>random order mode is ON. \n",
      "Command of first case is:\n",
      "mpirun -np 24 python ../../obj_helicoid_dumb.py  -main_resistanceMatrix_dumb 1  -sm lg_rs -legendre_m 3 -legendre_k 2 -epsilon 3.000000  -rs 1.000000 -ds 0.110000 -dumb_d 5.000000 -dumb_theta 2.356194  -helicoid_r 25.000000 -helicoid_ndsk_each 4 -ksp_max_it 500 -f c25\n"
     ]
    },
    {
     "data": {
      "text/plain": [
       "True"
      ]
     },
     "execution_count": 85,
     "metadata": {},
     "output_type": "execute_result"
    }
   ],
   "source": [
    "use_node = 3\n",
    "njob_node = 1\n",
    "n_job_pbs = use_node * njob_node\n",
    "random_order = True\n",
    "n_job_pbs = 10000\n",
    "\n",
    "def comm_obj_helicoid_dumb(sm, legendre_m, legendre_k, epsilon, \n",
    "                           rs, ds, dumb_d, dumb_theta, \n",
    "                           helicoid_r, helicoid_ndsk_each, \n",
    "                           ksp_max_it, f):\n",
    "    main_fun = 'main_resistanceMatrix_dumb' \n",
    "    ts = 'mpirun -np 24 python ../../obj_helicoid_dumb.py  -%s 1 ' % main_fun\n",
    "    ts = ts + ' -sm %s -legendre_m %d -legendre_k %d -epsilon %f ' % (sm, legendre_m, legendre_k, epsilon)\n",
    "    ts = ts + ' -rs %f -ds %f -dumb_d %f -dumb_theta %f ' % (rs, ds, dumb_d, dumb_theta)\n",
    "    ts = ts + ' -helicoid_r %f -helicoid_ndsk_each %d' % (helicoid_r, helicoid_ndsk_each)\n",
    "    ts = ts + ' -ksp_max_it %d -f %s' % (ksp_max_it, f)\n",
    "    return ts\n",
    "\n",
    "# write_pbs_head = spf.write_pbs_head\n",
    "# sm, legendre_m, legendre_k, epsilon = 'lg_rs', 3, 2, 3\n",
    "# rs, ds, dumb_d, dumb_theta = 1, 0.2, 5, np.pi/3 \n",
    "# helicoid_ndsk_each, ksp_max_it = 4, 500\n",
    "# helicoid_r_fct_list = np.hstack((np.linspace(1, 9, 9), 10 ** np.linspace(1, 3, 30)))\n",
    "# job_dir = 'Collins2020_smFig1_a'\n",
    "# use_node = 5\n",
    "\n",
    "# write_pbs_head = spf.write_pbs_head\n",
    "# sm, legendre_m, legendre_k, epsilon = 'lg_rs', 3, 2, 3\n",
    "# rs, ds, dumb_d, dumb_theta = 1, 0.2, 5, np.pi/4\n",
    "# helicoid_ndsk_each, ksp_max_it = 4, 500\n",
    "# helicoid_r_fct_list = np.hstack((np.linspace(1, 9, 9), 10 ** np.linspace(1, 3, 30)))\n",
    "# job_dir = 'Collins2020_smFig1_b'\n",
    "# use_node = 5\n",
    "\n",
    "# write_pbs_head = spf.write_pbs_head\n",
    "# sm, legendre_m, legendre_k, epsilon = 'lg_rs', 3, 2, 3\n",
    "# rs, ds, dumb_d, dumb_theta = 1, 0.2, 5, np.pi/6\n",
    "# helicoid_ndsk_each, ksp_max_it = 4, 500\n",
    "# helicoid_r_fct_list = np.hstack((np.linspace(1, 9, 9), 10 ** np.linspace(1, 3, 30)))\n",
    "# job_dir = 'Collins2020_smFig1_c'\n",
    "# use_node = 5\n",
    "\n",
    "# write_pbs_head = spf.write_pbs_head\n",
    "# sm, legendre_m, legendre_k, epsilon = 'lg_rs', 3, 2, 3\n",
    "# rs, ds, dumb_d, dumb_theta = 1, 0.2, 5, np.pi/2 \n",
    "# helicoid_ndsk_each, ksp_max_it = 4, 500\n",
    "# helicoid_r_fct_list = np.hstack((np.linspace(1, 9, 9), 10 ** np.linspace(1, 3, 30)))\n",
    "# job_dir = 'Collins2020_smFig1_d'\n",
    "# use_node = 5\n",
    "\n",
    "# write_pbs_head = spf.write_pbs_head\n",
    "# sm, legendre_m, legendre_k, epsilon = 'lg_rs', 3, 2, 3\n",
    "# rs, ds, dumb_d, dumb_theta = 1, 0.2, 5, np.pi/3 * 2 \n",
    "# helicoid_ndsk_each, ksp_max_it = 4, 500\n",
    "# helicoid_r_fct_list = np.hstack((np.linspace(1, 9, 9), 10 ** np.linspace(1, 3, 30)))\n",
    "# job_dir = 'Collins2020_smFig1_e'\n",
    "# use_node = 5\n",
    "\n",
    "# write_pbs_head = spf.write_pbs_head\n",
    "# sm, legendre_m, legendre_k, epsilon = 'lg_rs', 3, 2, 3\n",
    "# rs, ds, dumb_d, dumb_theta = 1, 0.2, 5, np.pi/4 * 3\n",
    "# helicoid_ndsk_each, ksp_max_it = 4, 500\n",
    "# helicoid_r_fct_list = np.hstack((np.linspace(1, 9, 9), 10 ** np.linspace(1, 3, 30)))\n",
    "# job_dir = 'Collins2020_smFig1_f'\n",
    "# use_node = 5\n",
    "\n",
    "write_pbs_head = spf.write_pbs_head\n",
    "sm, legendre_m, legendre_k, epsilon = 'lg_rs', 3, 2, 3\n",
    "rs, ds, dumb_d, dumb_theta = 1, 0.11, 5, np.pi/4 * 3\n",
    "helicoid_ndsk_each, ksp_max_it = 4, 500\n",
    "helicoid_r_fct_list = np.hstack((np.linspace(1, 9, 9), 10 ** np.linspace(1, 3, 30)))\n",
    "job_dir = 'Collins2020_smFig1_f2'\n",
    "use_node = 5\n",
    "\n",
    "# write_pbs_head = spf.write_pbs_head\n",
    "# sm, legendre_m, legendre_k, epsilon = 'lg_rs', 3, 2, 3\n",
    "# rs, ds, dumb_d, dumb_theta = 1, 0.2, 5, np.pi/6 * 5\n",
    "# helicoid_ndsk_each, ksp_max_it = 4, 500\n",
    "# helicoid_r_fct_list = np.hstack((np.linspace(1, 9, 9), 10 ** np.linspace(1, 3, 30)))\n",
    "# job_dir = 'Collins2020_smFig1_g'\n",
    "# use_node = 5\n",
    "\n",
    "###############################################################################################\n",
    "t_path = os.path.join(PWD, job_dir)\n",
    "if not os.path.exists(t_path):\n",
    "    os.makedirs(t_path)\n",
    "# generate all comment file. \n",
    "comm_list = []\n",
    "txt_list = []\n",
    "for helicoid_r_fct in helicoid_r_fct_list:\n",
    "    helicoid_r = helicoid_r_fct * dumb_d\n",
    "    f = 'c%d' % helicoid_r\n",
    "    ts = comm_obj_helicoid_dumb(sm, legendre_m, legendre_k, epsilon, \n",
    "                                rs, ds, dumb_d, dumb_theta, \n",
    "                                helicoid_r, helicoid_ndsk_each, \n",
    "                                ksp_max_it, f)\n",
    "    comm_list.append(ts)\n",
    "    txt_list.append(f)\n",
    "spf.write_main_run_comm_list(comm_list, txt_list, use_node, njob_node, job_dir, \n",
    "                             write_pbs_head, n_job_pbs, random_order=random_order)"
   ]
  },
  {
   "cell_type": "code",
   "execution_count": 15,
   "metadata": {},
   "outputs": [
    {
     "data": {
      "text/plain": [
       "array([1.00000000e+00, 2.00000000e+00, 3.00000000e+00, 4.00000000e+00,\n",
       "       5.00000000e+00, 6.00000000e+00, 7.00000000e+00, 8.00000000e+00,\n",
       "       9.00000000e+00, 1.00000000e+01, 1.37382380e+01, 1.88739182e+01,\n",
       "       2.59294380e+01, 3.56224789e+01, 4.89390092e+01, 6.72335754e+01,\n",
       "       9.23670857e+01, 1.26896100e+02, 1.74332882e+02, 2.39502662e+02,\n",
       "       3.29034456e+02, 4.52035366e+02, 6.21016942e+02, 8.53167852e+02,\n",
       "       1.17210230e+03, 1.61026203e+03, 2.21221629e+03, 3.03919538e+03,\n",
       "       4.17531894e+03, 5.73615251e+03, 7.88046282e+03, 1.08263673e+04,\n",
       "       1.48735211e+04, 2.04335972e+04, 2.80721620e+04, 3.85662042e+04,\n",
       "       5.29831691e+04, 7.27895384e+04, 1.00000000e+05])"
      ]
     },
     "execution_count": 15,
     "metadata": {},
     "output_type": "execute_result"
    }
   ],
   "source": [
    "np.hstack((np.linspace(1, 9, 9), 10 ** np.linspace(1, 5, 30)))"
   ]
  },
  {
   "cell_type": "markdown",
   "metadata": {},
   "source": [
    "## vary helicoid_r and dumb_theta at the same time"
   ]
  },
  {
   "cell_type": "code",
   "execution_count": 51,
   "metadata": {},
   "outputs": [
    {
     "name": "stdout",
     "output_type": "stream",
     "text": [
      "exist folder /home/zhangji/stokes_flow_master/HelicodsParticles/helicoid_dumb/Collins2020_smFig1_all_2b\n",
      "input 540 cases.\n",
      "generate 1 pbs files in total.\n",
      " --->>random order mode is ON. \n",
      "Command of first case is:\n",
      "mpirun -np 24 python ../../obj_helicoid_dumb.py  -main_resistanceMatrix_dumb 1  -sm lg_rs -legendre_m 3 -legendre_k 2 -epsilon 3.000000  -rs 1.000000 -ds 0.200000 -dumb_d 5.000000 -dumb_theta 0.324992  -helicoid_r 7000.000000 -helicoid_ndsk_each 4 -ksp_max_it 500 -f c7000.0000_th0.3250\n"
     ]
    },
    {
     "data": {
      "text/plain": [
       "True"
      ]
     },
     "execution_count": 51,
     "metadata": {},
     "output_type": "execute_result"
    }
   ],
   "source": [
    "use_node = 3\n",
    "njob_node = 1\n",
    "n_job_pbs = use_node * njob_node\n",
    "random_order = True\n",
    "n_job_pbs = 10000\n",
    "\n",
    "def comm_obj_helicoid_dumb(sm, legendre_m, legendre_k, epsilon, \n",
    "                           rs, ds, dumb_d, dumb_theta, \n",
    "                           helicoid_r, helicoid_ndsk_each, \n",
    "                           ksp_max_it, f):\n",
    "    main_fun = 'main_resistanceMatrix_dumb' \n",
    "    ts = 'mpirun -np 24 python ../../obj_helicoid_dumb.py  -%s 1 ' % main_fun\n",
    "    ts = ts + ' -sm %s -legendre_m %d -legendre_k %d -epsilon %f ' % (sm, legendre_m, legendre_k, epsilon)\n",
    "    ts = ts + ' -rs %f -ds %f -dumb_d %f -dumb_theta %f ' % (rs, ds, dumb_d, dumb_theta)\n",
    "    ts = ts + ' -helicoid_r %f -helicoid_ndsk_each %d' % (helicoid_r, helicoid_ndsk_each)\n",
    "    ts = ts + ' -ksp_max_it %d -f %s' % (ksp_max_it, f)\n",
    "    return ts\n",
    "\n",
    "# write_pbs_head = spf.write_pbs_head\n",
    "# sm, legendre_m, legendre_k, epsilon = 'lg_rs', 3, 2, 3\n",
    "# rs, ds, dumb_d = 1, 0.2, 5\n",
    "# helicoid_ndsk_each, ksp_max_it = 4, 500\n",
    "# helicoid_r_list = np.hstack((np.linspace(1, 9, 9), 10 ** np.linspace(1, 3, 30)))\n",
    "# dumb_theta_list = np.linspace(0, np.pi, 30)\n",
    "# job_dir = 'Collins2020_smFig1_all_1'\n",
    "# use_node = 30\n",
    "\n",
    "# write_pbs_head = spf.write_pbs_head\n",
    "# sm, legendre_m, legendre_k, epsilon = 'lg_rs', 3, 2, 3\n",
    "# rs, ds, dumb_d = 1, 0.2, 5\n",
    "# helicoid_ndsk_each, ksp_max_it = 4, 500\n",
    "# helicoid_r_list = np.hstack((np.linspace(1, 9, 9), 10 ** np.linspace(1, 3, 30)))\n",
    "# dumb_theta_list = np.linspace(0, np.pi, 30)\n",
    "# job_dir = 'Collins2020_smFig1_all_2'\n",
    "# use_node = 30\n",
    "\n",
    "write_pbs_head = spf.write_pbs_head\n",
    "sm, legendre_m, legendre_k, epsilon = 'lg_rs', 3, 2, 3\n",
    "rs, ds, dumb_d = 1, 0.2, 5\n",
    "helicoid_ndsk_each, ksp_max_it = 4, 500\n",
    "helicoid_r_list = np.linspace(1500, 10000, 18)\n",
    "dumb_theta_list = np.linspace(0, np.pi, 30)\n",
    "job_dir = 'Collins2020_smFig1_all_2b'\n",
    "use_node = 30\n",
    "\n",
    "###############################################################################################\n",
    "t_path = os.path.join(PWD, job_dir)\n",
    "if not os.path.exists(t_path):\n",
    "    os.makedirs(t_path)\n",
    "# generate all comment file. \n",
    "comm_list = []\n",
    "txt_list = []\n",
    "helicoid_r_list, dumb_theta_list = np.meshgrid(helicoid_r_list, dumb_theta_list)\n",
    "for helicoid_r, dumb_theta in zip(helicoid_r_list.ravel(), dumb_theta_list.ravel()):\n",
    "    f = 'c%.4f_th%.4f' % (helicoid_r, dumb_theta)\n",
    "    ts = comm_obj_helicoid_dumb(sm, legendre_m, legendre_k, epsilon, \n",
    "                                rs, ds, dumb_d, dumb_theta, \n",
    "                                helicoid_r, helicoid_ndsk_each, \n",
    "                                ksp_max_it, f)\n",
    "    comm_list.append(ts)\n",
    "    txt_list.append(f)\n",
    "spf.write_main_run_comm_list(comm_list, txt_list, use_node, njob_node, job_dir, \n",
    "                             write_pbs_head, n_job_pbs, random_order=random_order)"
   ]
  },
  {
   "cell_type": "code",
   "execution_count": 3,
   "metadata": {},
   "outputs": [
    {
     "data": {
      "text/plain": [
       "2.826"
      ]
     },
     "execution_count": 3,
     "metadata": {},
     "output_type": "execute_result"
    }
   ],
   "source": [
    "0.9 * 3.14"
   ]
  },
  {
   "cell_type": "code",
   "execution_count": 68,
   "metadata": {},
   "outputs": [
    {
     "name": "stdout",
     "output_type": "stream",
     "text": [
      "exist folder /home/zhangji/stokes_flow_master/HelicodsParticles/helicoid_dumb/dumbAtBtCt_2\n",
      "input 47 cases.\n",
      "generate 1 pbs files in total.\n",
      " --->>random order mode is ON. \n",
      "Command of first case is:\n",
      "python ../../dumbAtBtCt.py  -main_resistanceMatrix 1  -sm lg_rs -legendre_m 3 -legendre_k 2 -epsilon 3.000000  -rs 1.000000 -ds 0.200000 -dumb_d 10.000000 -dumb_theta 0.000000  -ksp_max_it 500 -f dumb_d10.0000\n"
     ]
    },
    {
     "data": {
      "text/plain": [
       "True"
      ]
     },
     "execution_count": 68,
     "metadata": {},
     "output_type": "execute_result"
    }
   ],
   "source": [
    "use_node = 3\n",
    "njob_node = 1\n",
    "n_job_pbs = use_node * njob_node\n",
    "random_order = True\n",
    "n_job_pbs = 10000\n",
    "\n",
    "def comm_dumbAtBtCt(sm, legendre_m, legendre_k, epsilon, \n",
    "                    rs, ds, dumb_d, dumb_theta, \n",
    "                    ksp_max_it, f):\n",
    "    main_fun = 'main_resistanceMatrix' \n",
    "    ts = 'python ../../dumbAtBtCt.py  -%s 1 ' % main_fun\n",
    "    ts = ts + ' -sm %s -legendre_m %d -legendre_k %d -epsilon %f ' % (sm, legendre_m, legendre_k, epsilon)\n",
    "    ts = ts + ' -rs %f -ds %f -dumb_d %f -dumb_theta %f ' % (rs, ds, dumb_d, dumb_theta)\n",
    "    ts = ts + ' -ksp_max_it %d -f %s' % (ksp_max_it, f)\n",
    "    return ts\n",
    "\n",
    "# write_pbs_head = spf.write_pbs_head\n",
    "# sm, legendre_m, legendre_k, epsilon = 'rs', 3, 2, 0.3\n",
    "# rs, ds, dumb_theta = 1, 0.2, 0\n",
    "# ksp_max_it = 500\n",
    "# dumb_d_list = np.hstack((np.linspace(3, 9, 7), 10 ** np.linspace(1, 4, 40)))\n",
    "# job_dir = 'dumbAtBtCt_1'\n",
    "# njob_node = 24\n",
    "# use_node = 1\n",
    "\n",
    "# write_pbs_head = spf.write_pbs_head\n",
    "# sm, legendre_m, legendre_k, epsilon = 'lg_rs', 3, 2, 3\n",
    "# rs, ds, dumb_theta = 1, 0.1, 0\n",
    "# ksp_max_it = 500\n",
    "# dumb_d_list = np.hstack((np.linspace(3, 9, 7), 10 ** np.linspace(1, 4, 40)))\n",
    "# job_dir = 'dumbAtBtCt_2'\n",
    "# njob_node = 24\n",
    "# use_node = 1\n",
    "\n",
    "###############################################################################################\n",
    "t_path = os.path.join(PWD, job_dir)\n",
    "if not os.path.exists(t_path):\n",
    "    os.makedirs(t_path)\n",
    "# generate all comment file. \n",
    "comm_list = []\n",
    "txt_list = []\n",
    "for dumb_d in dumb_d_list:\n",
    "    f = 'dumb_d%.4f' % dumb_d\n",
    "    ts = comm_dumbAtBtCt(sm, legendre_m, legendre_k, epsilon, \n",
    "                         rs, ds, dumb_d, dumb_theta, \n",
    "                         ksp_max_it, f)\n",
    "    comm_list.append(ts)\n",
    "    txt_list.append(f)\n",
    "spf.write_main_run_comm_list(comm_list, txt_list, use_node, njob_node, job_dir, \n",
    "                             write_pbs_head, n_job_pbs, random_order=random_order)"
   ]
  },
  {
   "cell_type": "code",
   "execution_count": 20,
   "metadata": {},
   "outputs": [
    {
     "data": {
      "text/plain": [
       "1e-10"
      ]
     },
     "execution_count": 20,
     "metadata": {},
     "output_type": "execute_result"
    }
   ],
   "source": [
    "1e-10"
   ]
  },
  {
   "cell_type": "markdown",
   "metadata": {},
   "source": [
    "## dumbell helicoid with center sphere"
   ]
  },
  {
   "cell_type": "code",
   "execution_count": 25,
   "metadata": {},
   "outputs": [
    {
     "name": "stdout",
     "output_type": "stream",
     "text": [
      "exist folder /home/zhangji/stokes_flow_master/HelicodsParticles/helicoid_dumb/helicoid_dumb_sphere_rcs0001\n",
      "input 50 cases.\n",
      "generate 1 pbs files in total.\n",
      " --->>random order mode is ON. \n",
      "Command of first case is:\n",
      "mpirun -np 24 python ../../obj_helicoid_dumb.py  -main_resistanceMatrix_dumb_sphere 1  -sm lg_rs -legendre_m 3 -legendre_k 2 -epsilon 3.000000  -rs 1.000000 -ds 0.200000 -dumb_d 5.000000 -dumb_theta 2.356194  -helicoid_r 25.595479 -helicoid_ndsk_each 4 -center_sphere_rs 1.000000 -center_sphere_ds 0.200000 -ksp_max_it 1000 -ksp_rtol 1.000000e-10 -ksp_atol 1.000000e-100 -f c25.5955_th2.3562\n"
     ]
    },
    {
     "data": {
      "text/plain": [
       "True"
      ]
     },
     "execution_count": 25,
     "metadata": {},
     "output_type": "execute_result"
    }
   ],
   "source": [
    "use_node = 3\n",
    "njob_node = 1\n",
    "n_job_pbs = use_node * njob_node\n",
    "random_order = True\n",
    "n_job_pbs = 10000\n",
    "\n",
    "def comm_obj_helicoid_dumb_sphere(sm, legendre_m, legendre_k, epsilon, \n",
    "                                  rs, ds, dumb_d, dumb_theta, \n",
    "                                  helicoid_r, helicoid_ndsk_each, \n",
    "                                  center_sphere_rs, center_sphere_ds, \n",
    "                                  ksp_max_it, f, ksp_rtol=1e-10, ksp_atol=1e-100):\n",
    "    main_fun = 'main_resistanceMatrix_dumb_sphere' \n",
    "    ts = 'mpirun -np 24 python ../../obj_helicoid_dumb.py  -%s 1 ' % main_fun\n",
    "    ts = ts + ' -sm %s -legendre_m %d -legendre_k %d -epsilon %f ' % (sm, legendre_m, legendre_k, epsilon)\n",
    "    ts = ts + ' -rs %f -ds %f -dumb_d %f -dumb_theta %f ' % (rs, ds, dumb_d, dumb_theta)\n",
    "    ts = ts + ' -helicoid_r %f -helicoid_ndsk_each %d' % (helicoid_r, helicoid_ndsk_each)\n",
    "    ts = ts + ' -center_sphere_rs %f -center_sphere_ds %f' % (center_sphere_rs, center_sphere_ds)\n",
    "    ts = ts + ' -ksp_max_it %d -ksp_rtol %e -ksp_atol %e -f %s' % (ksp_max_it, ksp_rtol, ksp_atol, f)\n",
    "    return ts\n",
    "\n",
    "write_pbs_head = spf.write_pbs_head_dbg\n",
    "sm, legendre_m, legendre_k, epsilon = 'lg_rs', 3, 2, 3\n",
    "rs, ds, dumb_d = 1, 0.2, 5\n",
    "helicoid_ndsk_each, ksp_max_it = 4, 1000\n",
    "helicoid_r_list = 10 ** np.linspace(1, 5, 50)\n",
    "center_sphere_rs, center_sphere_ds = 1, 0.2\n",
    "dumb_theta = 3 / 4 * np.pi\n",
    "job_dir = 'helicoid_dumb_sphere_rcs%04d' % center_sphere_rs\n",
    "use_node = 1\n",
    "\n",
    "# write_pbs_head = spf.write_pbs_head_dbg\n",
    "# sm, legendre_m, legendre_k, epsilon = 'lg_rs', 3, 2, 3\n",
    "# rs, ds, dumb_d = 1, 0.2, 5\n",
    "# helicoid_ndsk_each, ksp_max_it = 4, 1000\n",
    "# helicoid_r_list = 10 ** np.linspace(1, 5, 50)\n",
    "# center_sphere_rs, center_sphere_ds = 10, 0.3\n",
    "# dumb_theta = 3 / 4 * np.pi\n",
    "# job_dir = 'helicoid_dumb_sphere_rcs%04d' % center_sphere_rs\n",
    "# use_node = 1\n",
    "\n",
    "# write_pbs_head = spf.write_pbs_head_dbg\n",
    "# sm, legendre_m, legendre_k, epsilon = 'lg_rs', 3, 2, 3\n",
    "# rs, ds, dumb_d = 1, 0.2, 5\n",
    "# helicoid_ndsk_each, ksp_max_it = 4, 1000\n",
    "# helicoid_r_list = 10 ** np.linspace(2, 5, 50)\n",
    "# center_sphere_rs, center_sphere_ds = 100, 3\n",
    "# dumb_theta = 3 / 4 * np.pi\n",
    "# job_dir = 'helicoid_dumb_sphere_rcs%04d' % center_sphere_rs\n",
    "# use_node = 1\n",
    "\n",
    "###############################################################################################\n",
    "# generate all comment file. \n",
    "comm_list = []\n",
    "txt_list = []\n",
    "for helicoid_r in helicoid_r_list:\n",
    "    f = 'c%.4f_th%.4f' % (helicoid_r, dumb_theta)\n",
    "    ts = comm_obj_helicoid_dumb_sphere(sm, legendre_m, legendre_k, epsilon, \n",
    "                                       rs, ds, dumb_d, dumb_theta, \n",
    "                                       helicoid_r, helicoid_ndsk_each, \n",
    "                                       center_sphere_rs, center_sphere_ds, \n",
    "                                       ksp_max_it, f)\n",
    "    comm_list.append(ts)\n",
    "    txt_list.append(f)\n",
    "spf.write_main_run_comm_list(comm_list, txt_list, use_node, njob_node, job_dir, \n",
    "                             write_pbs_head, n_job_pbs, random_order=random_order)"
   ]
  },
  {
   "cell_type": "code",
   "execution_count": 4,
   "metadata": {},
   "outputs": [
    {
     "data": {
      "text/plain": [
       "2.356194490192345"
      ]
     },
     "execution_count": 4,
     "metadata": {},
     "output_type": "execute_result"
    }
   ],
   "source": [
    "3 / 4 * np.pi"
   ]
  },
  {
   "cell_type": "markdown",
   "metadata": {},
   "source": [
    "## two armed propeller"
   ]
  },
  {
   "cell_type": "code",
   "execution_count": 83,
   "metadata": {},
   "outputs": [
    {
     "name": "stdout",
     "output_type": "stream",
     "text": [
      "exist folder /home/zhangji/stokes_flow_master/HelicodsParticles/helicoid_dumb/twoArmPropeller_fig1_a\n",
      "input 230 cases.\n",
      "generate 1 pbs files in total.\n",
      " --->>random order mode is ON. \n",
      "Command of first case is:\n",
      "python ../../twoArmPropeller.py  -main_resistanceMatrix 1  -sm lg_rs -legendre_m 3 -legendre_k 2 -epsilon 3.000000  -rs 1.000000 -ds 0.100000 -dumb_d 5.000000 -dumb_theta 1.047198  -helicoid_r 26.836793 -helicoid_ndsk_each -1 -ksp_max_it 500 -f c26.8368_th1.0472\n"
     ]
    },
    {
     "data": {
      "text/plain": [
       "True"
      ]
     },
     "execution_count": 83,
     "metadata": {},
     "output_type": "execute_result"
    }
   ],
   "source": [
    "use_node = 3\n",
    "njob_node = 1\n",
    "n_job_pbs = use_node * njob_node\n",
    "random_order = True\n",
    "n_job_pbs = 10000\n",
    "\n",
    "def comm_twoArmPropeller(sm, legendre_m, legendre_k, epsilon, \n",
    "                         rs, ds, dumb_d, dumb_theta, \n",
    "                         helicoid_r, helicoid_ndsk_each, \n",
    "                         ksp_max_it, f):\n",
    "    main_fun = 'main_resistanceMatrix' \n",
    "    ts = 'python ../../twoArmPropeller.py  -%s 1 ' % main_fun\n",
    "    ts = ts + ' -sm %s -legendre_m %d -legendre_k %d -epsilon %f ' % (sm, legendre_m, legendre_k, epsilon)\n",
    "    ts = ts + ' -rs %f -ds %f -dumb_d %f -dumb_theta %f ' % (rs, ds, dumb_d, dumb_theta)\n",
    "    ts = ts + ' -helicoid_r %f -helicoid_ndsk_each %d' % (helicoid_r, helicoid_ndsk_each)\n",
    "    ts = ts + ' -ksp_max_it %d -f %s' % (ksp_max_it, f)\n",
    "    return ts\n",
    "\n",
    "# write_pbs_head = spf.write_pbs_head\n",
    "# sm, legendre_m, legendre_k, epsilon = 'rs', 3, 2, 0.3\n",
    "# rs, ds, dumb_d = 1, 0.1, 5\n",
    "# helicoid_ndsk_each, ksp_max_it = -1, 500\n",
    "# helicoid_r_list = np.hstack((np.linspace(5, 9, 5), 10 ** np.linspace(1, 4, 40)))\n",
    "# dumb_theta_list = np.linspace(0, np.pi, 30)\n",
    "# job_dir = 'twoArmPropeller_1'\n",
    "# njob_node = 24\n",
    "# use_node = 30\n",
    "\n",
    "# write_pbs_head = spf.write_pbs_head\n",
    "# sm, legendre_m, legendre_k, epsilon = 'lg_rs', 3, 2, 3\n",
    "# rs, ds, dumb_d = 1, 0.1, 5\n",
    "# helicoid_ndsk_each, ksp_max_it = -1, 500\n",
    "# helicoid_r_list = np.hstack((np.linspace(5, 9, 5), 10 ** np.linspace(1, 4, 40)))\n",
    "# dumb_theta_list = np.linspace(0, np.pi, 30)\n",
    "# job_dir = 'twoArmPropeller_2'\n",
    "# njob_node = 24\n",
    "# use_node = 30\n",
    "\n",
    "write_pbs_head = spf.write_pbs_head\n",
    "sm, legendre_m, legendre_k, epsilon = 'lg_rs', 3, 2, 3\n",
    "rs, ds, dumb_d = 1, 0.1, 5\n",
    "helicoid_ndsk_each, ksp_max_it = -1, 500\n",
    "helicoid_r_list = 10 ** np.linspace(np.log10(2), 2, 230)\n",
    "dumb_theta_list = [np.pi/3, ]\n",
    "job_dir = 'twoArmPropeller_fig1_a'\n",
    "njob_node = 20\n",
    "use_node = 3\n",
    "\n",
    "###############################################################################################\n",
    "t_path = os.path.join(PWD, job_dir)\n",
    "if not os.path.exists(t_path):\n",
    "    os.makedirs(t_path)\n",
    "# generate all comment file. \n",
    "comm_list = []\n",
    "txt_list = []\n",
    "helicoid_r_list, dumb_theta_list = np.meshgrid(helicoid_r_list, dumb_theta_list)\n",
    "for helicoid_r, dumb_theta in zip(helicoid_r_list.ravel(), dumb_theta_list.ravel()):\n",
    "    f = 'c%.4f_th%.4f' % (helicoid_r, dumb_theta)\n",
    "    ts = comm_twoArmPropeller(sm, legendre_m, legendre_k, epsilon, \n",
    "                              rs, ds, dumb_d, dumb_theta, \n",
    "                              helicoid_r, helicoid_ndsk_each, \n",
    "                              ksp_max_it, f)\n",
    "    comm_list.append(ts)\n",
    "    txt_list.append(f)\n",
    "spf.write_main_run_comm_list(comm_list, txt_list, use_node, njob_node, job_dir, \n",
    "                             write_pbs_head, n_job_pbs, random_order=random_order)"
   ]
  },
  {
   "cell_type": "code",
   "execution_count": null,
   "metadata": {},
   "outputs": [],
   "source": []
  }
 ],
 "metadata": {
  "kernelspec": {
   "display_name": "Python 3",
   "language": "python",
   "name": "python3"
  },
  "language_info": {
   "codemirror_mode": {
    "name": "ipython",
    "version": 3
   },
   "file_extension": ".py",
   "mimetype": "text/x-python",
   "name": "python",
   "nbconvert_exporter": "python",
   "pygments_lexer": "ipython3",
   "version": "3.5.6"
  }
 },
 "nbformat": 4,
 "nbformat_minor": 4
}
