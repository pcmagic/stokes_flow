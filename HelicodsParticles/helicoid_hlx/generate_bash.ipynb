{
 "cells": [
  {
   "cell_type": "code",
   "execution_count": 1,
   "metadata": {},
   "outputs": [],
   "source": [
    "%load_ext autoreload\n",
    "%autoreload 2\n",
    "\n",
    "import numpy as np\n",
    "import os\n",
    "from codeStore import support_fun as spf\n",
    "import importlib\n",
    "PWD = os.getcwd()"
   ]
  },
  {
   "cell_type": "markdown",
   "metadata": {},
   "source": [
    "## helix helicoid"
   ]
  },
  {
   "cell_type": "code",
   "execution_count": 18,
   "metadata": {},
   "outputs": [
    {
     "name": "stdout",
     "output_type": "stream",
     "text": [
      "exist folder /home/zhangji/stokes_flow_master/HelicodsParticles/helicoid_hlx/hlx_th0_b\n",
      "input 30 cases.\n",
      "generate 1 pbs files in total.\n",
      " --->>random order mode is ON. \n",
      "Command of first case is:\n",
      "mpirun -np 24 python ../../obj_helicoid_hlx.py  -main_resistanceMatrix_selfRotate 1  -sm lg_rs_selfRotate -legendre_m 3 -legendre_k 2 -epsilon 3.000000  -rh1 1.000000 -rh2 0.100000 -nth 12 -eh 0.000000 -ph 8.000000 -ch 4.000000 -n_tail 1  -hfct 1.000000 -with_cover 2 -with_T_geo 0 -left_hand 0  -helicoid_r 695.192796 -helicoid_th0 0.000000 -helicoid_ndsk_each 4 -ksp_max_it 1000 -ksp_rtol 1.000000e-20 -ksp_atol 1.000000e-200 -f c695.1928_ph8.0000_ch4.0000\n"
     ]
    },
    {
     "data": {
      "text/plain": [
       "True"
      ]
     },
     "execution_count": 18,
     "metadata": {},
     "output_type": "execute_result"
    }
   ],
   "source": [
    "use_node = 3\n",
    "njob_node = 1\n",
    "n_job_pbs = use_node * njob_node\n",
    "random_order = True\n",
    "n_job_pbs = 10000\n",
    "\n",
    "# pythonmpi ../obj_helicoid_hlx.py -sm lg_rs_selfRotate -legendre_m 3 -legendre_k 2 -epsilon 3 \n",
    "#  -rh1 1 -rh2 0.3 -eh 0 -ph 6.5 -nth 10 -ch 3 -hfct 1 -n_tail 1 -with_cover 2 -left_hand 0 \n",
    "#  -main_resistanceMatrix_selfRotate 1 -ksp_max_it 1000 -f dbg \n",
    "#  -helicoid_ndsk_each 4 -helicoid_th0 0 -helicoid_r 100\n",
    "def comm_obj_helicoid_hlx(sm, legendre_m, legendre_k, epsilon, \n",
    "                          rh1, rh2, nth, eh, ph, ch, n_tail, \n",
    "                          hfct, with_cover, with_T_geo, left_hand, \n",
    "                          helicoid_r, helicoid_th0, helicoid_ndsk_each, \n",
    "                          ksp_max_it, ksp_rtol, ksp_atol, f): \n",
    "    if 'rs' in sm:\n",
    "        err_msg = 'the regularized family methods requires eh==0. '\n",
    "        assert np.isclose(eh, 0), err_msg\n",
    "        \n",
    "    main_fun = 'main_resistanceMatrix_selfRotate' \n",
    "    ts = 'mpirun -np 24 python ../../obj_helicoid_hlx.py  -%s 1 ' % main_fun\n",
    "    ts = ts + ' -sm %s -legendre_m %d -legendre_k %d -epsilon %f ' % \\\n",
    "                (sm,    legendre_m,    legendre_k,    epsilon)\n",
    "    ts = ts + ' -rh1 %f -rh2 %f -nth %d -eh %f -ph %f -ch %f -n_tail %d ' % (rh1, rh2, nth, eh, ph, ch, n_tail)\n",
    "    ts = ts + ' -hfct %f -with_cover %d -with_T_geo %d -left_hand %d ' % (hfct, with_cover, with_T_geo, left_hand)\n",
    "    ts = ts + ' -helicoid_r %f -helicoid_th0 %f -helicoid_ndsk_each %d' % (helicoid_r, helicoid_th0, helicoid_ndsk_each)\n",
    "    ts = ts + ' -ksp_max_it %d -ksp_rtol %e -ksp_atol %e -f %s' % (ksp_max_it, ksp_rtol, ksp_atol, f)\n",
    "    return ts\n",
    "\n",
    "# write_pbs_head = spf.write_pbs_head\n",
    "# sm, legendre_m, legendre_k, epsilon = 'lg_rs_selfRotate', 3, 2, 3\n",
    "# rh1, rh2, nth, eh, n_tail = 1, 0.1, 11, -1, 1\n",
    "# hfct, with_cover, with_T_geo, left_hand = 1, 2, 0, 0\n",
    "# helicoid_th0, helicoid_ndsk_each, ksp_max_it, ksp_rtol, ksp_atol = 0, 4, 3000, 1e-20, 1e-200\n",
    "# ph_list = np.linspace(1, 10, 19)\n",
    "# # ch_list = np.array((0.1, 0.3, 0.5, 0.7, 0.9, 1, 1.5, 2, 2.5, 3, 3.5, 4))\n",
    "# ch_list = np.array((1, 1.5, 2, 2.5, 3, 3.5, 4))\n",
    "# helicoid_r_list = np.hstack((np.linspace(1, 9, 9), 10 ** np.linspace(1, 3, 30)))\n",
    "# job_dir = 'hlx_th0_a'\n",
    "# use_node = 20\n",
    "\n",
    "write_pbs_head = spf.write_pbs_head_dbg\n",
    "sm, legendre_m, legendre_k, epsilon = 'lg_rs_selfRotate', 3, 2, 3\n",
    "rh1, rh2, nth, eh, n_tail = 1, 0.1, 12, 0, 1\n",
    "hfct, with_cover, with_T_geo, left_hand = 1, 2, 0, 0\n",
    "helicoid_th0, helicoid_ndsk_each, ksp_max_it, ksp_rtol, ksp_atol = 0, 4, 1000, 1e-20, 1e-200\n",
    "ph_list = np.array((8, ))\n",
    "ch_list = np.array((4, ))\n",
    "helicoid_r_list = np.hstack((np.linspace(25, 100, 11)[:-1], 10 ** np.linspace(2, 3, 20)))\n",
    "job_dir = 'hlx_th0_b'\n",
    "use_node = 1\n",
    "\n",
    "###############################################################################################\n",
    "# generate all comment file. \n",
    "comm_list = []\n",
    "txt_list = []\n",
    "helicoid_r_list, ph_list, ch_list = np.meshgrid(helicoid_r_list, ph_list, ch_list)\n",
    "for helicoid_r, ph, ch in zip(helicoid_r_list.ravel(), ph_list.ravel(), ch_list.ravel()):\n",
    "    f = 'c%.4f_ph%.4f_ch%.4f' % (helicoid_r, ph, ch)\n",
    "    ts = comm_obj_helicoid_hlx(sm, legendre_m, legendre_k, epsilon, \n",
    "                               rh1, rh2, nth, eh, ph, ch, n_tail, \n",
    "                               hfct, with_cover, with_T_geo, left_hand, \n",
    "                               helicoid_r, helicoid_th0, helicoid_ndsk_each, \n",
    "                               ksp_max_it, ksp_rtol, ksp_atol, f)\n",
    "    comm_list.append(ts)\n",
    "    txt_list.append(f)\n",
    "spf.write_main_run_comm_list(comm_list, txt_list, use_node, njob_node, job_dir, \n",
    "                             write_pbs_head, n_job_pbs, random_order=random_order)"
   ]
  },
  {
   "cell_type": "markdown",
   "metadata": {},
   "source": [
    "## Single helix, very far limit of the helicoid"
   ]
  },
  {
   "cell_type": "code",
   "execution_count": 7,
   "metadata": {},
   "outputs": [
    {
     "name": "stdout",
     "output_type": "stream",
     "text": [
      "make folder /home/zhangji/stokes_flow_master/HelicodsParticles/helicoid_hlx/hlxPart_th0_c\n",
      "input 114 cases.\n",
      "generate 1 pbs files in total.\n",
      " --->>random order mode is ON. \n",
      "Command of first case is:\n",
      "mpirun -np 24 python ../../obj_helicoid_hlx.py  -main_resistanceMatrix_part 1  -sm lg_rs -legendre_m 3 -legendre_k 2 -epsilon 3.000000  -rh1 1.000000 -rh2 0.100000 -nth 10 -eh 0.000000 -ph 2.500000 -ch 5.000000 -n_tail 1  -hfct 1.000000 -with_cover 2 -with_T_geo 0 -left_hand 0  -ksp_max_it 1000 -ksp_rtol 1.000000e-20 -ksp_atol 1.000000e-200 -f ph2.5000_ch5.0000\n"
     ]
    },
    {
     "data": {
      "text/plain": [
       "True"
      ]
     },
     "execution_count": 7,
     "metadata": {},
     "output_type": "execute_result"
    }
   ],
   "source": [
    "use_node = 3\n",
    "njob_node = 1\n",
    "n_job_pbs = use_node * njob_node\n",
    "random_order = True\n",
    "n_job_pbs = 10000\n",
    "\n",
    "# mpirun -np 24 python ../obj_helicoid_hlx.py  -main_resistanceMatrix_part 1 -sm lg_rs -legendre_m 3 -legendre_k 2 -epsilon 3  \n",
    "#    -rh1 1.000000 -rh2 0.100000 -nth 11 -eh 0 -ph 3.500000 -ch 1.000000 -n_tail 1  \n",
    "#    -hfct 1.000000 -with_cover 2 -with_T_geo 0 -left_hand 0  \n",
    "#    -ksp_max_it 1000 -ksp_rtol 1.000000e-20 -ksp_atol 1.000000e-200 -f c1000.0000_ph3.5000_ch1.0000\n",
    "def comm_obj_helicoid_hlx_part(sm, legendre_m, legendre_k, epsilon, \n",
    "                               rh1, rh2, nth, eh, ph, ch, n_tail, \n",
    "                               hfct, with_cover, with_T_geo, left_hand, \n",
    "                               ksp_max_it, ksp_rtol, ksp_atol, f): \n",
    "    if 'rs' in sm:\n",
    "        err_msg = 'the regularized family methods requires eh==0. '\n",
    "        assert np.isclose(eh, 0), err_msg\n",
    "        \n",
    "    main_fun = 'main_resistanceMatrix_part' \n",
    "    ts = 'mpirun -np 24 python ../../obj_helicoid_hlx.py  -%s 1 ' % main_fun\n",
    "    ts = ts + ' -sm %s -legendre_m %d -legendre_k %d -epsilon %f ' % \\\n",
    "                (sm,    legendre_m,    legendre_k,    epsilon)\n",
    "    ts = ts + ' -rh1 %f -rh2 %f -nth %d -eh %f -ph %f -ch %f -n_tail %d ' % (rh1, rh2, nth, eh, ph, ch, n_tail)\n",
    "    ts = ts + ' -hfct %f -with_cover %d -with_T_geo %d -left_hand %d ' % (hfct, with_cover, with_T_geo, left_hand)\n",
    "    ts = ts + ' -ksp_max_it %d -ksp_rtol %e -ksp_atol %e -f %s' % (ksp_max_it, ksp_rtol, ksp_atol, f)\n",
    "    return ts\n",
    "\n",
    "# write_pbs_head = spf.write_pbs_head_haiguang\n",
    "# sm, legendre_m, legendre_k, epsilon = 'lg_rs', 3, 2, 3\n",
    "# rh1, rh2, nth, eh, n_tail = 1, 0.1, 12, 0, 1\n",
    "# hfct, with_cover, with_T_geo, left_hand = 1, 2, 0, 0\n",
    "# helicoid_th0, helicoid_ndsk_each, ksp_max_it, ksp_rtol, ksp_atol = 0, 4, 1000, 1e-20, 1e-200\n",
    "# ph_list = np.linspace(1, 10, 19)\n",
    "# ch_list = np.array((1, 1.5, 2, 2.5, 3, 3.5, 4))\n",
    "# job_dir = 'hlxPart_th0_a'\n",
    "# njob_node, use_node = 5, 1\n",
    "\n",
    "# write_pbs_head = spf.write_pbs_head_haiguang\n",
    "# sm, legendre_m, legendre_k, epsilon = 'lg_rs', 3, 2, 3\n",
    "# rh1, rh2, nth, eh, n_tail = 1, 0.1, 25, 0, 1\n",
    "# hfct, with_cover, with_T_geo, left_hand = 1, 2, 0, 0\n",
    "# helicoid_th0, helicoid_ndsk_each, ksp_max_it, ksp_rtol, ksp_atol = 0, 4, 1000, 1e-20, 1e-200\n",
    "# ph_list = np.linspace(1, 10, 19)\n",
    "# ch_list = np.array((0.1, 0.3, 0.5, 0.7, 0.9))\n",
    "# job_dir = 'hlxPart_th0_b'\n",
    "# njob_node, use_node = 5, 1\n",
    "\n",
    "# write_pbs_head = spf.write_pbs_head_haiguang\n",
    "# sm, legendre_m, legendre_k, epsilon = 'lg_rs', 3, 2, 3\n",
    "# rh1, rh2, nth, eh, n_tail = 1, 0.1, 10, 0, 1\n",
    "# hfct, with_cover, with_T_geo, left_hand = 1, 2, 0, 0\n",
    "# helicoid_th0, helicoid_ndsk_each, ksp_max_it, ksp_rtol, ksp_atol = 0, 4, 1000, 1e-20, 1e-200\n",
    "# ph_list = np.linspace(1, 10, 19)\n",
    "# ch_list = np.array((5, 6, 7, 8, 9, 10))\n",
    "# job_dir = 'hlxPart_th0_c'\n",
    "# njob_node, use_node = 5, 1\n",
    "\n",
    "###############################################################################################\n",
    "# generate all comment file. \n",
    "comm_list = []\n",
    "txt_list = []\n",
    "ph_list, ch_list = np.meshgrid(ph_list, ch_list)\n",
    "for ph, ch in zip(ph_list.ravel(), ch_list.ravel()):\n",
    "    f = 'ph%.4f_ch%.4f' % (ph, ch)\n",
    "    ts = comm_obj_helicoid_hlx_part(sm, legendre_m, legendre_k, epsilon, \n",
    "                                    rh1, rh2, nth, eh, ph, ch, n_tail, \n",
    "                                    hfct, with_cover, with_T_geo, left_hand, \n",
    "                                    ksp_max_it, ksp_rtol, ksp_atol, f)\n",
    "    comm_list.append(ts)\n",
    "    txt_list.append(f)\n",
    "spf.write_main_run_comm_list(comm_list, txt_list, use_node, njob_node, job_dir, \n",
    "                             write_pbs_head, n_job_pbs, random_order=random_order)"
   ]
  },
  {
   "cell_type": "markdown",
   "metadata": {},
   "source": [
    "## 20210926, start again"
   ]
  },
  {
   "cell_type": "markdown",
   "metadata": {},
   "source": [
    "#### local machine"
   ]
  },
  {
   "cell_type": "code",
   "execution_count": 2,
   "metadata": {},
   "outputs": [
    {
     "name": "stdout",
     "output_type": "stream",
     "text": [
      "make folder /home/zhangji/stokes_flow/HelicodsParticles/helicoid_hlx/hlx_th0_c\n",
      "Input 741 cases. \n",
      "Random order mode is True. \n",
      "Command of first case is:\n",
      "mpirun -np 24 python ../../obj_helicoid_hlx.py  -main_resistanceMatrix_selfRotate 1  -sm lg_rs_selfRotate -legendre_m 3 -legendre_k 2 -epsilon 3.000000  -rh1 1.000000 -rh2 0.100000 -nth 9 -eh 0.000000 -ph 3.000000 -ch 3.000000 -n_tail 1  -hfct 1.000000 -with_cover 2 -with_T_geo 0 -left_hand 0  -helicoid_r 30.391954 -helicoid_th0 0.000000 -helicoid_ndsk_each 4 -ksp_max_it 3000 -ksp_rtol 1.000000e-20 -ksp_atol 1.000000e-200 -f c30.3920_ph3.0000_ch3.0000\n"
     ]
    },
    {
     "data": {
      "text/plain": [
       "True"
      ]
     },
     "execution_count": 2,
     "metadata": {},
     "output_type": "execute_result"
    }
   ],
   "source": [
    "njob_node = 1\n",
    "random_order = True\n",
    "\n",
    "# pythonmpi ../obj_helicoid_hlx.py -sm lg_rs_selfRotate -legendre_m 3 -legendre_k 2 -epsilon 3 \n",
    "#  -rh1 1 -rh2 0.3 -eh 0 -ph 6.5 -nth 10 -ch 3 -hfct 1 -n_tail 1 -with_cover 2 -left_hand 0 \n",
    "#  -main_resistanceMatrix_selfRotate 1 -ksp_max_it 1000 -f dbg \n",
    "#  -helicoid_ndsk_each 4 -helicoid_th0 0 -helicoid_r 100\n",
    "def comm_obj_helicoid_hlx(sm, legendre_m, legendre_k, epsilon, \n",
    "                           rh1, rh2, nth, eh, ph, ch, n_tail, \n",
    "                           hfct, with_cover, with_T_geo, left_hand, \n",
    "                           helicoid_r, helicoid_th0, helicoid_ndsk_each, \n",
    "                           ksp_max_it, ksp_rtol, ksp_atol, f): \n",
    "    main_fun = 'main_resistanceMatrix_selfRotate' \n",
    "    ts = 'mpirun -np 24 python ../../obj_helicoid_hlx.py  -%s 1 ' % main_fun\n",
    "    ts = ts + ' -sm %s -legendre_m %d -legendre_k %d -epsilon %f ' % (sm, legendre_m, legendre_k, epsilon)\n",
    "    ts = ts + ' -rh1 %f -rh2 %f -nth %d -eh %f -ph %f -ch %f -n_tail %d ' % (rh1, rh2, nth, eh, ph, ch, n_tail)\n",
    "    ts = ts + ' -hfct %f -with_cover %d -with_T_geo %d -left_hand %d ' % (hfct, with_cover, with_T_geo, left_hand)\n",
    "    ts = ts + ' -helicoid_r %f -helicoid_th0 %f -helicoid_ndsk_each %d' % (helicoid_r, helicoid_th0, helicoid_ndsk_each)\n",
    "    ts = ts + ' -ksp_max_it %d -ksp_rtol %e -ksp_atol %e -f %s' % (ksp_max_it, ksp_rtol, ksp_atol, f)\n",
    "    return ts\n",
    "\n",
    "write_pbs_head = spf.write_pbs_head\n",
    "sm, legendre_m, legendre_k, epsilon = 'lg_rs_selfRotate', 3, 2, 3\n",
    "rh1, rh2, nth, eh, n_tail = 1, 0.1, 9, 0, 1\n",
    "hfct, with_cover, with_T_geo, left_hand = 1, 2, 0, 0\n",
    "helicoid_th0, helicoid_ndsk_each, ksp_max_it, ksp_rtol, ksp_atol = 0, 4, 3000, 1e-20, 1e-200\n",
    "ph_list = np.linspace(1, 10, 19)\n",
    "ch_list = np.array((3, ))\n",
    "helicoid_r_list = np.hstack((np.linspace(1, 9, 9), 10 ** np.linspace(1, 3, 30)))\n",
    "job_dir = 'hlx_th0_c'\n",
    "\n",
    "###############################################################################################\n",
    "# generate all comment file. \n",
    "comm_list = []\n",
    "txt_list = []\n",
    "helicoid_r_list, ph_list, ch_list = np.meshgrid(helicoid_r_list, ph_list, ch_list)\n",
    "for helicoid_r, ph, ch in zip(helicoid_r_list.ravel(), ph_list.ravel(), ch_list.ravel()):\n",
    "    f = 'c%.4f_ph%.4f_ch%.4f' % (helicoid_r, ph, ch)\n",
    "    ts = comm_obj_helicoid_hlx(sm, legendre_m, legendre_k, epsilon, \n",
    "                               rh1, rh2, nth, eh, ph, ch, n_tail, \n",
    "                               hfct, with_cover, with_T_geo, left_hand, \n",
    "                               helicoid_r, helicoid_th0, helicoid_ndsk_each, \n",
    "                               ksp_max_it, ksp_rtol, ksp_atol, f)\n",
    "    comm_list.append(ts)\n",
    "    txt_list.append(f)\n",
    "spf.write_main_run_local(comm_list, njob_node, job_dir, random_order=random_order)\n"
   ]
  },
  {
   "cell_type": "markdown",
   "metadata": {},
   "source": [
    "#### reomote, zjlab@sxjqbddfzyj-01, full simulation"
   ]
  },
  {
   "cell_type": "code",
   "execution_count": 92,
   "metadata": {},
   "outputs": [
    {
     "name": "stdout",
     "output_type": "stream",
     "text": [
      "exist folder /home/zhangji/stokes_flow/HelicodsParticles/helicoid_hlx/dbg\n",
      "Input 1 cases. \n",
      "Random order mode is True. \n",
      "Command of first case is:\n",
      "mpirun -np 3 python $HOME/stokes_flow/HelicodsParticles/obj_helicoid_hlx.py -main_resistanceMatrix_part 1  -sm lg_rs -legendre_m 3 -legendre_k 2 -epsilon 3.000000  -rh1 1.000000 -rh2 0.100000 -nth 9 -eh 0.000000 -ph 1.000000 -ch 1.000000 -n_tail 1  -hfct 1.000000 -with_cover 2 -with_T_geo 0 -left_hand 0  -ksp_max_it 1000 -ksp_rtol 1.000000e-20 -ksp_atol 1.000000e-200 -f ph1.0000_ch1.0000\n"
     ]
    },
    {
     "data": {
      "text/plain": [
       "True"
      ]
     },
     "execution_count": 92,
     "metadata": {},
     "output_type": "execute_result"
    }
   ],
   "source": [
    "njob_node = 1\n",
    "random_order = True\n",
    "mpinp = 4\n",
    "py_dir = '../../obj_helicoid_hlx.py'\n",
    "\n",
    "# mpirun -np 4 python ../obj_helicoid_hlx.py  -main_resistanceMatrix_part 1 -sm lg_rs -legendre_m 3 -legendre_k 2 -epsilon 3  \n",
    "#    -rh1 1.000000 -rh2 0.100000 -nth 11 -eh 0 -ph 3.500000 -ch 1.000000 -n_tail 1  \n",
    "#    -hfct 1.000000 -with_cover 2 -with_T_geo 0 -left_hand 0  \n",
    "#    -ksp_max_it 1000 -ksp_rtol 1.000000e-20 -ksp_atol 1.000000e-200 -f c1000.0000_ph3.5000_ch1.0000\n",
    "def comm_obj_helicoid_hlx_part(sm, legendre_m, legendre_k, epsilon, \n",
    "                               rh1, rh2, nth, eh, ph, ch, n_tail, \n",
    "                               hfct, with_cover, with_T_geo, left_hand, \n",
    "                               ksp_max_it, ksp_rtol, ksp_atol, f, \n",
    "                               py_dir, mpinp=24): \n",
    "    if 'rs' in sm:\n",
    "        err_msg = 'the regularized family methods requires eh==0. '\n",
    "        assert np.isclose(eh, 0), err_msg\n",
    "        \n",
    "    main_fun = 'main_resistanceMatrix_part' \n",
    "    ts = 'mpirun -np %d python %s -%s 1 ' % (mpinp, py_dir, main_fun, )\n",
    "    ts = ts + ' -sm %s -legendre_m %d -legendre_k %d -epsilon %f ' % \\\n",
    "                (sm,    legendre_m,    legendre_k,    epsilon)\n",
    "    ts = ts + ' -rh1 %f -rh2 %f -nth %d -eh %f -ph %f -ch %f -n_tail %d ' % (rh1, rh2, nth, eh, ph, ch, n_tail)\n",
    "    ts = ts + ' -hfct %f -with_cover %d -with_T_geo %d -left_hand %d ' % (hfct, with_cover, with_T_geo, left_hand)\n",
    "    ts = ts + ' -ksp_max_it %d -ksp_rtol %e -ksp_atol %e -f %s' % (ksp_max_it, ksp_rtol, ksp_atol, f)\n",
    "    return ts\n",
    "\n",
    "# # run the previous cases again, varify the code. \n",
    "# #----------------------------------------------------------------------\n",
    "# sm, legendre_m, legendre_k, epsilon = 'lg_rs', 3, 2, 3\n",
    "# rh1, rh2, eh, n_tail = 1, 0.1, 0, 1\n",
    "# hfct, with_cover, with_T_geo, left_hand = 1, 2, 0, 0\n",
    "# helicoid_th0, helicoid_ndsk_each, ksp_max_it, ksp_rtol, ksp_atol = 0, 4, 1000, 1e-20, 1e-200\n",
    "# mpinp, py_dir = 32, '/home/zjlab/stokes_flow/HelicodsParticles/obj_helicoid_hlx.py' \n",
    "# # # \n",
    "# # nth = 9\n",
    "# # ph_list = np.linspace(1, 10, 19)\n",
    "# # ch_list = np.array((1, 1.5, 2, 2.5, 3, 3.5, 4))\n",
    "# # job_dir = 'hlxPart_th0_a2'\n",
    "# # # \n",
    "# # nth = 15\n",
    "# # ph_list = np.linspace(1, 10, 19)\n",
    "# # ch_list = np.array((1, 1.5, 2, 2.5, 3, 3.5, 4))\n",
    "# # job_dir = 'hlxPart_th0_a3'\n",
    "# # # \n",
    "# # nth = 9\n",
    "# # ph_list = np.linspace(1, 10, 19)\n",
    "# # ch_list = np.array((0.1, 0.3, 0.5, 0.7, 0.9))\n",
    "# # job_dir = 'hlxPart_th0_b2'\n",
    "# # \n",
    "# nth = 24\n",
    "# ph_list = np.linspace(1, 10, 19)\n",
    "# ch_list = np.array((0.1, 0.3, 0.5, 0.7, 0.9))\n",
    "# job_dir = 'hlxPart_th0_b3'\n",
    "# # # \n",
    "# # nth = 9\n",
    "# # ph_list = np.linspace(1, 10, 19)\n",
    "# # ch_list = np.array((5, 6, 7, 8, 9, 10))\n",
    "# # job_dir = 'hlxPart_th0_c2'\n",
    "# # # \n",
    "# # nth = 12\n",
    "# # ph_list = np.linspace(1, 10, 19)\n",
    "# # ch_list = np.array((5, 6, 7, 8, 9, 10))\n",
    "# # job_dir = 'hlxPart_th0_c3'\n",
    "\n",
    "# # further longer helix\n",
    "# # ----------------------------------------------------------------------\n",
    "# sm, legendre_m, legendre_k, epsilon = 'lg_rs', 3, 2, 3\n",
    "# rh1, rh2, eh, n_tail = 1, 0.1, 0, 1\n",
    "# hfct, with_cover, with_T_geo, left_hand = 1, 2, 0, 0\n",
    "# helicoid_th0, helicoid_ndsk_each, ksp_max_it, ksp_rtol, ksp_atol = 0, 4, 1000, 1e-20, 1e-200\n",
    "# mpinp, py_dir = 32, '$HOME/stokes_flow/HelicodsParticles/obj_helicoid_hlx.py' \n",
    "# # \n",
    "# nth = 6\n",
    "# ph_list = np.linspace(1, 10, 10)\n",
    "# ch_list = np.linspace(15, 55, 9)\n",
    "# job_dir = 'hlxPart_th0_d2'\n",
    "\n",
    "# dbg\n",
    "# ----------------------------------------------------------------------\n",
    "sm, legendre_m, legendre_k, epsilon = 'lg_rs', 3, 2, 3\n",
    "rh1, rh2, eh, n_tail = 1, 0.1, 0, 1\n",
    "hfct, with_cover, with_T_geo, left_hand = 1, 2, 0, 0\n",
    "helicoid_th0, helicoid_ndsk_each, ksp_max_it, ksp_rtol, ksp_atol = 0, 4, 1000, 1e-20, 1e-200\n",
    "mpinp, py_dir = 3, '$HOME/stokes_flow/HelicodsParticles/obj_helicoid_hlx.py' \n",
    "# \n",
    "nth = 9\n",
    "ph_list = np.linspace(1, 10, 1)\n",
    "ch_list = np.linspace(1, 40, 1)\n",
    "job_dir = 'dbg'\n",
    "\n",
    "###############################################################################################\n",
    "# generate all comment file. \n",
    "comm_list = []\n",
    "ph_list, ch_list = np.meshgrid(ph_list, ch_list)\n",
    "for ph, ch in zip(ph_list.ravel(), ch_list.ravel()):\n",
    "    f = 'ph%.4f_ch%.4f' % (ph, ch)\n",
    "    ts = comm_obj_helicoid_hlx_part(sm, legendre_m, legendre_k, epsilon, \n",
    "                                    rh1, rh2, nth, eh, ph, ch, n_tail, \n",
    "                                    hfct, with_cover, with_T_geo, left_hand, \n",
    "                                    ksp_max_it, ksp_rtol, ksp_atol, f, \n",
    "                                    py_dir, mpinp)\n",
    "    comm_list.append(ts)\n",
    "spf.write_main_run_local(comm_list, njob_node, job_dir, random_order=random_order)"
   ]
  },
  {
   "cell_type": "markdown",
   "metadata": {},
   "source": [
    "#### reomote, zjlab@sxjqbddfzyj-03, full simulation\n",
    "#### Motivation: rotational symmetry \n",
    "previously, we found, for the helix along $z$ axis\n",
    "\n",
    "$r_x = r_t \\cos \\left( \\theta \\right)$,\n",
    "\n",
    "$r_y = r_t \\sin \\left( \\theta \\right)$,\n",
    "\n",
    "$r_z = \\lambda \\frac{\\theta}{2 \\pi}$. \n",
    "\n",
    "that translate along $x$ axis in a unite speed, the center part (ignore the contribution of the end effects) of the force distributions along the helix have the following formulations:\n",
    "\n",
    "$f_x = \\alpha_0 \\cos \\left( 4 \\pi n \\right) + \\alpha_1$, \n",
    "\n",
    "$f_y = \\alpha_0 \\cos \\left( 4 \\pi n \\right)$, \n",
    "\n",
    "$f_x = \\alpha_2 \\sin \\left( 2 \\pi n \\right)$. \n",
    "\n",
    "#### Guess:\n",
    "for the helix\n",
    "\n",
    "$r_x = r_t \\cos \\left( \\theta + \\theta_0 \\right)$,\n",
    "\n",
    "$r_y = r_t \\sin \\left( \\theta + \\theta_0 \\right)$,\n",
    "\n",
    "$r_z = \\lambda \\frac{\\theta}{2 \\pi}$. "
   ]
  },
  {
   "cell_type": "code",
   "execution_count": null,
   "metadata": {},
   "outputs": [],
   "source": []
  },
  {
   "cell_type": "markdown",
   "metadata": {},
   "source": [
    "#### reomote, zjlab@sxjqbddfzyj-01, slender body theory"
   ]
  },
  {
   "cell_type": "code",
   "execution_count": 7,
   "metadata": {},
   "outputs": [
    {
     "name": "stdout",
     "output_type": "stream",
     "text": [
      "make folder /home/zhangji/stokes_flow/HelicodsParticles/helicoid_hlx/hlxPart_SLB_a3\n",
      "Input 304 cases. \n",
      "Random order mode is True. \n",
      "Command of first case is:\n",
      "mpirun -np 32 python $HOME/stokes_flow/HelicodsParticles/obj_helicoid_SLB.py -main_resistanceMatrix_part 1  -sm lighthill_slb  -rh1 1.000000 -rh2 0.100000 -ph 7.500000 -ch 970.000000  -n_sgm 20 -n_tail 1  -ffweight 2.000000 -ksp_max_it 1000 -ksp_rtol 1.000000e-20 -ksp_atol 1.000000e-200  -f ph7.5000_ch970.0000 \n"
     ]
    },
    {
     "data": {
      "text/plain": [
       "True"
      ]
     },
     "execution_count": 7,
     "metadata": {},
     "output_type": "execute_result"
    }
   ],
   "source": [
    "njob_node = 1\n",
    "random_order = True\n",
    "mpinp = 4\n",
    "py_dir = '../../obj_helicoid_SLB.py'\n",
    "\n",
    "# mpirun -np 4 python /home/$HOSTNAME/stokes_flow/HelicodsParticles/obj_helicoid_SLB.py  \n",
    "#   -main_resistanceMatrix_part 1 -sm lighthill_slb \n",
    "#   -rh1 1.000000 -rh2 0.100000 -ph 6.5 -ch 10 \n",
    "#   -n_sgm 15 -n_tail 1 \n",
    "#   -ffweight 2 -ksp_max_it 1000 -ksp_rtol 1.000000e-100 -ksp_atol 1.000000e-1000 \n",
    "#   -f dbg_slb_lighthill \n",
    "def comm_obj_helicoid_SLB_part(sm, rh1, rh2, ch, ph, \n",
    "                               n_sgm, n_tail, \n",
    "                               ffweight, ksp_max_it, ksp_rtol, ksp_atol, \n",
    "                               f, py_dir, mpinp=24 ): \n",
    "    if 'rs' in sm:\n",
    "        err_msg = 'the regularized family methods requires eh==0. '\n",
    "        assert np.isclose(eh, 0), err_msg\n",
    "        \n",
    "    main_fun = 'main_resistanceMatrix_part' \n",
    "    ts = 'mpirun -np %d python %s -%s 1 ' % (mpinp, py_dir, main_fun, )\n",
    "    ts = ts + ' -sm %s ' % \\\n",
    "                (sm,    )\n",
    "    ts = ts + ' -rh1 %f -rh2 %f -ph %f -ch %f ' % \\\n",
    "                (rh1,    rh2,    ph,    ch, )\n",
    "    ts = ts + ' -n_sgm %d -n_tail %d ' % \\\n",
    "                (n_sgm,    n_tail, )\n",
    "    ts = ts + ' -ffweight %f -ksp_max_it %d -ksp_rtol %e -ksp_atol %e ' % \\\n",
    "                (ffweight,    ksp_max_it,    ksp_rtol,    ksp_atol)\n",
    "    ts = ts + ' -f %s ' % f\n",
    "    return ts\n",
    "\n",
    "# compare with full simulation. \n",
    "#----------------------------------------------------------------------\n",
    "sm = 'lighthill_slb' \n",
    "rh1, rh2, n_tail = 1, 0.1, 1\n",
    "ffweight, ksp_max_it, ksp_rtol, ksp_atol = 2, 1000, 1e-20, 1e-200\n",
    "py_dir = '$HOME/stokes_flow/HelicodsParticles/obj_helicoid_SLB.py' \n",
    "mpinp, njob_node = 32, 1\n",
    "# #\n",
    "# n_sgm = 20\n",
    "# ph_list = np.linspace(1, 10, 19)\n",
    "# ch_list = np.hstack((np.linspace(1, 10, 19), np.linspace(11, 100, 90)))\n",
    "# job_dir = 'hlxPart_SLB_a1'\n",
    "# #\n",
    "# n_sgm = 20\n",
    "# ph_list = np.linspace(1, 10, 19)\n",
    "# ch_list = np.linspace(100, 1000, 91)\n",
    "# job_dir = 'hlxPart_SLB_a2'\n",
    "#\n",
    "n_sgm = 20\n",
    "ph_list = np.linspace(1, 10, 19)\n",
    "ch_list = np.linspace(100, 1000, 91)[-16:]\n",
    "job_dir = 'hlxPart_SLB_a3'\n",
    "\n",
    "\n",
    "###############################################################################################\n",
    "# generate all comment file. \n",
    "comm_list = []\n",
    "ph_list, ch_list = np.meshgrid(ph_list, ch_list)\n",
    "for ph, ch in zip(ph_list.ravel(), ch_list.ravel()):\n",
    "    f = 'ph%.4f_ch%.4f' % (ph, ch)\n",
    "    ts = comm_obj_helicoid_SLB_part(sm, rh1, rh2, ch, ph, \n",
    "                                    n_sgm, n_tail, \n",
    "                                    ffweight, ksp_max_it, ksp_rtol, ksp_atol, \n",
    "                                    f, py_dir, mpinp)\n",
    "    comm_list.append(ts)\n",
    "spf.write_main_run_local(comm_list, njob_node, job_dir, random_order=random_order)"
   ]
  },
  {
   "cell_type": "markdown",
   "metadata": {},
   "source": []
  },
  {
   "cell_type": "markdown",
   "metadata": {
    "scrolled": false
   },
   "source": [
    "#### reomote, zjlab@sxjqbddfzyj-03, "
   ]
  },
  {
   "cell_type": "code",
   "execution_count": 18,
   "metadata": {},
   "outputs": [
    {
     "name": "stdout",
     "output_type": "stream",
     "text": [
      "make folder /home/zhangji/stokes_flow/HelicodsParticles/helicoid_hlx/hlx_th0_d4\n",
      "Input 57 cases. \n",
      "Random order mode is True. \n",
      "Command of first case is:\n",
      "mpirun -np 32 python $HOME/stokes_flow/HelicodsParticles/obj_helicoid_hlx.py -main_resistanceMatrix_selfRotate 1  -sm lg_rs_selfRotate -legendre_m 3 -legendre_k 2 -epsilon 3.000000  -rh1 1.000000 -rh2 0.100000 -nth 6 -eh 0.000000 -ph 7.000000 -ch 8.000000 -n_tail 1  -hfct 1.000000 -with_cover 2 -with_T_geo 0 -left_hand 0  -helicoid_r 100000.000000 -helicoid_th0 0.000000 -helicoid_ndsk_each 4 -ksp_max_it 3000 -ksp_rtol 1.000000e-20 -ksp_atol 1.000000e-200 -f c100000.0000_ph7.0000_ch8.0000\n"
     ]
    },
    {
     "data": {
      "text/plain": [
       "True"
      ]
     },
     "execution_count": 18,
     "metadata": {},
     "output_type": "execute_result"
    }
   ],
   "source": [
    "njob_node = 1\n",
    "random_order = True\n",
    "mpinp = 4\n",
    "py_dir = '../../obj_helicoid_hlx.py'\n",
    "\n",
    "# pythonmpi ../obj_helicoid_hlx.py -sm lg_rs_selfRotate -legendre_m 3 -legendre_k 2 -epsilon 3 \n",
    "#  -rh1 1 -rh2 0.3 -eh 0 -ph 6.5 -nth 10 -ch 3 -hfct 1 -n_tail 1 -with_cover 2 -left_hand 0 \n",
    "#  -main_resistanceMatrix_selfRotate 1 -ksp_max_it 1000 -f dbg \n",
    "#  -helicoid_ndsk_each 4 -helicoid_th0 0 -helicoid_r 100\n",
    "def comm_obj_helicoid_hlx(sm, legendre_m, legendre_k, epsilon, \n",
    "                           rh1, rh2, nth, eh, ph, ch, n_tail, \n",
    "                           hfct, with_cover, with_T_geo, left_hand, \n",
    "                           helicoid_r, helicoid_th0, helicoid_ndsk_each, \n",
    "                           ksp_max_it, ksp_rtol, ksp_atol, f, \n",
    "                           py_dir, mpinp=24): \n",
    "    main_fun = 'main_resistanceMatrix_selfRotate' \n",
    "    ts = 'mpirun -np %d python %s -%s 1 ' % (mpinp, py_dir, main_fun)\n",
    "    ts = ts + ' -sm %s -legendre_m %d -legendre_k %d -epsilon %f ' % (sm, legendre_m, legendre_k, epsilon)\n",
    "    ts = ts + ' -rh1 %f -rh2 %f -nth %d -eh %f -ph %f -ch %f -n_tail %d ' % (rh1, rh2, nth, eh, ph, ch, n_tail)\n",
    "    ts = ts + ' -hfct %f -with_cover %d -with_T_geo %d -left_hand %d ' % (hfct, with_cover, with_T_geo, left_hand)\n",
    "    ts = ts + ' -helicoid_r %f -helicoid_th0 %f -helicoid_ndsk_each %d' % (helicoid_r, helicoid_th0, helicoid_ndsk_each)\n",
    "    ts = ts + ' -ksp_max_it %d -ksp_rtol %e -ksp_atol %e -f %s' % (ksp_max_it, ksp_rtol, ksp_atol, f)\n",
    "    return ts\n",
    "\n",
    "#-------------------------------------------------------------------------------------\n",
    "write_pbs_head = spf.write_pbs_head\n",
    "sm, legendre_m, legendre_k, epsilon = 'lg_rs_selfRotate', 3, 2, 3\n",
    "rh1, rh2, eh, n_tail = 1, 0.1, 0, 1\n",
    "hfct, with_cover, with_T_geo, left_hand = 1, 2, 0, 0\n",
    "helicoid_th0, helicoid_ndsk_each, ksp_max_it, ksp_rtol, ksp_atol = 0, 4, 3000, 1e-20, 1e-200\n",
    "mpinp, py_dir = 32, '$HOME/stokes_flow/HelicodsParticles/obj_helicoid_hlx.py' \n",
    "\n",
    "# # sxjqbddfzyj-03, 10.101.80.35\n",
    "# nth = 24 \n",
    "# ph_list = np.linspace(1, 10, 19)\n",
    "# ch_list = np.array((0.1, 0.3, 0.5, 0.7, 0.9))\n",
    "# helicoid_r_list = np.array((10 ** 5))\n",
    "# job_dir = 'hlx_th0_d1'\n",
    "\n",
    "# # sxjqbddfzyj-04, 10.101.80.36\n",
    "# nth = 15 \n",
    "# ph_list = np.linspace(1, 10, 19)\n",
    "# ch_list = np.array((1, 1.5, 2, 2.5, 3))\n",
    "# helicoid_r_list = np.array((10 ** 5))\n",
    "# job_dir = 'hlx_th0_d2'\n",
    "\n",
    "# # sxjqbddfzyj-05, 10.101.80.37\n",
    "# nth = 9\n",
    "# ph_list = np.linspace(1, 10, 19)\n",
    "# ch_list = np.array((4, 5, 6, 7))\n",
    "# helicoid_r_list = np.array((10 ** 5))\n",
    "# job_dir = 'hlx_th0_d3'\n",
    "\n",
    "# # sxjqbddfzyj-01, 10.101.80.33\n",
    "# nth = 6\n",
    "# ph_list = np.linspace(1, 10, 19)\n",
    "# ch_list = np.array((8, 9, 10))\n",
    "# helicoid_r_list = np.array((10 ** 5))\n",
    "# job_dir = 'hlx_th0_d4'\n",
    "\n",
    "###############################################################################################\n",
    "# generate all comment file. \n",
    "comm_list = []\n",
    "txt_list = []\n",
    "helicoid_r_list, ph_list, ch_list = np.meshgrid(helicoid_r_list, ph_list, ch_list)\n",
    "for helicoid_r, ph, ch in zip(helicoid_r_list.ravel(), ph_list.ravel(), ch_list.ravel()):\n",
    "    f = 'c%.4f_ph%.4f_ch%.4f' % (helicoid_r, ph, ch)\n",
    "    ts = comm_obj_helicoid_hlx(sm, legendre_m, legendre_k, epsilon, \n",
    "                               rh1, rh2, nth, eh, ph, ch, n_tail, \n",
    "                               hfct, with_cover, with_T_geo, left_hand, \n",
    "                               helicoid_r, helicoid_th0, helicoid_ndsk_each, \n",
    "                               ksp_max_it, ksp_rtol, ksp_atol, f, \n",
    "                               py_dir, mpinp)\n",
    "    comm_list.append(ts)\n",
    "    txt_list.append(f)\n",
    "spf.write_main_run_local(comm_list, njob_node, job_dir, random_order=random_order)\n"
   ]
  },
  {
   "cell_type": "code",
   "execution_count": null,
   "metadata": {},
   "outputs": [],
   "source": []
  },
  {
   "cell_type": "code",
   "execution_count": null,
   "metadata": {},
   "outputs": [],
   "source": []
  }
 ],
 "metadata": {
  "kernelspec": {
   "display_name": "Python 3",
   "language": "python",
   "name": "python3"
  },
  "language_info": {
   "codemirror_mode": {
    "name": "ipython",
    "version": 3
   },
   "file_extension": ".py",
   "mimetype": "text/x-python",
   "name": "python",
   "nbconvert_exporter": "python",
   "pygments_lexer": "ipython3",
   "version": "3.8.8"
  }
 },
 "nbformat": 4,
 "nbformat_minor": 4
}
