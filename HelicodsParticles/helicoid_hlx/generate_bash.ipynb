{
 "cells": [
  {
   "cell_type": "code",
   "execution_count": 1,
   "metadata": {},
   "outputs": [],
   "source": [
    "%load_ext autoreload\n",
    "%autoreload 2\n",
    "\n",
    "import numpy as np\n",
    "import os\n",
    "from codeStore import support_fun as spf\n",
    "import importlib\n",
    "PWD = os.getcwd()"
   ]
  },
  {
   "cell_type": "markdown",
   "metadata": {},
   "source": [
    "## helix helicoid"
   ]
  },
  {
   "cell_type": "code",
   "execution_count": 11,
   "metadata": {},
   "outputs": [
    {
     "name": "stdout",
     "output_type": "stream",
     "text": [
      "make folder /home/zhangji/stokes_flow_master/HelicodsParticles/helicoid_hlx/hlx_th0_a\n",
      "input 5187 cases.\n",
      "generate 1 pbs files in total.\n",
      " --->>random order mode is ON. \n",
      "Command of first case is:\n",
      "mpirun -np 24 python ../../obj_helicoid_hlx.py  -main_resistanceMatrix_selfRotate 1  -sm lg_rs_selfRotate -legendre_m 3 -legendre_k 2 -epsilon 3.000000  -rh1 1.000000 -rh2 0.100000 -nth 11 -eh -1.000000 -ph 6.000000 -ch 4.000000 -n_tail 1  -hfct 1.000000 -with_cover 2 -with_T_geo 0 -left_hand 0  -helicoid_r 280.721620 -helicoid_th0 0.000000 -helicoid_ndsk_each 4 -ksp_max_it 3000 -ksp_rtol 1.000000e-20 -ksp_atol 1.000000e-200 -f c280.7216_ph6.0000_ch4.0000\n"
     ]
    },
    {
     "data": {
      "text/plain": [
       "True"
      ]
     },
     "execution_count": 11,
     "metadata": {},
     "output_type": "execute_result"
    }
   ],
   "source": [
    "use_node = 3\n",
    "njob_node = 1\n",
    "n_job_pbs = use_node * njob_node\n",
    "random_order = True\n",
    "n_job_pbs = 10000\n",
    "\n",
    "# pythonmpi ../obj_helicoid_hlx.py -sm lg_rs_selfRotate -legendre_m 3 -legendre_k 2 -epsilon 3 \n",
    "#  -rh1 1 -rh2 0.3 -eh 0 -ph 6.5 -nth 10 -ch 3 -hfct 1 -n_tail 1 -with_cover 2 -left_hand 0 \n",
    "#  -main_resistanceMatrix_selfRotate 1 -ksp_max_it 1000 -f dbg \n",
    "#  -helicoid_ndsk_each 4 -helicoid_th0 0 -helicoid_r 100\n",
    "def comm_obj_helicoid_dumb(sm, legendre_m, legendre_k, epsilon, \n",
    "                           rh1, rh2, nth, eh, ph, ch, n_tail, \n",
    "                           hfct, with_cover, with_T_geo, left_hand, \n",
    "                           helicoid_r, helicoid_th0, helicoid_ndsk_each, \n",
    "                           ksp_max_it, ksp_rtol, ksp_atol, f): \n",
    "    main_fun = 'main_resistanceMatrix_selfRotate' \n",
    "    ts = 'mpirun -np 24 python ../../obj_helicoid_hlx.py  -%s 1 ' % main_fun\n",
    "    ts = ts + ' -sm %s -legendre_m %d -legendre_k %d -epsilon %f ' % (sm, legendre_m, legendre_k, epsilon)\n",
    "    ts = ts + ' -rh1 %f -rh2 %f -nth %d -eh %f -ph %f -ch %f -n_tail %d ' % (rh1, rh2, nth, eh, ph, ch, n_tail)\n",
    "    ts = ts + ' -hfct %f -with_cover %d -with_T_geo %d -left_hand %d ' % (hfct, with_cover, with_T_geo, left_hand)\n",
    "    ts = ts + ' -helicoid_r %f -helicoid_th0 %f -helicoid_ndsk_each %d' % (helicoid_r, helicoid_th0, helicoid_ndsk_each)\n",
    "    ts = ts + ' -ksp_max_it %d -ksp_rtol %e -ksp_atol %e -f %s' % (ksp_max_it, ksp_rtol, ksp_atol, f)\n",
    "    return ts\n",
    "\n",
    "write_pbs_head = spf.write_pbs_head\n",
    "sm, legendre_m, legendre_k, epsilon = 'lg_rs_selfRotate', 3, 2, 3\n",
    "rh1, rh2, nth, eh, n_tail = 1, 0.1, 11, -1, 1\n",
    "hfct, with_cover, with_T_geo, left_hand = 1, 2, 0, 0\n",
    "helicoid_th0, helicoid_ndsk_each, ksp_max_it, ksp_rtol, ksp_atol = 0, 4, 3000, 1e-20, 1e-200\n",
    "ph_list = np.linspace(1, 10, 19)\n",
    "# ch_list = np.array((0.1, 0.3, 0.5, 0.7, 0.9, 1, 1.5, 2, 2.5, 3, 3.5, 4))\n",
    "ch_list = np.array((1, 1.5, 2, 2.5, 3, 3.5, 4))\n",
    "helicoid_r_list = np.hstack((np.linspace(1, 9, 9), 10 ** np.linspace(1, 3, 30)))\n",
    "job_dir = 'hlx_th0_a'\n",
    "use_node = 20\n",
    "\n",
    "###############################################################################################\n",
    "# generate all comment file. \n",
    "comm_list = []\n",
    "txt_list = []\n",
    "helicoid_r_list, ph_list, ch_list = np.meshgrid(helicoid_r_list, ph_list, ch_list)\n",
    "for helicoid_r, ph, ch in zip(helicoid_r_list.ravel(), ph_list.ravel(), ch_list.ravel()):\n",
    "    f = 'c%.4f_ph%.4f_ch%.4f' % (helicoid_r, ph, ch)\n",
    "    ts = comm_obj_helicoid_dumb(sm, legendre_m, legendre_k, epsilon, \n",
    "                                rh1, rh2, nth, eh, ph, ch, n_tail, \n",
    "                                hfct, with_cover, with_T_geo, left_hand, \n",
    "                                helicoid_r, helicoid_th0, helicoid_ndsk_each, \n",
    "                                ksp_max_it, ksp_rtol, ksp_atol, f)\n",
    "    comm_list.append(ts)\n",
    "    txt_list.append(f)\n",
    "spf.write_main_run_comm_list(comm_list, txt_list, use_node, njob_node, job_dir, \n",
    "                             write_pbs_head, n_job_pbs, random_order=random_order)\n"
   ]
  },
  {
   "cell_type": "code",
   "execution_count": 7,
   "metadata": {},
   "outputs": [
    {
     "data": {
      "text/plain": [
       "array([   1.        ,    2.        ,    3.        ,    4.        ,\n",
       "          5.        ,    6.        ,    7.        ,    8.        ,\n",
       "          9.        ,   10.        ,   11.72102298,   13.73823796,\n",
       "         16.10262028,   18.87391822,   22.12216291,   25.92943797,\n",
       "         30.39195382,   35.6224789 ,   41.75318937,   48.93900918,\n",
       "         57.3615251 ,   67.23357536,   78.80462816,   92.36708572,\n",
       "        108.26367339,  126.89610032,  148.73521073,  174.33288222,\n",
       "        204.33597179,  239.502662  ,  280.72162039,  329.03445623,\n",
       "        385.66204212,  452.03536564,  529.83169063,  621.01694189,\n",
       "        727.8953844 ,  853.16785242, 1000.        ])"
      ]
     },
     "execution_count": 7,
     "metadata": {},
     "output_type": "execute_result"
    }
   ],
   "source": [
    "np.hstack((np.linspace(1, 9, 9), 10 ** np.linspace(1, 3, 30)))"
   ]
  }
 ],
 "metadata": {
  "kernelspec": {
   "display_name": "Python 3",
   "language": "python",
   "name": "python3"
  },
  "language_info": {
   "codemirror_mode": {
    "name": "ipython",
    "version": 3
   },
   "file_extension": ".py",
   "mimetype": "text/x-python",
   "name": "python",
   "nbconvert_exporter": "python",
   "pygments_lexer": "ipython3",
   "version": "3.5.6"
  }
 },
 "nbformat": 4,
 "nbformat_minor": 4
}
