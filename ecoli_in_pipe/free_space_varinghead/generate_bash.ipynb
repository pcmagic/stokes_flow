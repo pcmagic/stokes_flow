{
 "cells": [
  {
   "cell_type": "code",
   "execution_count": 1,
   "metadata": {},
   "outputs": [],
   "source": [
    "import numpy as np\n",
    "import os\n",
    "from codeStore import support_fun as spf\n",
    "import importlib\n"
   ]
  },
  {
   "cell_type": "code",
   "execution_count": 6,
   "metadata": {},
   "outputs": [
    {
     "data": {
      "text/plain": [
       "0.01"
      ]
     },
     "execution_count": 6,
     "metadata": {},
     "output_type": "execute_result"
    }
   ],
   "source": [
    "rs_fct"
   ]
  },
  {
   "cell_type": "code",
   "execution_count": 11,
   "metadata": {},
   "outputs": [
    {
     "name": "stdout",
     "output_type": "stream",
     "text": [
      "ecoB01/ecoB01_rsFct000.01\n",
      "ecoB01/ecoB01_rsFct000.01\n",
      "ecoB01/ecoB01_rsFct000.02\n",
      "ecoB01/ecoB01_rsFct000.03\n",
      "ecoB01/ecoB01_rsFct000.04\n",
      "ecoB01/ecoB01_rsFct000.05\n",
      "ecoB01/ecoB01_rsFct000.07\n",
      "ecoB01/ecoB01_rsFct000.09\n",
      "ecoB01/ecoB01_rsFct000.13\n",
      "ecoB01/ecoB01_rsFct000.17\n",
      "ecoB01/ecoB01_rsFct000.24\n",
      "ecoB01/ecoB01_rsFct000.33\n",
      "ecoB01/ecoB01_rsFct000.45\n",
      "ecoB01/ecoB01_rsFct000.62\n",
      "ecoB01/ecoB01_rsFct000.85\n",
      "ecoB01/ecoB01_rsFct001.17\n",
      "ecoB01/ecoB01_rsFct001.61\n",
      "ecoB01/ecoB01_rsFct002.21\n",
      "ecoB01/ecoB01_rsFct003.04\n",
      "ecoB01/ecoB01_rsFct004.18\n",
      "ecoB01/ecoB01_rsFct005.74\n",
      "ecoB01/ecoB01_rsFct007.88\n",
      "ecoB01/ecoB01_rsFct010.83\n",
      "ecoB01/ecoB01_rsFct014.87\n",
      "ecoB01/ecoB01_rsFct020.43\n",
      "ecoB01/ecoB01_rsFct028.07\n",
      "ecoB01/ecoB01_rsFct038.57\n",
      "ecoB01/ecoB01_rsFct052.98\n",
      "ecoB01/ecoB01_rsFct072.79\n",
      "ecoB01/ecoB01_rsFct100.00\n",
      "n_pbs =  30\n"
     ]
    }
   ],
   "source": [
    "sm = 'pf'\n",
    "ecoli_name = 'ecoB01'\n",
    "job_dir = 'ecoB01'\n",
    "ksp_max_it = 300\n",
    "main_fun_noIter = 1\n",
    "planeShearRatex = 1\n",
    "ecoli_velocity = 0\n",
    "ch = 3\n",
    "nth = 20\n",
    "rh1 = 0.1\n",
    "rh2 = 0.03\n",
    "ph = 2/3\n",
    "n_tail = 1\n",
    "rs1 = 1.5\n",
    "rs2 = 0.5\n",
    "ds = 0.07\n",
    "rs_fct_list = 10 ** np.linspace(-2, 2, 30)\n",
    "importlib.reload(spf)\n",
    "write_pbs_head = spf.write_pbs_head_q03\n",
    "\n",
    "PWD = os.getcwd()\n",
    "if not os.path.exists(job_dir):\n",
    "    os.makedirs(job_dir)\n",
    "t_name = os.path.join(job_dir, 'run.sh')\n",
    "n_pbs = 0\n",
    "with open(t_name, 'w') as frun:\n",
    "    # create .pbs file\n",
    "    frun.write('t_dir=$PWD \\n')\n",
    "    for rs_fct in rs_fct_list:\n",
    "        job_name = '%s_rsFct%06.2f' % (ecoli_name, rs_fct)\n",
    "        t_name = os.path.join(job_dir, job_name)\n",
    "        print(t_name)\n",
    "        with open(t_name, 'w') as fpbs:\n",
    "            write_pbs_head(fpbs, job_name)                           \n",
    "            fpbs.write('mpirun -n 24 python ')\n",
    "            fpbs.write(' ../../single_ecoli.py ')\n",
    "            fpbs.write(' -f %s ' % job_name)\n",
    "            fpbs.write(' -pickProblem %d ' % 0)\n",
    "            fpbs.write(' -save_singleEcoli_vtk %d ' % 0)\n",
    "            fpbs.write(' -rh1 %f ' % rh1)\n",
    "            fpbs.write(' -rh2 %f ' % rh2)\n",
    "            fpbs.write(' -ch %f ' % ch)\n",
    "            fpbs.write(' -nth %d ' % nth)\n",
    "            fpbs.write(' -eh %f ' % -1)\n",
    "            fpbs.write(' -ph %f ' % ph)\n",
    "            fpbs.write(' -hfct %f ' % 1)\n",
    "            fpbs.write(' -n_tail %d ' % n_tail)\n",
    "            fpbs.write(' -with_cover %d ' % 2)\n",
    "            fpbs.write(' -left_hand %d ' % 0)\n",
    "            fpbs.write(' -rs1 %f ' % (rs1 * rs_fct))\n",
    "            fpbs.write(' -rs2 %f ' % (rs2 * rs_fct))\n",
    "            fpbs.write(' -ds %f ' % (ds * rs_fct))\n",
    "            fpbs.write(' -es %f ' % -1)\n",
    "            fpbs.write(' -with_T_geo %d ' % 0)\n",
    "            fpbs.write(' -dist_hs %f ' % 0.5)\n",
    "            fpbs.write(' -ksp_max_it %d ' % ksp_max_it)\n",
    "            fpbs.write(' -plot_geo %d ' % 0)\n",
    "            fpbs.write(' -rel_wsz %f ' % 0)\n",
    "            fpbs.write(' -rel_whz %f ' % 100)\n",
    "            fpbs.write(' -ffweight %f ' % 2)\n",
    "            fpbs.write(' -sm %s ' % sm)\n",
    "            fpbs.write(' -zoom_factor %f ' % 1)\n",
    "            fpbs.write(' -main_fun_Iter %d ' % 1)\n",
    "            fpbs.write(' > %s.txt \\n\\n' % job_name)\n",
    "        # write to .sh file\n",
    "        frun.write('qsub %s.pbs\\n\\n' % job_name)\n",
    "        n_pbs = n_pbs + 1\n",
    "    frun.write('\\n')\n",
    "    print('n_pbs = ', n_pbs)"
   ]
  }
 ],
 "metadata": {
  "kernelspec": {
   "display_name": "Python [conda root]",
   "language": "python",
   "name": "conda-root-py"
  },
  "language_info": {
   "codemirror_mode": {
    "name": "ipython",
    "version": 3
   },
   "file_extension": ".py",
   "mimetype": "text/x-python",
   "name": "python",
   "nbconvert_exporter": "python",
   "pygments_lexer": "ipython3",
   "version": "3.5.6"
  }
 },
 "nbformat": 4,
 "nbformat_minor": 2
}
