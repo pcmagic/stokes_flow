{
 "cells": [
  {
   "cell_type": "code",
   "execution_count": 1,
   "metadata": {},
   "outputs": [],
   "source": [
    "# import numpy as np\n",
    "\n",
    "# # !/usr/bin/env python3\n",
    "# # -*- coding: utf-8 -*-\n",
    "# \"\"\"\n",
    "# Created on 20181219\n",
    "\n",
    "# @author: zhangji\n",
    "\n",
    "# Trajection of a ellipse, Jeffery equation. \n",
    "# \"\"\"\n",
    "\n",
    "# %pylab inline\n",
    "# pylab.rcParams['figure.figsize'] = (25, 11)\n",
    "# fontsize = 40\n",
    "\n",
    "# import numpy as np\n",
    "# import scipy as sp\n",
    "# from scipy.optimize import leastsq, curve_fit\n",
    "# from scipy import interpolate\n",
    "# from scipy.interpolate import interp1d\n",
    "# from scipy.io import loadmat, savemat\n",
    "# # import scipy.misc\n",
    "\n",
    "# import matplotlib\n",
    "# from matplotlib import pyplot as plt\n",
    "# from matplotlib import animation, rc\n",
    "# import matplotlib.ticker as mtick\n",
    "# from mpl_toolkits.axes_grid1.inset_locator import inset_axes, zoomed_inset_axes\n",
    "# from mpl_toolkits.mplot3d import Axes3D, axes3d\n",
    "\n",
    "# from sympy import symbols, simplify, series, exp\n",
    "# from sympy.matrices import Matrix\n",
    "# from sympy.solvers import solve\n",
    "\n",
    "# from IPython.display import display, HTML\n",
    "# from tqdm import tqdm_notebook as tqdm\n",
    "# import pandas as pd\n",
    "# import re\n",
    "# from scanf import scanf\n",
    "# import os\n",
    "# import glob\n",
    "\n",
    "# from codeStore import support_fun as spf\n",
    "# from src.support_class import *\n",
    "# from src import stokes_flow as sf\n",
    "\n",
    "# rc('animation', html='html5')\n",
    "# PWD = os.getcwd()\n",
    "# font = {'size': 20}\n",
    "# matplotlib.rc('font', **font)\n",
    "# np.set_printoptions(linewidth=90, precision=5)\n",
    "\n",
    "import os\n",
    "import glob\n",
    "import natsort \n",
    "import numpy as np\n",
    "import scipy as sp\n",
    "from scipy.optimize import leastsq, curve_fit\n",
    "from scipy import interpolate\n",
    "from scipy import spatial\n",
    "# from scipy.interpolate import interp1d\n",
    "from scipy.io import loadmat, savemat\n",
    "# import scipy.misc\n",
    "import importlib\n",
    "from IPython.display import display, HTML\n",
    "import pandas as pd\n",
    "\n",
    "import matplotlib\n",
    "from matplotlib import pyplot as plt\n",
    "from matplotlib import colors as mcolors\n",
    "from matplotlib import animation, rc\n",
    "import matplotlib.ticker as mtick\n",
    "from mpl_toolkits.axes_grid1.inset_locator import inset_axes, zoomed_inset_axes\n",
    "from mpl_toolkits.mplot3d import Axes3D, axes3d\n",
    "from mpl_toolkits.axes_grid1.axes_divider import make_axes_locatable\n",
    "from mpl_toolkits.mplot3d.art3d import Line3DCollection\n",
    "from matplotlib import cm\n",
    "\n",
    "from time import time\n",
    "from src.support_class import *\n",
    "from src import jeffery_model as jm\n",
    "from codeStore import support_fun as spf\n",
    "\n",
    "# %matplotlib notebook\n",
    "\n",
    "rc('animation', html='html5')\n",
    "fontsize = 40\n",
    "PWD = os.getcwd()"
   ]
  },
  {
   "cell_type": "code",
   "execution_count": 25,
   "metadata": {},
   "outputs": [],
   "source": [
    "def get_data_ecoli(t_dir):\n",
    "    txt_names = glob.glob('%s/*.txt' % t_dir)\n",
    "    rs1 = []\n",
    "    ini_ref_U = []\n",
    "    true_ref_U = []\n",
    "    for txt_name in txt_names:\n",
    "        with open(txt_name, 'r') as myinput:\n",
    "            FILE_DATA = myinput.read()\n",
    "\n",
    "        text_headle = 'head radius: '\n",
    "        temp1 = spf.read_array(text_headle, FILE_DATA, array_length=1)\n",
    "        rs1.append(temp1)\n",
    "        \n",
    "        text_headle = 'true ref_U in free space \\['\n",
    "        temp1 = spf.read_array(text_headle, FILE_DATA, array_length=6)\n",
    "        true_ref_U.append(temp1)\n",
    "        \n",
    "        text_headle = 'ini ref_U in free space \\['\n",
    "        temp1 = spf.read_array(text_headle, FILE_DATA, array_length=6)\n",
    "        ini_ref_U.append(temp1)\n",
    "        \n",
    "    data = pd.DataFrame({'rs1': np.hstack(rs1), \n",
    "                         'true_ref_U1': np.vstack(true_ref_U)[:, 0], \n",
    "                         'true_ref_U2': np.vstack(true_ref_U)[:, 1], \n",
    "                         'true_ref_U3': np.vstack(true_ref_U)[:, 2], \n",
    "                         'true_ref_U4': np.vstack(true_ref_U)[:, 3], \n",
    "                         'true_ref_U5': np.vstack(true_ref_U)[:, 4], \n",
    "                         'true_ref_U6': np.vstack(true_ref_U)[:, 5], \n",
    "                         'ini_ref_U1': np.vstack(ini_ref_U)[:, 0], \n",
    "                         'ini_ref_U2': np.vstack(ini_ref_U)[:, 1], \n",
    "                         'ini_ref_U3': np.vstack(ini_ref_U)[:, 2], \n",
    "                         'ini_ref_U4': np.vstack(ini_ref_U)[:, 3], \n",
    "                         'ini_ref_U5': np.vstack(ini_ref_U)[:, 4], \n",
    "                         'ini_ref_U6': np.vstack(ini_ref_U)[:, 5], \n",
    "                        })\n",
    "    return data.dropna(how='all').pivot_table(index={'rs1'})\n"
   ]
  },
  {
   "cell_type": "code",
   "execution_count": 26,
   "metadata": {},
   "outputs": [],
   "source": [
    "# (data.ini_ref_U3 - data.true_ref_U3) / np.linalg.norm((data.true_ref_U1, data.true_ref_U2, data.true_ref_U3), axis=0)\n",
    "# (data.ini_ref_U6 - data.true_ref_U6) / np.linalg.norm((data.true_ref_U4, data.true_ref_U5, data.true_ref_U6), axis=0)"
   ]
  },
  {
   "cell_type": "code",
   "execution_count": 43,
   "metadata": {},
   "outputs": [
    {
     "data": {
      "text/plain": [
       "array([1.65000e-04, 2.67000e-04, 4.31000e-04, 6.96000e-04, 1.12500e-03, 1.81700e-03,\n",
       "       2.93600e-03, 4.74300e-03, 7.66300e-03, 1.23810e-02, 2.00030e-02, 3.23170e-02,\n",
       "       5.22110e-02, 8.43510e-02, 1.36278e-01, 2.20170e-01, 3.55706e-01, 5.74678e-01,\n",
       "       9.28449e-01, 1.50000e+00, 2.42340e+00, 3.91524e+00, 6.32545e+00, 1.02194e+01,\n",
       "       1.65104e+01, 2.66742e+01, 4.30948e+01, 6.96238e+01, 1.12484e+02, 1.81729e+02,\n",
       "       2.93601e+02, 4.74342e+02, 7.66345e+02, 1.23811e+03, 2.00028e+03, 3.23165e+03,\n",
       "       5.22105e+03, 8.43512e+03, 1.36278e+04, 2.20170e+04, 3.55706e+04, 5.74678e+04,\n",
       "       9.28449e+04, 1.50000e+05])"
      ]
     },
     "execution_count": 43,
     "metadata": {},
     "output_type": "execute_result"
    }
   ],
   "source": [
    "data.true_ref_U6.index.values"
   ]
  },
  {
   "cell_type": "code",
   "execution_count": 64,
   "metadata": {},
   "outputs": [
    {
     "data": {
      "text/plain": [
       "(0.01, 10000)"
      ]
     },
     "execution_count": 64,
     "metadata": {},
     "output_type": "execute_result"
    },
    {
     "data": {
      "image/png": "[encoded data removed]",
      "text/plain": [
       "<Figure size 432x288 with 1 Axes>"
      ]
     },
     "metadata": {
      "needs_background": "light"
     },
     "output_type": "display_data"
    }
   ],
   "source": [
    "wt = 100   # motor speed is 100\n",
    "t_dir = 'ecoC01b'\n",
    "data = get_data_ecoli(t_dir)\n",
    "\n",
    "uall = np.linalg.norm((data.true_ref_U1, data.true_ref_U2, data.true_ref_U3), axis=0)\n",
    "plt.loglog(data.true_ref_U6.index.values, uall / (data.true_ref_U6 + wt), '*')\n",
    "plt.xlim(10**-2, 10**4)"
   ]
  },
  {
   "cell_type": "code",
   "execution_count": 65,
   "metadata": {},
   "outputs": [
    {
     "data": {
      "text/plain": [
       "[<matplotlib.lines.Line2D at 0x7fa9d8ccd198>]"
      ]
     },
     "execution_count": 65,
     "metadata": {},
     "output_type": "execute_result"
    },
    {
     "data": {
      "image/png": "[encoded data removed]",
      "text/plain": [
       "<Figure size 432x288 with 1 Axes>"
      ]
     },
     "metadata": {
      "needs_background": "light"
     },
     "output_type": "display_data"
    }
   ],
   "source": [
    "ty = -data.true_ref_U6 / (data.true_ref_U6 + wt)\n",
    "# ty = -data.ini_ref_U6 / (data.ini_ref_U6 + wt)\n",
    "plt.loglog(ty.index.values, ty.values, '*')"
   ]
  },
  {
   "cell_type": "code",
   "execution_count": 56,
   "metadata": {},
   "outputs": [
    {
     "data": {
      "text/plain": [
       "15"
      ]
     },
     "execution_count": 56,
     "metadata": {},
     "output_type": "execute_result"
    }
   ],
   "source": [
    "aaa = data.true_ref_U6.values\n",
    "np.finfo(aaa.dtype).precision \n",
    "# with np.printoptions(formatter={'float': '{:.50e}'.format}):\n",
    "#     print(aaa)"
   ]
  }
 ],
 "metadata": {
  "kernelspec": {
   "display_name": "Python [conda root]",
   "language": "python",
   "name": "conda-root-py"
  },
  "language_info": {
   "codemirror_mode": {
    "name": "ipython",
    "version": 3
   },
   "file_extension": ".py",
   "mimetype": "text/x-python",
   "name": "python",
   "nbconvert_exporter": "python",
   "pygments_lexer": "ipython3",
   "version": "3.5.6"
  }
 },
 "nbformat": 4,
 "nbformat_minor": 2
}
