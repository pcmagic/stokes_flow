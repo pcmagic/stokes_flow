{
 "cells": [
  {
   "cell_type": "code",
   "execution_count": 1,
   "metadata": {},
   "outputs": [
    {
     "name": "stdout",
     "output_type": "stream",
     "text": [
      "Populating the interactive namespace from numpy and matplotlib\n"
     ]
    }
   ],
   "source": [
    "# !/usr/bin/env python3\n",
    "# -*- coding: utf-8 -*-\n",
    "\"\"\"\n",
    "Created on Tue Sep 19 11:05:23 2017\n",
    "\n",
    "@author: zhangji\n",
    "\"\"\"\n",
    "\n",
    "%pylab inline\n",
    "pylab.rcParams['figure.figsize'] = (18.5, 10.5)\n",
    "fontsize = 40\n",
    "\n",
    "%load_ext autoreload\n",
    "%autoreload 2\n",
    "\n",
    "import os\n",
    "from datetime import datetime\n",
    "from time import time\n",
    "import dill\n",
    "import pickle\n",
    "import glob\n",
    "import importlib\n",
    "import numpy as np\n",
    "import scipy as sp\n",
    "import scipy.misc\n",
    "import pandas as pd\n",
    "import re\n",
    "import itertools\n",
    "from scanf import scanf\n",
    "from matplotlib import pyplot as plt\n",
    "import matplotlib.ticker as mtick\n",
    "from matplotlib import colors as mcolors\n",
    "from matplotlib.colors import ListedColormap, BoundaryNorm, PowerNorm, Normalize\n",
    "from mpl_toolkits.mplot3d import axes3d, Axes3D\n",
    "import matplotlib\n",
    "from sympy import symbols, simplify, series, exp\n",
    "from sympy.matrices import Matrix\n",
    "from sympy.solvers import solve\n",
    "from scipy.optimize import leastsq, curve_fit\n",
    "from scipy import interpolate, integrate, optimize, sparse\n",
    "from scipy.interpolate import interp1d, interp2d\n",
    "from IPython.display import display, HTML, Math\n",
    "from scipy import interpolate\n",
    "from codeStore import support_fun as spf\n",
    "from src import slenderBodyTheory as slb\n",
    "from ecoli_in_pipe import do_slenderbodytheory as do_SLB\n",
    "from tqdm.notebook import tqdm as tqdm_notebook\n",
    "from codeStore.support_fun_head_tail import *\n",
    "\n",
    "PWD = os.getcwd()\n",
    "font = {'size': 20}\n",
    "matplotlib.rc('font', **font)\n",
    "np.set_printoptions(linewidth=110, precision=5)\n"
   ]
  },
  {
   "cell_type": "code",
   "execution_count": 3,
   "metadata": {},
   "outputs": [],
   "source": [
    "def load_data(t_dir, t_headle='(.*?).pickle', n_load=None, rand_mode=False):\n",
    "    t_path = os.listdir(t_dir)\n",
    "    filename_list = [filename for filename in t_path if re.match(t_headle, filename) is not None]\n",
    "    n_load = len(filename_list) if n_load is None else n_load\n",
    "    assert n_load <= len(filename_list)\n",
    "    if rand_mode:\n",
    "        tidx = np.random.choice(len(filename_list), n_load, replace=False)\n",
    "    else:\n",
    "        tidx = np.arange(n_load)\n",
    "    use_filename_list = np.array(filename_list)[tidx]\n",
    "\n",
    "    pickle_path_list = []\n",
    "    pickle_path_list = []\n",
    "    pickle_path_list = []\n",
    "    pickle_path_list = []\n",
    "#     intp_X_list = []\n",
    "#     intp_t = np.arange(t_start, t_stop, t_step)\n",
    "#     for i0, tname in enumerate(tqdm_notebook(use_filename_list)):\n",
    "#         tpath = os.path.join(t_dir, tname)\n",
    "#         with open(tpath, 'rb') as handle:\n",
    "#             tpick = pickle.load(handle)\n",
    "#         pickle_path_list.append(tpath)\n",
    "#         idx_list.append(i0)\n",
    "\n",
    "#         Table_t = tpick['Table_t'][1:]\n",
    "#         Table_X = tpick['Table_X'][1:]\n",
    "#         int_fun_X = interpolate.interp1d(Table_t, Table_X, kind='quadratic', axis=0)\n",
    "#         intp_X = int_fun_X(intp_t)\n",
    "#         intp_X_list.append(intp_X)\n",
    "#     pickle_path_list = np.array(pickle_path_list)\n",
    "#     idx_list = np.hstack(idx_list)\n",
    "#     intp_X_list = np.dstack(intp_X_list)  # (time, coord, caseid)\n",
    "#     return pickle_path_list, idx_list, intp_t, intp_X_list"
   ]
  },
  {
   "cell_type": "code",
   "execution_count": 4,
   "metadata": {},
   "outputs": [],
   "source": [
    "job_dir = 'fix_case_b'\n",
    "\n",
    "load_data(job_dir)"
   ]
  },
  {
   "cell_type": "code",
   "execution_count": null,
   "metadata": {},
   "outputs": [],
   "source": []
  }
 ],
 "metadata": {
  "kernelspec": {
   "display_name": "Python 3",
   "language": "python",
   "name": "python3"
  },
  "language_info": {
   "codemirror_mode": {
    "name": "ipython",
    "version": 3
   },
   "file_extension": ".py",
   "mimetype": "text/x-python",
   "name": "python",
   "nbconvert_exporter": "python",
   "pygments_lexer": "ipython3",
   "version": "3.5.6"
  }
 },
 "nbformat": 4,
 "nbformat_minor": 4
}
