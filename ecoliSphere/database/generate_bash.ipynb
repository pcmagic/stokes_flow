{
 "cells": [
  {
   "cell_type": "code",
   "execution_count": 1,
   "metadata": {},
   "outputs": [],
   "source": [
    "%load_ext autoreload\n",
    "%autoreload 2\n",
    "\n",
    "import numpy as np\n",
    "import os\n",
    "from codeStore import support_fun as spf\n",
    "import importlib\n",
    "PWD = os.getcwd()"
   ]
  },
  {
   "cell_type": "markdown",
   "metadata": {},
   "source": [
    "## ecoli near sphere, sphere is fixed "
   ]
  },
  {
   "cell_type": "raw",
   "metadata": {},
   "source": [
    "pythonmpi ecoliNearSphere.py -sm lg_rs -legendre_m 3 -legendre_k 2 -epsilon 3 -rh1 0.5 -rh2 0.05 -nth 8 -eh 0 -ph 2 -ch 4 -n_tail 1 -hfct 1 -with_cover 2 -with_T_geo 0 -left_hand 0 -rs1 2 -rs2 1 -ds 0.2 -es 0 -dist_hs 1 -rel_whz 1 -centerx 4.5 -centery 0 -centerz 0 -ellipse_rs1 3 -ellipse_rs2 3 -ellipse_rs3 3 -ellipse_ds 0.6 -ellipse_es 0 -ellipse_ux 0 -ellipse_uy 0 -ellipse_uz 0 -ellipse_wx 0 -ellipse_wy 0 -ellipse_wz 0 -ksp_max_it 1000 -ksp_rtol 1.000000e-20 -ksp_atol 1.000000e-200"
   ]
  },
  {
   "cell_type": "code",
   "execution_count": 33,
   "metadata": {},
   "outputs": [
    {
     "name": "stdout",
     "output_type": "stream",
     "text": [
      "make folder /home/zhangji/stokes_flow_master/ecoliSphere/database/fix_case_b\n",
      "input 31 cases.\n",
      "generate 1 pbs files in total.\n",
      " --->>random order mode is ON. \n",
      "Command of first case is:\n",
      "mpirun -np 24 python ../../ecoliNearSphere.py -main_fix_sphere 1  -sm lg_rs -legendre_m 3 -legendre_k 2 -epsilon 3.000000  -rh1 0.500000 -rh2 0.050000 -nth 10 -eh 0.000000 -ph 2.000000 -ch 4.000000 -n_tail 1  -hfct 1.000000 -with_cover 2 -with_T_geo 0 -left_hand 0  -rs1 2.000000 -rs2 1.000000 -ds 0.100000 -es 0.000000 -dist_hs 0.500000 -rel_whz 1.000000  -centerx 5.000000 -centery 8.000000 -centerz 0.000000  -ellipse_rs1 3.000000 -ellipse_rs2 3.000000 -ellipse_rs3 3.000000 -ellipse_ds 0.160000 -ellipse_es 0.000000  -ellipse_ux 0.000000 -ellipse_uy 0.000000 -ellipse_uz 0.000000 -ellipse_wx 0.000000 -ellipse_wy 0.000000 -ellipse_wz 0.000000  -ksp_max_it 1000 -ksp_rtol 1.000000e-20 -ksp_atol 1.000000e-200 -f centery8.0000\n"
     ]
    },
    {
     "data": {
      "text/plain": [
       "True"
      ]
     },
     "execution_count": 33,
     "metadata": {},
     "output_type": "execute_result"
    }
   ],
   "source": [
    "use_node = 1\n",
    "njob_node = 1\n",
    "n_job_pbs = use_node * njob_node\n",
    "random_order = True\n",
    "n_job_pbs = 10000\n",
    "\n",
    "\n",
    "sm, legendre_m, legendre_k, epsilon = 'lg_rs', 3, 2, 3\n",
    "rh1, rh2, nth, eh, n_tail = 0.5, 0.05, 18, 0, 1\n",
    "ph, ch = 2, 4\n",
    "hfct, with_cover, with_T_geo, left_hand = 1, 2, 0, 0\n",
    "rs1, rs2, ds, es, dist_hs, rel_whz = 2, 1, 0.1, 0, 0.5, 1\n",
    "centerx, centerz = 5, 0\n",
    "ellipse_rs1, ellipse_rs2, ellipse_rs3, ellipse_ds, ellipse_es = 3, 3, 3, 0.2, 0\n",
    "ellipse_ux, ellipse_uy, ellipse_uz, ellipse_wx, ellipse_wy, ellipse_wz = np.zeros(6)\n",
    "ksp_max_it, ksp_rtol, ksp_atol = 1000, 1e-20, 1e-200\n",
    "\n",
    "def comm_obj_helicoid_hlx(sm, legendre_m, legendre_k, epsilon, \n",
    "                          rh1, rh2, nth, eh, ph, ch, n_tail, \n",
    "                          hfct, with_cover, with_T_geo, left_hand, \n",
    "                          rs1, rs2, ds, es, dist_hs, rel_whz, \n",
    "                          centerx, centery, centerz, \n",
    "                          ellipse_rs1, ellipse_rs2, ellipse_rs3, ellipse_ds, ellipse_es, \n",
    "                          ellipse_ux, ellipse_uy, ellipse_uz, ellipse_wx, ellipse_wy, ellipse_wz, \n",
    "                          ksp_max_it, ksp_rtol, ksp_atol, f, mpinp=24): \n",
    "    if 'rs' in sm:\n",
    "        err_msg = 'the regularized family methods requires eh==0. '\n",
    "        assert np.isclose(eh, 0), err_msg\n",
    "        err_msg = 'the regularized family methods requires ellipse_es==0. '\n",
    "        assert np.isclose(ellipse_es, 0), err_msg\n",
    "        err_msg = 'the regularized family methods requires es==0. '\n",
    "        assert np.isclose(es, 0), err_msg\n",
    "        \n",
    "    main_fun = 'main_fix_sphere' \n",
    "    ts = 'mpirun -np %d python ../../ecoliNearSphere.py -%s 1 ' % (mpinp, main_fun)\n",
    "    ts = ts + ' -sm %s -legendre_m %d -legendre_k %d -epsilon %f ' % \\\n",
    "                (sm,    legendre_m,    legendre_k,    epsilon)\n",
    "    ts = ts + ' -rh1 %f -rh2 %f -nth %d -eh %f -ph %f -ch %f -n_tail %d ' % \\\n",
    "                (rh1,    rh2,    nth,    eh,    ph,    ch,    n_tail)\n",
    "    ts = ts + ' -hfct %f -with_cover %d -with_T_geo %d -left_hand %d ' % \\\n",
    "                (hfct,    with_cover,    with_T_geo,    left_hand)\n",
    "    ts = ts + ' -rs1 %f -rs2 %f -ds %f -es %f -dist_hs %f -rel_whz %f ' % \\\n",
    "                (rs1,    rs2,    ds,    es,    dist_hs,    rel_whz)\n",
    "    ts = ts + ' -centerx %f -centery %f -centerz %f ' % \\\n",
    "                (centerx,    centery,    centerz)\n",
    "    ts = ts + ' -ellipse_rs1 %f -ellipse_rs2 %f -ellipse_rs3 %f -ellipse_ds %f -ellipse_es %f ' % \\\n",
    "                (ellipse_rs1,    ellipse_rs2,    ellipse_rs3,    ellipse_ds,    ellipse_es)\n",
    "    ts = ts + ' -ellipse_ux %f -ellipse_uy %f -ellipse_uz %f -ellipse_wx %f -ellipse_wy %f -ellipse_wz %f ' % \\\n",
    "                (ellipse_ux,    ellipse_uy,    ellipse_uz,    ellipse_wx,    ellipse_wy,    ellipse_wz)\n",
    "    ts = ts + ' -ksp_max_it %d -ksp_rtol %e -ksp_atol %e -f %s' % \\\n",
    "                (ksp_max_it,    ksp_rtol,    ksp_atol,    f)\n",
    "    return ts\n",
    "\n",
    "# write_pbs_head = spf.write_pbs_head_q03\n",
    "# use_node = 10\n",
    "# ds, nth, ellipse_ds = 0.06, 15, 0.1\n",
    "# centery_list = np.linspace(-15, 15, 121)\n",
    "# job_dir = 'fix_case_a'\n",
    "\n",
    "write_pbs_head = spf.write_pbs_head_q03\n",
    "use_node = 10\n",
    "ds, nth, ellipse_ds = 0.1, 10, 0.16\n",
    "centery_list = np.linspace(-15, 15, 31)\n",
    "job_dir = 'fix_case_b'\n",
    "\n",
    "###############################################################################################\n",
    "# generate all comment file. \n",
    "comm_list = []\n",
    "txt_list = []\n",
    "# helicoid_r_list, ph_list, ch_list = np.meshgrid(helicoid_r_list, ph_list, ch_list)\n",
    "for centery in centery_list:\n",
    "    f = 'centery%.4f' % centery\n",
    "    ts = comm_obj_helicoid_hlx(sm, legendre_m, legendre_k, epsilon, \n",
    "                               rh1, rh2, nth, eh, ph, ch, n_tail, \n",
    "                               hfct, with_cover, with_T_geo, left_hand, \n",
    "                               rs1, rs2, ds, es, dist_hs, rel_whz, \n",
    "                               centerx, centery, centerz, \n",
    "                               ellipse_rs1, ellipse_rs2, ellipse_rs3, ellipse_ds, ellipse_es, \n",
    "                               ellipse_ux, ellipse_uy, ellipse_uz, ellipse_wx, ellipse_wy, ellipse_wz, \n",
    "                               ksp_max_it, ksp_rtol, ksp_atol, f)\n",
    "    comm_list.append(ts)\n",
    "    txt_list.append(f)\n",
    "spf.write_main_run_comm_list(comm_list, txt_list, use_node, njob_node, job_dir, \n",
    "                             write_pbs_head, n_job_pbs, random_order=random_order)"
   ]
  },
  {
   "cell_type": "code",
   "execution_count": 14,
   "metadata": {},
   "outputs": [
    {
     "data": {
      "text/plain": [
       "array([-15. , -14.5, -14. , -13.5, -13. , -12.5, -12. , -11.5, -11. ,\n",
       "       -10.5, -10. ,  -9.5,  -9. ,  -8.5,  -8. ,  -7.5,  -7. ,  -6.5,\n",
       "        -6. ,  -5.5,  -5. ,  -4.5,  -4. ,  -3.5,  -3. ,  -2.5,  -2. ,\n",
       "        -1.5,  -1. ,  -0.5,   0. ,   0.5,   1. ,   1.5,   2. ,   2.5,\n",
       "         3. ,   3.5,   4. ,   4.5,   5. ,   5.5,   6. ,   6.5,   7. ,\n",
       "         7.5,   8. ,   8.5,   9. ,   9.5,  10. ,  10.5,  11. ,  11.5,\n",
       "        12. ,  12.5,  13. ,  13.5,  14. ,  14.5,  15. ])"
      ]
     },
     "execution_count": 14,
     "metadata": {},
     "output_type": "execute_result"
    }
   ],
   "source": [
    "np.linspace(-15, 15, 61)"
   ]
  }
 ],
 "metadata": {
  "kernelspec": {
   "display_name": "Python 3",
   "language": "python",
   "name": "python3"
  },
  "language_info": {
   "codemirror_mode": {
    "name": "ipython",
    "version": 3
   },
   "file_extension": ".py",
   "mimetype": "text/x-python",
   "name": "python",
   "nbconvert_exporter": "python",
   "pygments_lexer": "ipython3",
   "version": "3.5.6"
  }
 },
 "nbformat": 4,
 "nbformat_minor": 4
}
