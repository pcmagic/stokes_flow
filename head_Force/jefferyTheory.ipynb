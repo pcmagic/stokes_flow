{
 "cells": [
  {
   "cell_type": "code",
   "execution_count": 1,
   "metadata": {},
   "outputs": [],
   "source": [
    "# import numpy as np\n",
    "\n",
    "# # !/usr/bin/env python3\n",
    "# # -*- coding: utf-8 -*-\n",
    "# \"\"\"\n",
    "# Created on 20181219\n",
    "\n",
    "# @author: zhangji\n",
    "\n",
    "# Trajection of a ellipse, Jeffery equation. \n",
    "# \"\"\"\n",
    "\n",
    "# %pylab inline\n",
    "# pylab.rcParams['figure.figsize'] = (25, 11)\n",
    "# fontsize = 40\n",
    "\n",
    "# import numpy as np\n",
    "# import scipy as sp\n",
    "# from scipy.optimize import leastsq, curve_fit\n",
    "# from scipy import interpolate\n",
    "# from scipy.interpolate import interp1d\n",
    "# from scipy.io import loadmat, savemat\n",
    "# # import scipy.misc\n",
    "\n",
    "# import matplotlib\n",
    "# from matplotlib import pyplot as plt\n",
    "# from matplotlib import animation, rc\n",
    "# import matplotlib.ticker as mtick\n",
    "# from mpl_toolkits.axes_grid1.inset_locator import inset_axes, zoomed_inset_axes\n",
    "# from mpl_toolkits.mplot3d import Axes3D, axes3d\n",
    "\n",
    "# from sympy import symbols, simplify, series, exp\n",
    "# from sympy.matrices import Matrix\n",
    "# from sympy.solvers import solve\n",
    "\n",
    "# from IPython.display import display, HTML\n",
    "# from tqdm import tqdm_notebook as tqdm\n",
    "# import pandas as pd\n",
    "# import re\n",
    "# from scanf import scanf\n",
    "# import os\n",
    "# import glob\n",
    "\n",
    "# from codeStore import support_fun as spf\n",
    "# from src.support_class import *\n",
    "# from src import stokes_flow as sf\n",
    "\n",
    "# rc('animation', html='html5')\n",
    "# PWD = os.getcwd()\n",
    "# font = {'size': 20}\n",
    "# matplotlib.rc('font', **font)\n",
    "# np.set_printoptions(linewidth=90, precision=5)\n",
    "\n",
    "import numpy as np\n",
    "from sympy import *\n",
    "from sympy import lambdify\n",
    "from sympy.utilities.lambdify import lambdastr\n",
    "\n",
    "import matplotlib\n",
    "from matplotlib import pyplot as plt\n",
    "from matplotlib import animation, rc\n",
    "import matplotlib.ticker as mtick\n",
    "from mpl_toolkits.axes_grid1.inset_locator import inset_axes, zoomed_inset_axes\n",
    "from mpl_toolkits.mplot3d import Axes3D, axes3d\n",
    "\n",
    "from time import time\n",
    "from src.support_class import *\n",
    "from src import jeffery_model as jm\n",
    "from IPython.display import display\n",
    "\n",
    "init_printing(use_latex='mathjax')\n"
   ]
  },
  {
   "cell_type": "code",
   "execution_count": 5,
   "metadata": {
    "scrolled": false
   },
   "outputs": [
    {
     "data": {
      "text/latex": [
       "$$\\frac{0.75 f_{0} h x_{0}^{2} x_{2}}{\\pi \\left(x_{0}^{2} + x_{1}^{2} + \\left(h + x_{2}\\right)^{2}\\right)^{2.5}} - \\frac{f_{0} h x_{2}}{4 \\pi \\left(x_{0}^{2} + x_{1}^{2} + \\left(h + x_{2}\\right)^{2}\\right)^{1.5}} + \\frac{f_{0} x_{0}^{2}}{8 \\pi \\left(x_{0}^{2} + x_{1}^{2} + \\left(h - x_{2}\\right)^{2}\\right)^{1.5}} - \\frac{f_{0} x_{0}^{2}}{8 \\pi \\left(x_{0}^{2} + x_{1}^{2} + \\left(h + x_{2}\\right)^{2}\\right)^{1.5}} + \\frac{f_{0}}{8 \\pi \\left(x_{0}^{2} + x_{1}^{2} + \\left(h - x_{2}\\right)^{2}\\right)^{0.5}} - \\frac{f_{0}}{8 \\pi \\left(x_{0}^{2} + x_{1}^{2} + \\left(h + x_{2}\\right)^{2}\\right)^{0.5}} + \\frac{0.75 f_{1} h x_{0} x_{1} x_{2}}{\\pi \\left(x_{0}^{2} + x_{1}^{2} + \\left(h + x_{2}\\right)^{2}\\right)^{2.5}} + \\frac{f_{1} x_{0} x_{1}}{8 \\pi \\left(x_{0}^{2} + x_{1}^{2} + \\left(h - x_{2}\\right)^{2}\\right)^{1.5}} - \\frac{f_{1} x_{0} x_{1}}{8 \\pi \\left(x_{0}^{2} + x_{1}^{2} + \\left(h + x_{2}\\right)^{2}\\right)^{1.5}} + \\frac{3 f_{2} h^{3} x_{0}}{4 \\pi \\left(x_{0}^{2} + x_{1}^{2} + \\left(h + x_{2}\\right)^{2}\\right)^{2.5}} + \\frac{3 f_{2} h^{2} x_{0} x_{2}}{4 \\pi \\left(x_{0}^{2} + x_{1}^{2} + \\left(h + x_{2}\\right)^{2}\\right)^{2.5}} - \\frac{0.75 f_{2} h x_{0} \\left(h + x_{2}\\right)^{2}}{\\pi \\left(x_{0}^{2} + x_{1}^{2} + \\left(h + x_{2}\\right)^{2}\\right)^{2.5}} - \\frac{f_{2} h x_{0}}{8 \\pi \\left(x_{0}^{2} + x_{1}^{2} + \\left(h - x_{2}\\right)^{2}\\right)^{1.5}} + \\frac{f_{2} h x_{0}}{8 \\pi \\left(x_{0}^{2} + x_{1}^{2} + \\left(h + x_{2}\\right)^{2}\\right)^{1.5}} + \\frac{f_{2} x_{0} x_{2}}{8 \\pi \\left(x_{0}^{2} + x_{1}^{2} + \\left(h - x_{2}\\right)^{2}\\right)^{1.5}} - \\frac{f_{2} x_{0} x_{2}}{8 \\pi \\left(x_{0}^{2} + x_{1}^{2} + \\left(h + x_{2}\\right)^{2}\\right)^{1.5}}$$"
      ],
      "text/plain": [
       "                                        -2.5                                  \n",
       "            2    ⎛  2     2           2⎞               ⎛  2     2           2⎞\n",
       "0.75⋅f₀⋅h⋅x₀ ⋅x₂⋅⎝x₀  + x₁  + (h + x₂) ⎠       f₀⋅h⋅x₂⋅⎝x₀  + x₁  + (h + x₂) ⎠\n",
       "──────────────────────────────────────────── - ───────────────────────────────\n",
       "                     π                                         4⋅π            \n",
       "\n",
       "-1.5                                 -1.5                                 -1.5\n",
       "            2 ⎛  2     2           2⎞            2 ⎛  2     2           2⎞    \n",
       "       f₀⋅x₀ ⋅⎝x₀  + x₁  + (h - x₂) ⎠       f₀⋅x₀ ⋅⎝x₀  + x₁  + (h + x₂) ⎠    \n",
       "──── + ────────────────────────────────── - ──────────────────────────────────\n",
       "                      8⋅π                                  8⋅π                \n",
       "\n",
       "                             -0.5                             -0.5            \n",
       "      ⎛  2     2           2⎞          ⎛  2     2           2⎞                \n",
       "   f₀⋅⎝x₀  + x₁  + (h - x₂) ⎠       f₀⋅⎝x₀  + x₁  + (h + x₂) ⎠       0.75⋅f₁⋅h\n",
       " + ────────────────────────────── - ────────────────────────────── + ─────────\n",
       "                8⋅π                              8⋅π                          \n",
       "\n",
       "                                 -2.5                                   -1.5  \n",
       "          ⎛  2     2           2⎞                ⎛  2     2           2⎞      \n",
       "⋅x₀⋅x₁⋅x₂⋅⎝x₀  + x₁  + (h + x₂) ⎠       f₁⋅x₀⋅x₁⋅⎝x₀  + x₁  + (h - x₂) ⎠      \n",
       "───────────────────────────────────── + ──────────────────────────────────── -\n",
       "             π                                          8⋅π                   \n",
       "\n",
       "                                 -1.5                                     -2.5\n",
       "          ⎛  2     2           2⎞             3    ⎛  2     2           2⎞    \n",
       " f₁⋅x₀⋅x₁⋅⎝x₀  + x₁  + (h + x₂) ⎠       3⋅f₂⋅h ⋅x₀⋅⎝x₀  + x₁  + (h + x₂) ⎠    \n",
       " ──────────────────────────────────── + ──────────────────────────────────────\n",
       "                 8⋅π                                     4⋅π                  \n",
       "\n",
       "                                        -2.5                                  \n",
       "         2       ⎛  2     2           2⎞                            2 ⎛  2    \n",
       "   3⋅f₂⋅h ⋅x₀⋅x₂⋅⎝x₀  + x₁  + (h + x₂) ⎠       0.75⋅f₂⋅h⋅x₀⋅(h + x₂) ⋅⎝x₀  + x\n",
       " + ───────────────────────────────────────── - ───────────────────────────────\n",
       "                      4⋅π                                              π      \n",
       "\n",
       "               -2.5                                  -1.5                     \n",
       " 2           2⎞               ⎛  2     2           2⎞               ⎛  2     2\n",
       "₁  + (h + x₂) ⎠       f₂⋅h⋅x₀⋅⎝x₀  + x₁  + (h - x₂) ⎠       f₂⋅h⋅x₀⋅⎝x₀  + x₁ \n",
       "─────────────────── - ─────────────────────────────────── + ──────────────────\n",
       "                                      8⋅π                                   8⋅\n",
       "\n",
       "             -1.5                                   -1.5                      \n",
       "           2⎞                ⎛  2     2           2⎞                ⎛  2     2\n",
       " + (h + x₂) ⎠       f₂⋅x₀⋅x₂⋅⎝x₀  + x₁  + (h - x₂) ⎠       f₂⋅x₀⋅x₂⋅⎝x₀  + x₁ \n",
       "───────────────── + ──────────────────────────────────── - ───────────────────\n",
       "π                                   8⋅π                                    8⋅π\n",
       "\n",
       "             -1.5\n",
       "           2⎞    \n",
       " + (h + x₂) ⎠    \n",
       "─────────────────\n",
       "                 "
      ]
     },
     "metadata": {},
     "output_type": "display_data"
    }
   ],
   "source": [
    "x0, x1, x2 = symbols('x0:3')\n",
    "lbd = Symbol('lbd')\n",
    "\n",
    "# u0 = Function('u0')(x0, x1, x2)\n",
    "# u1 = Function('u1')(x0, x1, x2)\n",
    "# u2 = Function('u2')(x0, x1, x2)\n",
    "\n",
    "# u0 = Function('u0')(x1, x2)\n",
    "# u1 = Function('u1')(x2, x0)\n",
    "# u2 = 0\n",
    "\n",
    "# f0, f1, f2 = symbols('f0:3')\n",
    "# X = Matrix([x0, x1, x2])\n",
    "# r = ((X.T * X) ** 0.5) [0]\n",
    "# F = Matrix([f0, f1, f2])\n",
    "# # F = Matrix([1, 0, 0])\n",
    "# Mij = eye(3) / r + X * X.T / (r ** 3)\n",
    "# u0, u1, u2 = simplify(Mij * F)\n",
    "\n",
    "f0, f1, f2 = symbols('f0:3')\n",
    "h = symbols('h')\n",
    "X = Matrix([x0, x1, x2])\n",
    "dX1 = Matrix([x0, x1, x2 - h])\n",
    "dX2 = Matrix([x0, x1, x2 + h])\n",
    "r1 = ((dX1.T * dX1) ** 0.5) [0]\n",
    "r2 = ((dX2.T * dX2) ** 0.5) [0]\n",
    "F = Matrix([f0, f1, f2])\n",
    "Q = Matrix([-f0, -f1, f2])\n",
    "B = Matrix([-f0, -f1, f2]).T\n",
    "G = Matrix([0, 0, -1])\n",
    "M1ij = 1 / (8 * pi) * (eye(3) / r1 + dX1 * dX1.T / (r1 ** 3))\n",
    "M2ij = 1 / (8 * pi) * (eye(3) / r2 + dX2 * dX2.T / (r2 ** 3))\n",
    "Mpdij = 1 / (4 * pi) * (eye(3) / r2 ** 3 - 3 * dX2 * dX2.T / (r2 ** 5))\n",
    "us10, us11, us12 = simplify(M1ij * F)\n",
    "us20, us21, us22 = simplify(M2ij * F)\n",
    "upd0, upd1, upd2 = simplify(Mpdij * Q)\n",
    "tu0, tu1, tu2 = simplify(M2ij * G)\n",
    "usd0, usd1, usd2 = simplify(B * Matrix([[diff(tu0, x0), diff(tu0, x1), diff(tu0, x2)], \n",
    "                                        [diff(tu1, x0), diff(tu1, x1), diff(tu1, x2)], \n",
    "                                        [diff(tu2, x0), diff(tu2, x1), diff(tu2, x2)]]).T)\n",
    "u0 = simplify(us10 - us20 - 2 * h * usd0 - h ** 2 * upd0)\n",
    "u1 = simplify(us11 - us21 - 2 * h * usd1 - h ** 2 * upd1)\n",
    "u2 = simplify(us12 - us22 - 2 * h * usd2 - h ** 2 * upd2)\n",
    "# Jij = simplify(Matrix([[diff(u0, x0), diff(u0, x1), diff(u0, x2)], \n",
    "#               [diff(u1, x0), diff(u1, x1), diff(u1, x2)], \n",
    "#               [diff(u2, x0), diff(u2, x1), diff(u2, x2)]]))\n",
    "# Sij = simplify(1 / 2 * (Jij + Jij.T))\n",
    "# Oij = simplify(1 / 2 * (Jij - Jij.T))\n",
    "display(u0)\n",
    "\n",
    "# print('Trace B')\n",
    "# Bij = simplify(Oij + lbd * Sij)\n",
    "# display(simplify(Bij[0, 0] + Bij[1, 1] + Bij[2, 2]))\n",
    "\n",
    "# print()\n",
    "# print('Trace B2')\n",
    "# Bij2 = simplify(Bij*Bij)\n",
    "# display(simplify(Bij2[0, 0] + Bij2[1, 1] + Bij2[2, 2]))\n",
    "\n",
    "# print()\n",
    "# print('Trace B3')\n",
    "# Bij3 = simplify(Bij*Bij*Bij)\n",
    "# display(Bij3[0, 0] + Bij3[1, 1] + Bij3[2, 2])\n"
   ]
  },
  {
   "cell_type": "code",
   "execution_count": 31,
   "metadata": {},
   "outputs": [
    {
     "name": "stdout",
     "output_type": "stream",
     "text": [
      "lambda x0,x1,x2,f0,f1,f2,h: (0.75*f0*h*x0**2*x2*(x0**2 + x1**2 + (h + x2)**2)**(-2.5)/math.pi - 1/4*f0*h*x2*(x0**2 + x1**2 + (h + x2)**2)**(-1.5)/math.pi + (1/8)*f0*x0**2*(x0**2 + x1**2 + (h - x2)**2)**(-1.5)/math.pi - 1/8*f0*x0**2*(x0**2 + x1**2 + (h + x2)**2)**(-1.5)/math.pi + (1/8)*f0*(x0**2 + x1**2 + (h - x2)**2)**(-0.5)/math.pi - 1/8*f0*(x0**2 + x1**2 + (h + x2)**2)**(-0.5)/math.pi + 0.75*f1*h*x0*x1*x2*(x0**2 + x1**2 + (h + x2)**2)**(-2.5)/math.pi + (1/8)*f1*x0*x1*(x0**2 + x1**2 + (h - x2)**2)**(-1.5)/math.pi - 1/8*f1*x0*x1*(x0**2 + x1**2 + (h + x2)**2)**(-1.5)/math.pi + (3/4)*f2*h**3*x0*(x0**2 + x1**2 + (h + x2)**2)**(-2.5)/math.pi + (3/4)*f2*h**2*x0*x2*(x0**2 + x1**2 + (h + x2)**2)**(-2.5)/math.pi - 0.75*f2*h*x0*(h + x2)**2*(x0**2 + x1**2 + (h + x2)**2)**(-2.5)/math.pi - 1/8*f2*h*x0*(x0**2 + x1**2 + (h - x2)**2)**(-1.5)/math.pi + (1/8)*f2*h*x0*(x0**2 + x1**2 + (h + x2)**2)**(-1.5)/math.pi + (1/8)*f2*x0*x2*(x0**2 + x1**2 + (h - x2)**2)**(-1.5)/math.pi - 1/8*f2*x0*x2*(x0**2 + x1**2 + (h + x2)**2)**(-1.5)/math.pi)\n",
      "\n",
      "lambda x0,x1,x2,f0,f1,f2,h: (0.75*f0*h*x0*x1*x2*(x0**2 + x1**2 + (h + x2)**2)**(-2.5)/math.pi + (1/8)*f0*x0*x1*(x0**2 + x1**2 + (h - x2)**2)**(-1.5)/math.pi - 1/8*f0*x0*x1*(x0**2 + x1**2 + (h + x2)**2)**(-1.5)/math.pi + 0.75*f1*h*x1**2*x2*(x0**2 + x1**2 + (h + x2)**2)**(-2.5)/math.pi - 1/4*f1*h*x2*(x0**2 + x1**2 + (h + x2)**2)**(-1.5)/math.pi + (1/8)*f1*x1**2*(x0**2 + x1**2 + (h - x2)**2)**(-1.5)/math.pi - 1/8*f1*x1**2*(x0**2 + x1**2 + (h + x2)**2)**(-1.5)/math.pi + (1/8)*f1*(x0**2 + x1**2 + (h - x2)**2)**(-0.5)/math.pi - 1/8*f1*(x0**2 + x1**2 + (h + x2)**2)**(-0.5)/math.pi + (3/4)*f2*h**3*x1*(x0**2 + x1**2 + (h + x2)**2)**(-2.5)/math.pi + (3/4)*f2*h**2*x1*x2*(x0**2 + x1**2 + (h + x2)**2)**(-2.5)/math.pi - 0.75*f2*h*x1*(h + x2)**2*(x0**2 + x1**2 + (h + x2)**2)**(-2.5)/math.pi - 1/8*f2*h*x1*(x0**2 + x1**2 + (h - x2)**2)**(-1.5)/math.pi + (1/8)*f2*h*x1*(x0**2 + x1**2 + (h + x2)**2)**(-1.5)/math.pi + (1/8)*f2*x1*x2*(x0**2 + x1**2 + (h - x2)**2)**(-1.5)/math.pi - 1/8*f2*x1*x2*(x0**2 + x1**2 + (h + x2)**2)**(-1.5)/math.pi)\n",
      "\n",
      "lambda x0,x1,x2,f0,f1,f2,h: (-3/4*f0*h**3*x0*(x0**2 + x1**2 + (h + x2)**2)**(-2.5)/math.pi - 3/4*f0*h**2*x0*x2*(x0**2 + x1**2 + (h + x2)**2)**(-2.5)/math.pi + 0.75*f0*h*x0*(h + x2)**2*(x0**2 + x1**2 + (h + x2)**2)**(-2.5)/math.pi - 1/8*f0*h*x0*(x0**2 + x1**2 + (h - x2)**2)**(-1.5)/math.pi + 0.125*f0*h*x0*(x0**2 + x1**2 + (h + x2)**2)**(-1.5)/math.pi + (1/8)*f0*x0*x2*(x0**2 + x1**2 + (h - x2)**2)**(-1.5)/math.pi - 1/8*f0*x0*x2*(x0**2 + x1**2 + (h + x2)**2)**(-1.5)/math.pi - 3/4*f1*h**3*x1*(x0**2 + x1**2 + (h + x2)**2)**(-2.5)/math.pi - 3/4*f1*h**2*x1*x2*(x0**2 + x1**2 + (h + x2)**2)**(-2.5)/math.pi + 0.75*f1*h*x1*(h + x2)**2*(x0**2 + x1**2 + (h + x2)**2)**(-2.5)/math.pi - 1/8*f1*h*x1*(x0**2 + x1**2 + (h - x2)**2)**(-1.5)/math.pi + 0.125*f1*h*x1*(x0**2 + x1**2 + (h + x2)**2)**(-1.5)/math.pi + (1/8)*f1*x1*x2*(x0**2 + x1**2 + (h - x2)**2)**(-1.5)/math.pi - 1/8*f1*x1*x2*(x0**2 + x1**2 + (h + x2)**2)**(-1.5)/math.pi - 0.75*f2*h*x2*(h + x2)**2*(x0**2 + x1**2 + (h + x2)**2)**(-2.5)/math.pi + 0.25*f2*h*x2*(x0**2 + x1**2 + (h + x2)**2)**(-1.5)/math.pi + (1/8)*f2*(h - x2)**2*(x0**2 + x1**2 + (h - x2)**2)**(-1.5)/math.pi - 1/8*f2*(h + x2)**2*(x0**2 + x1**2 + (h + x2)**2)**(-1.5)/math.pi + (1/8)*f2*(x0**2 + x1**2 + (h - x2)**2)**(-0.5)/math.pi - 1/8*f2*(x0**2 + x1**2 + (h + x2)**2)**(-0.5)/math.pi)\n",
      "\n"
     ]
    }
   ],
   "source": [
    "# lam_u0 = lambdify((x0, x1, x2, f0, f1, f2, h), u0)\n",
    "print(lambdastr((x0, x1, x2, f0, f1, f2, h), u0))\n",
    "print()\n",
    "print(lambdastr((x0, x1, x2, f0, f1, f2, h), u1))\n",
    "print()\n",
    "print(lambdastr((x0, x1, x2, f0, f1, f2, h), u2))\n",
    "print()\n"
   ]
  },
  {
   "cell_type": "code",
   "execution_count": 26,
   "metadata": {},
   "outputs": [
    {
     "name": "stdout",
     "output_type": "stream",
     "text": [
      "0.0\n"
     ]
    }
   ],
   "source": [
    "t1 = []\n",
    "lam_u0 = lambdify((x0, x1, x2, f0, f1, f2, h), u0)\n",
    "for _ in range(1000):\n",
    "    t1.append(lam_u0(*np.random.sample(2), 0, 1, 1, 1, 1))\n",
    "print(np.sum(t1))"
   ]
  },
  {
   "cell_type": "code",
   "execution_count": 16,
   "metadata": {},
   "outputs": [
    {
     "ename": "NameError",
     "evalue": "name 'Mij' is not defined",
     "output_type": "error",
     "traceback": [
      "\u001b[1;31m---------------------------------------------------------------------------\u001b[0m",
      "\u001b[1;31mNameError\u001b[0m                                 Traceback (most recent call last)",
      "\u001b[1;32m<ipython-input-16-b35418f0c1bc>\u001b[0m in \u001b[0;36m<module>\u001b[1;34m\u001b[0m\n\u001b[1;32m----> 1\u001b[1;33m \u001b[0mu0\u001b[0m\u001b[1;33m,\u001b[0m \u001b[0mu1\u001b[0m\u001b[1;33m,\u001b[0m \u001b[0mu2\u001b[0m \u001b[1;33m=\u001b[0m \u001b[0msimplify\u001b[0m\u001b[1;33m(\u001b[0m\u001b[0mMij\u001b[0m \u001b[1;33m*\u001b[0m \u001b[0mF\u001b[0m\u001b[1;33m)\u001b[0m\u001b[1;33m\u001b[0m\u001b[1;33m\u001b[0m\u001b[0m\n\u001b[0m\u001b[0;32m      2\u001b[0m \u001b[0mdisplay\u001b[0m\u001b[1;33m(\u001b[0m\u001b[0mu0\u001b[0m\u001b[1;33m)\u001b[0m\u001b[1;33m\u001b[0m\u001b[1;33m\u001b[0m\u001b[0m\n\u001b[0;32m      3\u001b[0m \u001b[0mdisplay\u001b[0m\u001b[1;33m(\u001b[0m\u001b[0mu1\u001b[0m\u001b[1;33m)\u001b[0m\u001b[1;33m\u001b[0m\u001b[1;33m\u001b[0m\u001b[0m\n\u001b[0;32m      4\u001b[0m \u001b[0mdisplay\u001b[0m\u001b[1;33m(\u001b[0m\u001b[0mu2\u001b[0m\u001b[1;33m)\u001b[0m\u001b[1;33m\u001b[0m\u001b[1;33m\u001b[0m\u001b[0m\n",
      "\u001b[1;31mNameError\u001b[0m: name 'Mij' is not defined"
     ]
    }
   ],
   "source": [
    "u0, u1, u2 = simplify(Mij * F)\n",
    "display(u0)\n",
    "display(u1)\n",
    "display(u2)\n"
   ]
  },
  {
   "cell_type": "code",
   "execution_count": 14,
   "metadata": {},
   "outputs": [
    {
     "data": {
      "text/plain": [
       "sympy.core.add.Add"
      ]
     },
     "execution_count": 14,
     "metadata": {},
     "output_type": "execute_result"
    }
   ],
   "source": [
    "type(divU)"
   ]
  }
 ],
 "metadata": {
  "kernelspec": {
   "display_name": "Python 3",
   "language": "python",
   "name": "python3"
  },
  "language_info": {
   "codemirror_mode": {
    "name": "ipython",
    "version": 3
   },
   "file_extension": ".py",
   "mimetype": "text/x-python",
   "name": "python",
   "nbconvert_exporter": "python",
   "pygments_lexer": "ipython3",
   "version": "3.7.1"
  }
 },
 "nbformat": 4,
 "nbformat_minor": 2
}
