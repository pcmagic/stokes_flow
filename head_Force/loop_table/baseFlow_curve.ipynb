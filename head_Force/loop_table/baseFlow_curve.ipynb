{
 "cells": [
  {
   "cell_type": "code",
   "execution_count": 1,
   "metadata": {},
   "outputs": [],
   "source": [
    "# !/usr/bin/env python3\n",
    "# -*- coding: utf-8 -*-\n",
    "\"\"\"\n",
    "Created on 20191125\n",
    "\n",
    "@author: zhangji\n",
    "\n",
    "test the linear relationship\n",
    "U_t =?= U_sh + U_wm\n",
    "U_t is the total velocity\n",
    "U_sh is the velocity induced by shear flow\n",
    "U_wm is the active velocity. \n",
    "\"\"\"\n",
    "\n",
    "# %pylab inline\n",
    "# pylab.rcParams['figure.figsize'] = (25, 11)\n",
    "# fontsize = 40\n",
    "\n",
    "# import numpy as np\n",
    "# import scipy as sp\n",
    "# from scipy.optimize import leastsq, curve_fit\n",
    "# from scipy import interpolate\n",
    "# from scipy.interpolate import interp1d\n",
    "# from scipy.io import loadmat, savemat\n",
    "# # import scipy.misc\n",
    "\n",
    "# import matplotlib\n",
    "# from matplotlib import pyplot as plt\n",
    "# from matplotlib import animation, rc\n",
    "# import matplotlib.ticker as mtick\n",
    "# from mpl_toolkits.axes_grid1.inset_locator import inset_axes, zoomed_inset_axes\n",
    "# from mpl_toolkits.mplot3d import Axes3D, axes3d\n",
    "\n",
    "# from sympy import symbols, simplify, series, exp\n",
    "# from sympy.matrices import Matrix\n",
    "# from sympy.solvers import solve\n",
    "\n",
    "# from IPython.display import display, HTML\n",
    "# from tqdm import tqdm_notebook as tqdm\n",
    "# import pandas as pd\n",
    "# import re\n",
    "# from scanf import scanf\n",
    "# import os\n",
    "# import glob\n",
    "\n",
    "# from codeStore import support_fun as spf\n",
    "# from src.support_class import *\n",
    "# from src import stokes_flow as sf\n",
    "\n",
    "# rc('animation', html='html5')\n",
    "# PWD = os.getcwd()\n",
    "# font = {'size': 20}\n",
    "# matplotlib.rc('font', **font)\n",
    "# np.set_printoptions(linewidth=90, precision=5)\n",
    "\n",
    "%load_ext autoreload\n",
    "%autoreload 2\n",
    "\n",
    "import os\n",
    "import glob\n",
    "import re\n",
    "import pandas as pd\n",
    "from scanf import scanf\n",
    "import natsort \n",
    "import numpy as np\n",
    "import scipy as sp\n",
    "from scipy.optimize import leastsq, curve_fit\n",
    "from scipy import interpolate, spatial, sparse, optimize\n",
    "# from scipy.interpolate import interp1d\n",
    "from scipy.io import loadmat, savemat\n",
    "# import scipy.misc\n",
    "import importlib\n",
    "from IPython.display import display, HTML\n",
    "import pickle\n",
    "\n",
    "import matplotlib\n",
    "from matplotlib import pyplot as plt\n",
    "from matplotlib import colors as mcolors\n",
    "from matplotlib import animation, rc\n",
    "import matplotlib.ticker as mtick\n",
    "from mpl_toolkits.axes_grid1.inset_locator import inset_axes, zoomed_inset_axes\n",
    "from mpl_toolkits.mplot3d import Axes3D, axes3d\n",
    "from matplotlib import ticker, cm\n",
    "from mpl_toolkits.axes_grid1 import make_axes_locatable\n",
    "\n",
    "from time import time\n",
    "from src import support_class as spc\n",
    "from src import jeffery_model as jm\n",
    "from codeStore import support_fun as spf\n",
    "from codeStore import support_fun_table as spf_tb\n",
    "\n",
    "# %matplotlib notebook\n",
    "\n",
    "%matplotlib inline\n",
    "rc('animation', html='html5')\n",
    "rc('text', usetex=True)\n",
    "params = {'text.latex.preamble': [r'\\usepackage{bm}', r'\\usepackage{amsmath}']}\n",
    "plt.rcParams.update(params)\n",
    "fontsize = 40\n",
    "figsize = (30, 16)\n",
    "PWD = os.getcwd()"
   ]
  },
  {
   "cell_type": "code",
   "execution_count": 2,
   "metadata": {},
   "outputs": [
    {
     "data": {
      "image/png": "[encoded data removed]",
      "text/plain": [
       "<Figure size 144x144 with 1 Axes>"
      ]
     },
     "metadata": {},
     "output_type": "display_data"
    }
   ],
   "source": [
    "fig = plt.figure(figsize=(2, 2))\n",
    "fig.patch.set_facecolor('white')\n",
    "ax0 = fig.add_subplot(1, 1, 1)"
   ]
  },
  {
   "cell_type": "code",
   "execution_count": 4,
   "metadata": {},
   "outputs": [
    {
     "data": {
      "text/plain": [
       "array([[ 4.54421792e-01, -1.70841659e-05,  2.15117240e-07],\n",
       "       [-1.32320423e-01, -2.18376942e-05, -3.18737211e-06],\n",
       "       [-3.17170214e-06,  8.07184556e-01, -4.39438280e-06],\n",
       "       [-1.20039731e-07,  4.35344191e-07,  6.05959068e-02],\n",
       "       [ 1.44139640e-07,  4.88388708e-07,  2.97835889e-06]])"
      ]
     },
     "metadata": {},
     "output_type": "display_data"
    },
    {
     "data": {
      "text/plain": [
       "array([[-1.41011613e-07,  2.90499422e-07,  1.08864381e-05],\n",
       "       [-1.44997826e-06, -4.02168914e-06,  1.34990679e-05],\n",
       "       [-1.80105930e-06, -5.43934238e-06, -5.48793178e-01],\n",
       "       [ 1.20565217e-06, -8.85711172e-01, -2.20900596e-08],\n",
       "       [ 9.67713920e-01,  3.64893044e-06, -5.05933269e-07]])"
      ]
     },
     "metadata": {},
     "output_type": "display_data"
    },
    {
     "data": {
      "text/plain": [
       "array([0., 0., 0., 0., 0., 0.])"
      ]
     },
     "metadata": {},
     "output_type": "display_data"
    },
    {
     "data": {
      "text/plain": [
       "array([[ 0.45442179,  0.        ,  0.        ],\n",
       "       [-0.13232042,  0.        ,  0.        ],\n",
       "       [ 0.        ,  0.80718456,  0.        ],\n",
       "       [ 0.        ,  0.        ,  0.06059591],\n",
       "       [ 0.        ,  0.        ,  0.        ]])"
      ]
     },
     "metadata": {},
     "output_type": "display_data"
    },
    {
     "data": {
      "text/plain": [
       "array([[ 0.        ,  0.        ,  0.        ],\n",
       "       [ 0.        ,  0.        ,  0.        ],\n",
       "       [ 0.        ,  0.        , -0.54879318],\n",
       "       [ 0.        , -0.88571117,  0.        ],\n",
       "       [ 0.96771392,  0.        ,  0.        ]])"
      ]
     },
     "metadata": {},
     "output_type": "display_data"
    },
    {
     "data": {
      "text/plain": [
       "array([0., 0., 0., 0., 0., 0.])"
      ]
     },
     "metadata": {},
     "output_type": "display_data"
    },
    {
     "name": "stdout",
     "output_type": "stream",
     "text": [
      "save table_data to curve0.5_baseFlow_mdf.pickle\n"
     ]
    }
   ],
   "source": [
    "from shutil import copyfile\n",
    "\n",
    "pickle_name = 'curve0.5_baseFlow'\n",
    "mdf_pickle_name = 'curve0.5_baseFlow_mdf'\n",
    "\n",
    "with open('%s.pickle' % pickle_name, 'rb') as handle:\n",
    "    pickle_dict = pickle.load(handle)\n",
    "display(np.vstack(pickle_dict['uw_Base_list'])[1:6, :3])\n",
    "display(np.vstack(pickle_dict['uw_Base_list'])[1:6, 3:])\n",
    "display(np.vstack(pickle_dict['uw_Base_list'])[9, :])\n",
    "\n",
    "t1 = pickle_dict['uw_Base_list'].copy()\n",
    "for i0 in (1, 2, 3, 4, 5):\n",
    "    t1[i0] = np.zeros_like(t1[i0])\n",
    "t1[1][0] = pickle_dict['uw_Base_list'][1][0]\n",
    "t1[2][0] = pickle_dict['uw_Base_list'][2][0]\n",
    "t1[3][1] = pickle_dict['uw_Base_list'][3][1]\n",
    "t1[4][2] = pickle_dict['uw_Base_list'][4][2]\n",
    "t1[3][5] = pickle_dict['uw_Base_list'][3][5]\n",
    "t1[4][4] = pickle_dict['uw_Base_list'][4][4]\n",
    "t1[5][3] = pickle_dict['uw_Base_list'][5][3]\n",
    "display(np.vstack(t1)[1:6, :3])\n",
    "display(np.vstack(t1)[1:6, 3:])\n",
    "display(np.vstack(t1)[9, :])\n",
    "\n",
    "pickle_dict['uw_Base_list'] = t1\n",
    "tname = '%s.pickle' % mdf_pickle_name\n",
    "with open(tname, 'wb') as handle:\n",
    "    pickle.dump(pickle_dict, handle, protocol=pickle.HIGHEST_PROTOCOL)\n",
    "copyfile(tname, os.path.join(os.getcwd(), os.pardir, os.pardir, 'src', tname))\n",
    "print('save table_data to %s' % tname)\n"
   ]
  },
  {
   "cell_type": "code",
   "execution_count": null,
   "metadata": {},
   "outputs": [],
   "source": []
  }
 ],
 "metadata": {
  "kernelspec": {
   "display_name": "Python 3",
   "language": "python",
   "name": "python3"
  },
  "language_info": {
   "codemirror_mode": {
    "name": "ipython",
    "version": 3
   },
   "file_extension": ".py",
   "mimetype": "text/x-python",
   "name": "python",
   "nbconvert_exporter": "python",
   "pygments_lexer": "ipython3",
   "version": "3.5.6"
  }
 },
 "nbformat": 4,
 "nbformat_minor": 4
}
