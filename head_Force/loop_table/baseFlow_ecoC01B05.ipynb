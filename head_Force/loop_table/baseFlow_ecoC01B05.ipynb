{
 "cells": [
  {
   "cell_type": "code",
   "execution_count": 1,
   "metadata": {},
   "outputs": [],
   "source": [
    "# !/usr/bin/env python3\n",
    "# -*- coding: utf-8 -*-\n",
    "\"\"\"\n",
    "Created on 20191125\n",
    "\n",
    "@author: zhangji\n",
    "\n",
    "test the linear relationship\n",
    "U_t =?= U_sh + U_wm\n",
    "U_t is the total velocity\n",
    "U_sh is the velocity induced by shear flow\n",
    "U_wm is the active velocity. \n",
    "\"\"\"\n",
    "\n",
    "# %pylab inline\n",
    "# pylab.rcParams['figure.figsize'] = (25, 11)\n",
    "# fontsize = 40\n",
    "\n",
    "# import numpy as np\n",
    "# import scipy as sp\n",
    "# from scipy.optimize import leastsq, curve_fit\n",
    "# from scipy import interpolate\n",
    "# from scipy.interpolate import interp1d\n",
    "# from scipy.io import loadmat, savemat\n",
    "# # import scipy.misc\n",
    "\n",
    "# import matplotlib\n",
    "# from matplotlib import pyplot as plt\n",
    "# from matplotlib import animation, rc\n",
    "# import matplotlib.ticker as mtick\n",
    "# from mpl_toolkits.axes_grid1.inset_locator import inset_axes, zoomed_inset_axes\n",
    "# from mpl_toolkits.mplot3d import Axes3D, axes3d\n",
    "\n",
    "# from sympy import symbols, simplify, series, exp\n",
    "# from sympy.matrices import Matrix\n",
    "# from sympy.solvers import solve\n",
    "\n",
    "# from IPython.display import display, HTML\n",
    "# from tqdm import tqdm_notebook as tqdm\n",
    "# import pandas as pd\n",
    "# import re\n",
    "# from scanf import scanf\n",
    "# import os\n",
    "# import glob\n",
    "\n",
    "# from codeStore import support_fun as spf\n",
    "# from src.support_class import *\n",
    "# from src import stokes_flow as sf\n",
    "\n",
    "# rc('animation', html='html5')\n",
    "# PWD = os.getcwd()\n",
    "# font = {'size': 20}\n",
    "# matplotlib.rc('font', **font)\n",
    "# np.set_printoptions(linewidth=90, precision=5)\n",
    "\n",
    "%load_ext autoreload\n",
    "%autoreload 2\n",
    "\n",
    "import os\n",
    "import glob\n",
    "import re\n",
    "import pandas as pd\n",
    "from scanf import scanf\n",
    "import natsort \n",
    "import numpy as np\n",
    "import scipy as sp\n",
    "from scipy.optimize import leastsq, curve_fit\n",
    "from scipy import interpolate, spatial, sparse, optimize\n",
    "# from scipy.interpolate import interp1d\n",
    "from scipy.io import loadmat, savemat\n",
    "# import scipy.misc\n",
    "import importlib\n",
    "from IPython.display import display, HTML\n",
    "import pickle\n",
    "\n",
    "import matplotlib\n",
    "from matplotlib import pyplot as plt\n",
    "from matplotlib import colors as mcolors\n",
    "from matplotlib import animation, rc\n",
    "import matplotlib.ticker as mtick\n",
    "from mpl_toolkits.axes_grid1.inset_locator import inset_axes, zoomed_inset_axes\n",
    "from mpl_toolkits.mplot3d import Axes3D, axes3d\n",
    "from matplotlib import ticker, cm\n",
    "from mpl_toolkits.axes_grid1 import make_axes_locatable\n",
    "\n",
    "from time import time\n",
    "from src import support_class as spc\n",
    "from src import jeffery_model as jm\n",
    "from codeStore import support_fun as spf\n",
    "from codeStore import support_fun_table as spf_tb\n",
    "\n",
    "# %matplotlib notebook\n",
    "\n",
    "%matplotlib inline\n",
    "rc('animation', html='html5')\n",
    "rc('text', usetex=True)\n",
    "params = {'text.latex.preamble': [r'\\usepackage{bm}', r'\\usepackage{amsmath}']}\n",
    "plt.rcParams.update(params)\n",
    "fontsize = 40\n",
    "figsize = (30, 16)\n",
    "PWD = os.getcwd()"
   ]
  },
  {
   "cell_type": "code",
   "execution_count": 2,
   "metadata": {},
   "outputs": [
    {
     "data": {
      "image/png": "[encoded data removed]",
      "text/plain": [
       "<Figure size 144x144 with 1 Axes>"
      ]
     },
     "metadata": {},
     "output_type": "display_data"
    }
   ],
   "source": [
    "fig = plt.figure(figsize=(2, 2))\n",
    "fig.patch.set_facecolor('white')\n",
    "ax0 = fig.add_subplot(1, 1, 1)"
   ]
  },
  {
   "cell_type": "code",
   "execution_count": 185,
   "metadata": {},
   "outputs": [
    {
     "data": {
      "text/plain": [
       "array([[ 0.01918099,  0.00645598,  0.00301099],\n",
       "       [ 0.05175448, -0.01726388,  0.13302732],\n",
       "       [-0.00587169,  0.02216605,  0.03909139],\n",
       "       [-0.01467631,  0.91704157, -0.03815134],\n",
       "       [-0.92593202, -0.01532141,  0.00121409]])"
      ]
     },
     "metadata": {},
     "output_type": "display_data"
    },
    {
     "data": {
      "text/plain": [
       "array([[ 0.        ,  0.        ,  0.        ],\n",
       "       [ 0.        ,  0.        ,  0.13302732],\n",
       "       [ 0.        ,  0.        ,  0.        ],\n",
       "       [-0.01499886,  0.9214868 ,  0.        ],\n",
       "       [-0.9214868 , -0.01499886,  0.        ]])"
      ]
     },
     "metadata": {},
     "output_type": "display_data"
    },
    {
     "name": "stdout",
     "output_type": "stream",
     "text": [
      "save table_data to ecoB03B05_baseFlow_mdf.pickle\n"
     ]
    }
   ],
   "source": [
    "from shutil import copyfile\n",
    "\n",
    "# pickle_name = 'ecoC01B05_baseFlow'\n",
    "# mdf_pickle_name = 'ecoC01B05_baseFlow_mdf'\n",
    "\n",
    "# pickle_name = 'ecoB01_baseFlow'\n",
    "# mdf_pickle_name = 'ecoB01_baseFlow_mdf'\n",
    "\n",
    "# pickle_name = 'hlxC02B05_baseFlow'\n",
    "# mdf_pickle_name = 'hlxC02B05_baseFlow_mdf'\n",
    "\n",
    "# pickle_name = 'hlxC03B05_baseFlow'\n",
    "# mdf_pickle_name = 'hlxC03B05_baseFlow_mdf'\n",
    "\n",
    "pickle_name = 'ecoB05_baseFlow4'\n",
    "mdf_pickle_name = 'ecoB05_baseFlow4_mdf'\n",
    "\n",
    "pickle_name = 'ecoB03B05_baseFlow'\n",
    "mdf_pickle_name = 'ecoB03B05_baseFlow_mdf'\n",
    "\n",
    "with open('%s.pickle' % pickle_name, 'rb') as handle:\n",
    "    pickle_dict = pickle.load(handle)\n",
    "display(np.vstack(pickle_dict['uw_Base_list'])[1:6, 3:])\n",
    "\n",
    "t1 = pickle_dict['uw_Base_list'].copy()\n",
    "# for i0 in (0, 6, 7, 8, 9):\n",
    "for i0 in (0, 1, 2, 3, 4, 5, 6, 7, 8, 9):\n",
    "    t1[i0] = np.zeros_like(t1[i0])\n",
    "t1[2][5] = pickle_dict['uw_Base_list'][2][5]\n",
    "ta1 = (pickle_dict['uw_Base_list'][4][3] + pickle_dict['uw_Base_list'][5][4]) / 2\n",
    "ta2 = (pickle_dict['uw_Base_list'][4][4] - pickle_dict['uw_Base_list'][5][3]) / 2\n",
    "t1[4][3] = ta1\n",
    "t1[4][4] = ta2\n",
    "t1[5][3] = -ta2\n",
    "t1[5][4] = ta1\n",
    "t1[9] = pickle_dict['uw_Base_list'][9]\n",
    "display(np.vstack(t1)[1:6, 3:])\n",
    "\n",
    "# # t1[2][5] = pickle_dict['uw_Base_list'][2][5]\n",
    "# ta2 = (pickle_dict['uw_Base_list'][4][4] + pickle_dict['uw_Base_list'][5][3]) / 2\n",
    "# t1[3][5] = pickle_dict['uw_Base_list'][3][5]\n",
    "# t1[4][4] = pickle_dict['uw_Base_list'][4][4]\n",
    "# t1[5][3] = pickle_dict['uw_Base_list'][5][3]\n",
    "# # t1[4][4] = -ta2\n",
    "# # t1[5][3] = -ta2\n",
    "# t1[9] = pickle_dict['uw_Base_list'][9]\n",
    "# display(np.vstack(t1)[1:6, 3:])\n",
    "\n",
    "pickle_dict['uw_Base_list'] = t1\n",
    "tname = '%s.pickle' % mdf_pickle_name\n",
    "with open(tname, 'wb') as handle:\n",
    "    pickle.dump(pickle_dict, handle, protocol=pickle.HIGHEST_PROTOCOL)\n",
    "copyfile(tname, os.path.join(os.getcwd(), os.pardir, os.pardir, 'src', tname))\n",
    "print('save table_data to %s' % tname)\n"
   ]
  },
  {
   "cell_type": "code",
   "execution_count": 258,
   "metadata": {},
   "outputs": [
    {
     "data": {
      "text/plain": [
       "array([[ 8.73490227e-03, -3.04951663e-04,  9.22176811e-05],\n",
       "       [-1.77658091e-02, -1.73520598e-02, -5.82374515e-02],\n",
       "       [ 5.32147082e-03,  4.78599433e-03,  6.07358035e-03],\n",
       "       [ 9.87611809e-03, -1.79897016e-02,  1.37028527e-02],\n",
       "       [ 2.13276729e-02, -6.80206271e-04,  6.09546251e-03]])"
      ]
     },
     "metadata": {},
     "output_type": "display_data"
    },
    {
     "data": {
      "text/plain": [
       "array([[-0.00628201, -0.00359604, -0.26093982],\n",
       "       [-0.03146625,  0.02636917,  0.0252918 ],\n",
       "       [ 0.00262137, -0.01267284,  0.53868783],\n",
       "       [-0.00136997,  0.93545887,  0.02544567],\n",
       "       [-0.98074473, -0.02252829,  0.00462777]])"
      ]
     },
     "metadata": {},
     "output_type": "display_data"
    },
    {
     "data": {
      "text/plain": [
       "array([ 6.35418425e-04, -2.19676135e-03,  4.02494122e-03, -1.31786126e-03,\n",
       "       -1.23559401e-03, -7.57100877e-01])"
      ]
     },
     "metadata": {},
     "output_type": "display_data"
    },
    {
     "data": {
      "text/plain": [
       "array([[ 0.        ,  0.        ,  0.        ],\n",
       "       [ 0.        ,  0.        ,  0.0126459 ],\n",
       "       [ 0.        ,  0.        ,  0.        ],\n",
       "       [-0.01194913,  0.9581018 ,  0.        ],\n",
       "       [-0.9581018 , -0.01194913,  0.        ]])"
      ]
     },
     "metadata": {},
     "output_type": "display_data"
    },
    {
     "data": {
      "text/plain": [
       "array([[ 0.        ,  0.        ,  0.        ],\n",
       "       [ 0.        ,  0.        , -0.02911873],\n",
       "       [ 0.        ,  0.        ,  0.        ],\n",
       "       [ 0.00459796, -0.01965869,  0.        ],\n",
       "       [ 0.01965869,  0.00459796,  0.        ]])"
      ]
     },
     "metadata": {},
     "output_type": "display_data"
    },
    {
     "data": {
      "text/plain": [
       "array([ 6.35418425e-04, -2.19676135e-03,  4.02494122e-03, -1.31786126e-03,\n",
       "       -1.23559401e-03, -7.57100877e-01])"
      ]
     },
     "metadata": {},
     "output_type": "display_data"
    },
    {
     "name": "stdout",
     "output_type": "stream",
     "text": [
      "save table_data to ecoC01B05_baseFlow_avr.pickle\n"
     ]
    }
   ],
   "source": [
    "from shutil import copyfile\n",
    "\n",
    "pickle_name = 'ecoC01B05_baseFlow'\n",
    "mdf_pickle_name = 'ecoC01B05_baseFlow_avr'\n",
    "\n",
    "with open('%s.pickle' % pickle_name, 'rb') as handle:\n",
    "    pickle_dict = pickle.load(handle)\n",
    "display(np.vstack(pickle_dict['uw_Base_list'])[1:6, :3])\n",
    "display(np.vstack(pickle_dict['uw_Base_list'])[1:6, 3:])\n",
    "display(np.vstack(pickle_dict['uw_Base_list'])[9, :])\n",
    "\n",
    "t1 = pickle_dict['uw_Base_list'].copy()\n",
    "# for i0 in (0, 6, 7, 8, 9):\n",
    "for i0 in (1, 2, 3, 4, 5, ):\n",
    "    t1[i0] = np.zeros_like(t1[i0])\n",
    "# w\n",
    "t1[2][5] = pickle_dict['uw_Base_list'][2][5] / 2\n",
    "ta1 = (pickle_dict['uw_Base_list'][4][3] + pickle_dict['uw_Base_list'][5][4]) / 2 * 1\n",
    "ta2 = (pickle_dict['uw_Base_list'][4][4] - pickle_dict['uw_Base_list'][5][3]) / 2 * 1\n",
    "# t1[2][5] = -0.085985 * 10\n",
    "# ta1 = 0.234483 * 10\n",
    "# ta2 = -0.087434 * 10\n",
    "t1[4][3] = ta1\n",
    "t1[4][4] = ta2\n",
    "t1[5][3] = -ta2\n",
    "t1[5][4] = ta1\n",
    "display(np.vstack(t1)[1:6, 3:])\n",
    "# u\n",
    "t1[2][2] = pickle_dict['uw_Base_list'][2][2] / 2\n",
    "ta1 = (pickle_dict['uw_Base_list'][4][0] + pickle_dict['uw_Base_list'][5][1]) / 2\n",
    "ta2 = (pickle_dict['uw_Base_list'][4][1] - pickle_dict['uw_Base_list'][5][0]) / 2\n",
    "t1[4][0] = ta1\n",
    "t1[4][1] = ta2\n",
    "t1[5][0] = -ta2\n",
    "t1[5][1] = ta1\n",
    "display(np.vstack(t1)[1:6, :3])\n",
    "display(np.vstack(t1)[9, :])\n",
    "\n",
    "pickle_dict['uw_Base_list'] = t1\n",
    "tname = '%s.pickle' % mdf_pickle_name\n",
    "with open(tname, 'wb') as handle:\n",
    "    pickle.dump(pickle_dict, handle, protocol=pickle.HIGHEST_PROTOCOL)\n",
    "copyfile(tname, os.path.join(os.getcwd(), os.pardir, os.pardir, 'src', tname))\n",
    "print('save table_data to %s' % tname)\n"
   ]
  },
  {
   "cell_type": "code",
   "execution_count": 7,
   "metadata": {},
   "outputs": [
    {
     "data": {
      "text/plain": [
       "array([[ 8.73490227e-03, -3.04951663e-04,  9.22176811e-05],\n",
       "       [-1.77658091e-02, -1.73520598e-02, -5.82374515e-02],\n",
       "       [ 5.32147082e-03,  4.78599433e-03,  6.07358035e-03],\n",
       "       [ 9.87611809e-03, -1.79897016e-02,  1.37028527e-02],\n",
       "       [ 2.13276729e-02, -6.80206271e-04,  6.09546251e-03]])"
      ]
     },
     "metadata": {},
     "output_type": "display_data"
    },
    {
     "data": {
      "text/plain": [
       "array([[-0.00628201, -0.00359604, -0.26093982],\n",
       "       [-0.03146625,  0.02636917,  0.0252918 ],\n",
       "       [ 0.00262137, -0.01267284,  0.53868783],\n",
       "       [-0.00136997,  0.93545887,  0.02544567],\n",
       "       [-0.98074473, -0.02252829,  0.00462777]])"
      ]
     },
     "metadata": {},
     "output_type": "display_data"
    },
    {
     "data": {
      "text/plain": [
       "array([ 6.35418425e-04, -2.19676135e-03,  4.02494122e-03, -1.31786126e-03,\n",
       "       -1.23559401e-03, -7.57100877e-01])"
      ]
     },
     "metadata": {},
     "output_type": "display_data"
    },
    {
     "name": "stdout",
     "output_type": "stream",
     "text": [
      "\\begin{tabular}{rrr}\n",
      "\\hline\n",
      "  8.73e-03 & -3.05e-04 &  9.22e-05 \\\\\n",
      " -1.78e-02 & -1.74e-02 & -5.82e-02 \\\\\n",
      "  5.32e-03 &  4.79e-03 &  6.07e-03 \\\\\n",
      "  9.88e-03 & -1.80e-02 &  1.37e-02 \\\\\n",
      "  2.13e-02 & -6.80e-04 &  6.10e-03 \\\\\n",
      "\\hline\n",
      "\\end{tabular}\n"
     ]
    },
    {
     "data": {
      "text/plain": [
       "{'MPISIZE': 24,\n",
       " 'Tfct': 1,\n",
       " 'basei': 1,\n",
       " 'belemshandle': 'belems',\n",
       " 'bnodeshandle': 'bnodes',\n",
       " 'center': array([0, 0, 0]),\n",
       " 'ch': 3.0,\n",
       " 'dist_hs': 0.5,\n",
       " 'ds': 0.023333,\n",
       " 'eT': -1.0,\n",
       " 'eh': -1.0,\n",
       " 'es': -1.0,\n",
       " 'ffweightT': 2.0,\n",
       " 'ffweightx': 2.0,\n",
       " 'ffweighty': 2.0,\n",
       " 'ffweightz': 2.0,\n",
       " 'field_range': array([[-3, -3, -3],\n",
       "        [ 3,  3,  3]]),\n",
       " 'fileHandle': 'ecoC01B05_baseFlow',\n",
       " 'getConvergenceHistory': False,\n",
       " 'hfct': 1.0,\n",
       " 'int_epsabs': 1e-200,\n",
       " 'int_epsrel': 1e-10,\n",
       " 'int_limit': 1000,\n",
       " 'left_hand': False,\n",
       " 'ls': 1.0,\n",
       " 'matname': 'body1',\n",
       " 'matrix_method': 'pf',\n",
       " 'n_grid': array([10, 10, 10]),\n",
       " 'n_node_threshold': 5000,\n",
       " 'n_tail': 1,\n",
       " 'ntT': 20,\n",
       " 'nth': 20,\n",
       " 'ph': 0.666667,\n",
       " 'pickProblem': False,\n",
       " 'plot_geo': False,\n",
       " 'precondition_method': 'none',\n",
       " 'rT1': 0.2,\n",
       " 'rT2': 0.03,\n",
       " 'region_type': 'rectangle',\n",
       " 'rel_Uh': array([0., 0., 0., 0., 0., 0.]),\n",
       " 'rel_Us': array([0., 0., 0., 0., 0., 0.]),\n",
       " 'repeat_n': 1,\n",
       " 'restart': False,\n",
       " 'rh1': 0.2,\n",
       " 'rh11': 0.3,\n",
       " 'rh12': 0.1,\n",
       " 'rh2': 0.03,\n",
       " 'rot_norm': array([1, 0, 0]),\n",
       " 'rot_theta': 0,\n",
       " 'rs1': 0.5,\n",
       " 'rs2': 0.166667,\n",
       " 'save_vtk': False,\n",
       " 'solve_method': 'gmres',\n",
       " 'with_T_geo': False,\n",
       " 'with_cover': 2,\n",
       " 'zoom_factor': 1.0}"
      ]
     },
     "metadata": {},
     "output_type": "display_data"
    }
   ],
   "source": [
    "from tabulate import tabulate\n",
    "\n",
    "# pickle_name = 'ecoB01B05_baseFlow'\n",
    "pickle_name = 'ecoC01B05_baseFlow'\n",
    "# pickle_name = 'ecoC01B05_baseFlow_avr'\n",
    "# pickle_name = 'ellipsoidB05_baseFlow'\n",
    "with open('%s.pickle' % pickle_name, 'rb') as handle:\n",
    "    pickle_dict = pickle.load(handle)\n",
    "display(np.vstack(pickle_dict['uw_Base_list'])[1:6, :3])\n",
    "display(np.vstack(pickle_dict['uw_Base_list'])[1:6, 3:])\n",
    "display(np.vstack(pickle_dict['uw_Base_list'])[9, :])\n",
    "\n",
    "print(tabulate(np.vstack(pickle_dict['uw_Base_list'])[1:6, :3], tablefmt=\"latex\", floatfmt=\".2e\"))\n",
    "display(pickle_dict['problem_kwargs'])"
   ]
  },
  {
   "cell_type": "code",
   "execution_count": 6,
   "metadata": {},
   "outputs": [
    {
     "data": {
      "text/plain": [
       "2.000001"
      ]
     },
     "execution_count": 6,
     "metadata": {},
     "output_type": "execute_result"
    }
   ],
   "source": [
    "0.666667 * 3"
   ]
  },
  {
   "cell_type": "code",
   "execution_count": 234,
   "metadata": {
    "collapsed": true
   },
   "outputs": [
    {
     "data": {
      "text/plain": [
       "{'MPISIZE': 24,\n",
       " 'Tfct': 1,\n",
       " 'basei': 1,\n",
       " 'belemshandle': 'belems',\n",
       " 'bnodeshandle': 'bnodes',\n",
       " 'center': array([0, 0, 0]),\n",
       " 'ch': 3.0,\n",
       " 'dist_hs': 0.5,\n",
       " 'ds': 0.023333,\n",
       " 'eT': -1.0,\n",
       " 'eh': -1.0,\n",
       " 'es': -1.0,\n",
       " 'ffweightT': 2.0,\n",
       " 'ffweightx': 2.0,\n",
       " 'ffweighty': 2.0,\n",
       " 'ffweightz': 2.0,\n",
       " 'fileHandle': 'ecoB03B05_baseFlow',\n",
       " 'getConvergenceHistory': False,\n",
       " 'hfct': 1.0,\n",
       " 'hlx_ini_rot_phi': 0,\n",
       " 'hlx_ini_rot_theta': 0,\n",
       " 'int_epsabs': 1e-200,\n",
       " 'int_epsrel': 1e-10,\n",
       " 'int_limit': 1000,\n",
       " 'left_hand': False,\n",
       " 'ls': 1.0,\n",
       " 'matname': 'body1',\n",
       " 'matrix_method': 'pf',\n",
       " 'n_node_threshold': 5000,\n",
       " 'n_tail': 1,\n",
       " 'ntT': 10,\n",
       " 'nth': 10,\n",
       " 'ph': 0.666667,\n",
       " 'pickProblem': False,\n",
       " 'plot_geo': False,\n",
       " 'precondition_method': 'none',\n",
       " 'rT1': 0.2,\n",
       " 'rT2': 0.03,\n",
       " 'rel_Uh': array([0., 0., 0., 0., 0., 0.]),\n",
       " 'rel_Us': array([0., 0., 0., 0., 0., 0.]),\n",
       " 'repeat_n': 1,\n",
       " 'restart': False,\n",
       " 'rh1': 0.2,\n",
       " 'rh11': 0.3,\n",
       " 'rh12': 0.3,\n",
       " 'rh2': 0.03,\n",
       " 'rot_norm': array([1, 0, 0]),\n",
       " 'rot_theta': 0,\n",
       " 'rs1': 0.5,\n",
       " 'rs2': 0.166667,\n",
       " 'save_vtk': False,\n",
       " 'solve_method': 'gmres',\n",
       " 'with_T_geo': False,\n",
       " 'with_cover': 2,\n",
       " 'zoom_factor': 1.0}"
      ]
     },
     "execution_count": 234,
     "metadata": {},
     "output_type": "execute_result"
    }
   ],
   "source": [
    "pickle_name = 'ecoC01B05_baseFlow'\n",
    "pickle_name = 'ecoB01B05_baseFlow'\n",
    "# pickle_name = 'ecoB03B05_baseFlow'\n",
    "\n",
    "with open('%s.pickle' % pickle_name, 'rb') as handle:\n",
    "    pickle_dict = pickle.load(handle)\n",
    "\n",
    "pickle_dict['problem_kwargs']"
   ]
  },
  {
   "cell_type": "code",
   "execution_count": 103,
   "metadata": {},
   "outputs": [
    {
     "data": {
      "text/plain": [
       "array([[-0.00628201, -0.00359604, -0.26093982],\n",
       "       [-0.03146625,  0.02636917,  0.0252918 ],\n",
       "       [ 0.00262137, -0.01267284,  0.53868783],\n",
       "       [-0.00136997,  0.93545887,  0.02544567],\n",
       "       [-0.98074473, -0.02252829,  0.00462777]])"
      ]
     },
     "metadata": {},
     "output_type": "display_data"
    },
    {
     "data": {
      "text/plain": [
       "0.0"
      ]
     },
     "execution_count": 103,
     "metadata": {},
     "output_type": "execute_result"
    }
   ],
   "source": [
    "beta = lambda theta, phi, psi: np.array((np.cos(psi)*(-(np.cos(phi)*np.cos(psi)*np.cos(theta)) + np.sin(phi)*np.sin(psi))*np.sin(theta),np.cos(phi)*np.cos(theta)*np.sin(theta),(2*np.cos(2*psi)*np.sin(phi)*np.sin(theta) + np.cos(phi)*np.sin(2*psi)*np.sin(2*theta))/4.,(np.cos(phi)*np.cos(psi)*np.cos(2*theta) - np.cos(theta)*np.sin(phi)*np.sin(psi))/2.,(-(np.cos(psi)*np.cos(theta)*np.sin(phi)) - np.cos(phi)*np.cos(2*theta)*np.sin(psi))/2.))\n",
    "pickle_name = 'ecoC01B05_baseFlow'\n",
    "\n",
    "# pickle_name = 'ecoC01B05_left_baseFlow'\n",
    "with open('%s.pickle' % pickle_name, 'rb') as handle:\n",
    "    pickle_dict = pickle.load(handle)\n",
    "display(np.vstack(pickle_dict['uw_Base_list'])[1:6, 3:])\n",
    "\n",
    "omega_E = np.vstack(pickle_dict['uw_Base_list'])[1:6, 5]\n",
    "omega_all = lambda theta, phi, psi: beta(theta, phi, psi) * omega_E\n",
    "omega_123 = lambda x: np.sum(omega_all(x[0], x[1], x[2])[0:3])\n",
    "omega_123_ngt = lambda x: -1 * np.sum(omega_all(x[0], x[1], x[2])[0:3])\n",
    "# def omega_123(theta, phi, psi):\n",
    "#     return np.sum(omega_all(theta, phi, psi)[0:3])\n",
    "omega_45 = lambda x: np.sum(omega_all(x[0], x[1], x[2])[3:])\n",
    "\n",
    "omega_123((0, 0, 0))"
   ]
  },
  {
   "cell_type": "code",
   "execution_count": 180,
   "metadata": {},
   "outputs": [
    {
     "name": "stdout",
     "output_type": "stream",
     "text": [
      "-0.299280039768691 [0.50000107 0.50000285 1.42820861]\n",
      "-0.299280039800997 [0.50000109 1.500001   0.9282073 ]\n",
      "-0.299280039803084 [0.49999993 0.49999969 0.42820688]\n",
      "-0.299280039802826 [0.50000004 0.49999997 1.42820723]\n",
      "-0.299280039721597 [0.50000622 0.5000019  1.42820655]\n",
      "-0.299280039803145 [0.50000037 1.50000017 1.92820693]\n",
      "-0.299280039803074 [0.49999958 1.49999986 0.92820689]\n",
      "-0.299280039802491 [0.50000047 0.50000037 1.42820695]\n",
      "-0.299280039803261 [0.49999992 1.49999994 0.92820688]\n"
     ]
    }
   ],
   "source": [
    "bounds = ((0, np.pi), (0, 2 * np.pi), (0, 2 * np.pi))\n",
    "omega_fun, thre = omega_45, -0.01293\n",
    "omega_fun, thre = omega_123, -0.2992\n",
    "\n",
    "for _ in range(10):\n",
    "    x_ini = np.random.sample(3) * (np.pi, 2 * np.pi, 2 * np.pi)\n",
    "#     x_ini = np.hstack((np.pi / 2, np.random.sample(2) * (2 * np.pi, 2 * np.pi)))\n",
    "    x_opt = optimize.minimize(omega_fun, x_ini, bounds=bounds)\n",
    "    if x_opt.fun < thre:\n",
    "        print('%.15f' % x_opt.fun, np.array(x_opt.x) / np.pi)\n",
    "#         print('%.15f' % x_opt.fun, (x_opt.x[1] + x_opt.x[2]) / np.pi, (x_opt.x[1] - x_opt.x[2]) / np.pi)"
   ]
  },
  {
   "cell_type": "code",
   "execution_count": 148,
   "metadata": {},
   "outputs": [
    {
     "data": {
      "text/plain": [
       "-0.012931535951450735"
      ]
     },
     "execution_count": 148,
     "metadata": {},
     "output_type": "execute_result"
    }
   ],
   "source": [
    "x_opt.fun"
   ]
  },
  {
   "cell_type": "code",
   "execution_count": 235,
   "metadata": {},
   "outputs": [
    {
     "data": {
      "text/plain": [
       "array([[ 0.        ,  0.        ,  0.        ],\n",
       "       [ 0.        ,  0.        , -0.02911873],\n",
       "       [ 0.        ,  0.        ,  0.        ],\n",
       "       [ 0.00459796, -0.01965869,  0.        ],\n",
       "       [ 0.01965869,  0.00459796,  0.        ]])"
      ]
     },
     "metadata": {},
     "output_type": "display_data"
    },
    {
     "data": {
      "text/plain": [
       "array([[ 0.        ,  0.        ,  0.        ],\n",
       "       [ 0.        ,  0.        ,  0.0126459 ],\n",
       "       [ 0.        ,  0.        ,  0.        ],\n",
       "       [-0.01194913,  0.9581018 ,  0.        ],\n",
       "       [-0.9581018 , -0.01194913,  0.        ]])"
      ]
     },
     "metadata": {},
     "output_type": "display_data"
    },
    {
     "data": {
      "text/plain": [
       "array([ 6.35418425e-04, -2.19676135e-03,  4.02494122e-03, -1.31786126e-03,\n",
       "       -1.23559401e-03, -7.57100877e-01])"
      ]
     },
     "metadata": {},
     "output_type": "display_data"
    }
   ],
   "source": [
    "# pickle_name = 'ecoC01B05_baseFlow'\n",
    "# pickle_name = 'ecoC01B05_left_baseFlow'\n",
    "# pickle_name = 'ecoB01B05_baseFlow'\n",
    "# pickle_name = 'ecoB03B05_baseFlow'\n",
    "# pickle_name = 'ellipsoidB05_baseFlow'\n",
    "pickle_name = 'ecoC01B05_baseFlow_avr'\n",
    "\n",
    "with open('%s.pickle' % pickle_name, 'rb') as handle:\n",
    "    pickle_dict = pickle.load(handle)\n",
    "display(np.vstack(pickle_dict['uw_Base_list'])[1:6, :3])\n",
    "display(np.vstack(pickle_dict['uw_Base_list'])[1:6, 3:])\n",
    "display(np.vstack(pickle_dict['uw_Base_list'])[9, :])\n",
    "# pickle_dict['problem_kwargs']"
   ]
  },
  {
   "cell_type": "code",
   "execution_count": null,
   "metadata": {},
   "outputs": [],
   "source": [
    "0.28"
   ]
  },
  {
   "cell_type": "code",
   "execution_count": 210,
   "metadata": {},
   "outputs": [
    {
     "data": {
      "text/plain": [
       "True"
      ]
     },
     "execution_count": 210,
     "metadata": {},
     "output_type": "execute_result"
    }
   ],
   "source": [
    "# pickle_name = 'ecoC01B05_baseFlow'\n",
    "# pickle_name = 'ecoB01B05_baseFlow'\n",
    "# pickle_name = 'ecoB03B05_baseFlow'\n",
    "# pickle_name = 'ecoC01B05_left_baseFlow'\n",
    "# pickle_name = 'ecoB01B05_left_baseFlow'\n",
    "# pickle_name = 'ecoB03B05_left_baseFlow'\n",
    "# pickle_name = 'ellipsoidB05_baseFlow'\n",
    "\n",
    "with open('%s.pickle' % pickle_name, 'rb') as handle:\n",
    "    pickle_dict = pickle.load(handle)\n",
    "# display(np.vstack(pickle_dict['uw_Base_list'])[1:6, :3])\n",
    "# display(np.vstack(pickle_dict['uw_Base_list'])[1:6, 3:])\n",
    "# display(np.vstack(pickle_dict['uw_Base_list'])[9, :])\n",
    "pickle_dict['problem_kwargs']['left_hand']"
   ]
  },
  {
   "cell_type": "code",
   "execution_count": null,
   "metadata": {},
   "outputs": [],
   "source": []
  },
  {
   "cell_type": "code",
   "execution_count": 220,
   "metadata": {},
   "outputs": [
    {
     "data": {
      "text/plain": [
       "array([[-5.27820152e-03,  3.06214703e-03, -1.23788447e-03],\n",
       "       [-1.36867316e-02, -2.16925927e-02, -2.83238140e-01],\n",
       "       [-2.99666884e-03, -5.66456515e-03,  1.52415513e-02],\n",
       "       [ 9.18116951e-03,  9.83360649e-01,  1.13729840e-02],\n",
       "       [-9.85437223e-01,  8.93287876e-03,  2.06512954e-05]])"
      ]
     },
     "metadata": {},
     "output_type": "display_data"
    },
    {
     "data": {
      "text/plain": [
       "array([ 0.00068004,  0.00244182, -0.00720577,  0.00172415, -0.00289499,\n",
       "       -0.38606887])"
      ]
     },
     "metadata": {},
     "output_type": "display_data"
    },
    {
     "data": {
      "text/plain": [
       "array([[0., 0., 0.],\n",
       "       [0., 0., 0.],\n",
       "       [0., 0., 0.],\n",
       "       [0., 0., 0.],\n",
       "       [0., 0., 0.]])"
      ]
     },
     "metadata": {},
     "output_type": "display_data"
    },
    {
     "name": "stdout",
     "output_type": "stream",
     "text": [
      "save table_data to ecoB01B05_left_baseFlow_mdf.pickle\n"
     ]
    }
   ],
   "source": [
    "from shutil import copyfile\n",
    "\n",
    "# pickle_name = 'ecoC01B05_baseFlow'\n",
    "# mdf_pickle_name = 'ecoC01B05_baseFlow_mdf'\n",
    "\n",
    "# pickle_name = 'ecoB01_baseFlow'\n",
    "# mdf_pickle_name = 'ecoB01_baseFlow_mdf'\n",
    "\n",
    "# pickle_name = 'hlxC02B05_baseFlow'\n",
    "# mdf_pickle_name = 'hlxC02B05_baseFlow_mdf'\n",
    "\n",
    "# pickle_name = 'hlxC03B05_baseFlow'\n",
    "# mdf_pickle_name = 'hlxC03B05_baseFlow_mdf'\n",
    "\n",
    "# pickle_name = 'ecoB05_baseFlow4'\n",
    "# mdf_pickle_name = 'ecoB05_baseFlow4_mdf'\n",
    "\n",
    "# pickle_name = 'ecoB01B05_left_baseFlow'\n",
    "# mdf_pickle_name = 'ecoB01B05_left_baseFlow_mdf'\n",
    "\n",
    "with open('%s.pickle' % pickle_name, 'rb') as handle:\n",
    "    pickle_dict = pickle.load(handle)\n",
    "display(np.vstack(pickle_dict['uw_Base_list'])[1:6, 3:])\n",
    "display(np.vstack(pickle_dict['uw_Base_list'])[9, :])\n",
    "\n",
    "t1 = pickle_dict['uw_Base_list'].copy()\n",
    "# for i0 in (0, 6, 7, 8, 9):\n",
    "for i0 in (0, 1, 2, 3, 4, 5, 6, 7, 8, 9):\n",
    "    t1[i0] = np.zeros_like(t1[i0])\n",
    "# t1[2][5] = pickle_dict['uw_Base_list'][2][5]\n",
    "# ta1 = (pickle_dict['uw_Base_list'][4][3] + pickle_dict['uw_Base_list'][5][4]) / 2\n",
    "# ta2 = (pickle_dict['uw_Base_list'][4][4] - pickle_dict['uw_Base_list'][5][3]) / 2\n",
    "# t1[4][3] = ta1\n",
    "# t1[4][4] = ta2\n",
    "# t1[5][3] = -ta2\n",
    "# t1[5][4] = ta1\n",
    "t1[9] = pickle_dict['uw_Base_list'][9]\n",
    "t1[9][[0, 1, 3, 4, 5]] = 0\n",
    "# t1[9][:] = 0\n",
    "display(np.vstack(t1)[1:6, 3:])\n",
    "\n",
    "pickle_dict['uw_Base_list'] = t1\n",
    "tname = '%s.pickle' % mdf_pickle_name\n",
    "with open(tname, 'wb') as handle:\n",
    "    pickle.dump(pickle_dict, handle, protocol=pickle.HIGHEST_PROTOCOL)\n",
    "copyfile(tname, os.path.join(os.getcwd(), os.pardir, os.pardir, 'src', tname))\n",
    "print('save table_data to %s' % tname)\n"
   ]
  },
  {
   "cell_type": "code",
   "execution_count": 252,
   "metadata": {},
   "outputs": [
    {
     "data": {
      "text/plain": [
       "3.90625"
      ]
     },
     "execution_count": 252,
     "metadata": {},
     "output_type": "execute_result"
    }
   ],
   "source": [
    "20 / (614-598) * 75 / 24"
   ]
  },
  {
   "cell_type": "code",
   "execution_count": null,
   "metadata": {},
   "outputs": [],
   "source": []
  },
  {
   "cell_type": "markdown",
   "metadata": {},
   "source": [
    "## toy model, test the motion of an active swimmer in bulk with very large later rotation. "
   ]
  },
  {
   "cell_type": "code",
   "execution_count": 18,
   "metadata": {},
   "outputs": [
    {
     "data": {
      "text/plain": [
       "array([[ 8.73490227e-03, -3.04951663e-04,  9.22176811e-05],\n",
       "       [-1.77658091e-02, -1.73520598e-02, -5.82374515e-02],\n",
       "       [ 5.32147082e-03,  4.78599433e-03,  6.07358035e-03],\n",
       "       [ 9.87611809e-03, -1.79897016e-02,  1.37028527e-02],\n",
       "       [ 2.13276729e-02, -6.80206271e-04,  6.09546251e-03]])"
      ]
     },
     "metadata": {},
     "output_type": "display_data"
    },
    {
     "data": {
      "text/plain": [
       "array([[-0.00628201, -0.00359604, -0.26093982],\n",
       "       [-0.03146625,  0.02636917,  0.0252918 ],\n",
       "       [ 0.00262137, -0.01267284,  0.53868783],\n",
       "       [-0.00136997,  0.93545887,  0.02544567],\n",
       "       [-0.98074473, -0.02252829,  0.00462777]])"
      ]
     },
     "metadata": {},
     "output_type": "display_data"
    },
    {
     "data": {
      "text/plain": [
       "array([ 6.35418425e-04, -2.19676135e-03,  4.02494122e-03, -1.31786126e-03,\n",
       "       -1.23559401e-03, -7.57100877e-01])"
      ]
     },
     "metadata": {},
     "output_type": "display_data"
    },
    {
     "data": {
      "text/plain": [
       "array([[0., 0., 0.],\n",
       "       [0., 0., 0.],\n",
       "       [0., 0., 0.],\n",
       "       [0., 0., 0.],\n",
       "       [0., 0., 0.]])"
      ]
     },
     "metadata": {},
     "output_type": "display_data"
    },
    {
     "data": {
      "text/plain": [
       "array([  0.        ,   0.        ,   0.        , -13.17861261,\n",
       "       -12.35594012,  -0.75710088])"
      ]
     },
     "metadata": {},
     "output_type": "display_data"
    },
    {
     "name": "stdout",
     "output_type": "stream",
     "text": [
      "save table_data to ecoC01B05_baseFlow_laterRot.pickle\n"
     ]
    }
   ],
   "source": [
    "from shutil import copyfile\n",
    "\n",
    "pickle_name = 'ecoC01B05_baseFlow'\n",
    "mdf_pickle_name = 'ecoC01B05_baseFlow_laterRot'\n",
    "\n",
    "with open('%s.pickle' % pickle_name, 'rb') as handle:\n",
    "    pickle_dict = pickle.load(handle)\n",
    "display(np.vstack(pickle_dict['uw_Base_list'])[1:6, :3])\n",
    "display(np.vstack(pickle_dict['uw_Base_list'])[1:6, 3:])\n",
    "display(np.vstack(pickle_dict['uw_Base_list'])[9, :])\n",
    "\n",
    "t1 = pickle_dict['uw_Base_list'].copy()\n",
    "# for i0 in (0, 6, 7, 8, 9):\n",
    "for i0 in (1, 2, 3, 4, 5, ):\n",
    "    t1[i0] = np.zeros_like(t1[i0])\n",
    "\n",
    "tfct = 10000\n",
    "t1[9][:3] = 0\n",
    "t1[9][3:5] = t1[9][3:5] * tfct \n",
    "display(np.vstack(t1)[1:6, :3])\n",
    "display(np.vstack(t1)[9, :])\n",
    "\n",
    "pickle_dict['uw_Base_list'] = t1\n",
    "tname = '%s.pickle' % mdf_pickle_name\n",
    "with open(tname, 'wb') as handle:\n",
    "    pickle.dump(pickle_dict, handle, protocol=pickle.HIGHEST_PROTOCOL)\n",
    "copyfile(tname, os.path.join(os.getcwd(), os.pardir, os.pardir, 'src', tname))\n",
    "print('save table_data to %s' % tname)\n"
   ]
  },
  {
   "cell_type": "code",
   "execution_count": 15,
   "metadata": {},
   "outputs": [
    {
     "data": {
      "text/plain": [
       "array([-0.13178613])"
      ]
     },
     "execution_count": 15,
     "metadata": {},
     "output_type": "execute_result"
    }
   ],
   "source": [
    "t1[9][3:4] * tfct "
   ]
  },
  {
   "cell_type": "code",
   "execution_count": null,
   "metadata": {},
   "outputs": [],
   "source": []
  }
 ],
 "metadata": {
  "kernelspec": {
   "display_name": "Python 3",
   "language": "python",
   "name": "python3"
  },
  "language_info": {
   "codemirror_mode": {
    "name": "ipython",
    "version": 3
   },
   "file_extension": ".py",
   "mimetype": "text/x-python",
   "name": "python",
   "nbconvert_exporter": "python",
   "pygments_lexer": "ipython3",
   "version": "3.5.6"
  }
 },
 "nbformat": 4,
 "nbformat_minor": 4
}
