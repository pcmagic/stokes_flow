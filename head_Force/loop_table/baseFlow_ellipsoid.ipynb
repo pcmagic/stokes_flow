{
 "cells": [
  {
   "cell_type": "code",
   "execution_count": 1,
   "metadata": {},
   "outputs": [],
   "source": [
    "# !/usr/bin/env python3\n",
    "# -*- coding: utf-8 -*-\n",
    "\"\"\"\n",
    "Created on 20191125\n",
    "\n",
    "@author: zhangji\n",
    "\n",
    "test the linear relationship\n",
    "U_t =?= U_sh + U_wm\n",
    "U_t is the total velocity\n",
    "U_sh is the velocity induced by shear flow\n",
    "U_wm is the active velocity. \n",
    "\"\"\"\n",
    "\n",
    "# %pylab inline\n",
    "# pylab.rcParams['figure.figsize'] = (25, 11)\n",
    "# fontsize = 40\n",
    "\n",
    "# import numpy as np\n",
    "# import scipy as sp\n",
    "# from scipy.optimize import leastsq, curve_fit\n",
    "# from scipy import interpolate\n",
    "# from scipy.interpolate import interp1d\n",
    "# from scipy.io import loadmat, savemat\n",
    "# # import scipy.misc\n",
    "\n",
    "# import matplotlib\n",
    "# from matplotlib import pyplot as plt\n",
    "# from matplotlib import animation, rc\n",
    "# import matplotlib.ticker as mtick\n",
    "# from mpl_toolkits.axes_grid1.inset_locator import inset_axes, zoomed_inset_axes\n",
    "# from mpl_toolkits.mplot3d import Axes3D, axes3d\n",
    "\n",
    "# from sympy import symbols, simplify, series, exp\n",
    "# from sympy.matrices import Matrix\n",
    "# from sympy.solvers import solve\n",
    "\n",
    "# from IPython.display import display, HTML\n",
    "# from tqdm import tqdm_notebook as tqdm\n",
    "# import pandas as pd\n",
    "# import re\n",
    "# from scanf import scanf\n",
    "# import os\n",
    "# import glob\n",
    "\n",
    "# from codeStore import support_fun as spf\n",
    "# from src.support_class import *\n",
    "# from src import stokes_flow as sf\n",
    "\n",
    "# rc('animation', html='html5')\n",
    "# PWD = os.getcwd()\n",
    "# font = {'size': 20}\n",
    "# matplotlib.rc('font', **font)\n",
    "# np.set_printoptions(linewidth=90, precision=5)\n",
    "\n",
    "%load_ext autoreload\n",
    "%autoreload 2\n",
    "\n",
    "import os\n",
    "import glob\n",
    "import re\n",
    "import pandas as pd\n",
    "from scanf import scanf\n",
    "import natsort \n",
    "import numpy as np\n",
    "import scipy as sp\n",
    "from scipy.optimize import leastsq, curve_fit\n",
    "from scipy import interpolate, spatial, sparse, optimize\n",
    "# from scipy.interpolate import interp1d\n",
    "from scipy.io import loadmat, savemat\n",
    "# import scipy.misc\n",
    "import importlib\n",
    "from IPython.display import display, HTML\n",
    "import pickle\n",
    "\n",
    "import matplotlib\n",
    "from matplotlib import pyplot as plt\n",
    "from matplotlib import colors as mcolors\n",
    "from matplotlib import animation, rc\n",
    "import matplotlib.ticker as mtick\n",
    "from mpl_toolkits.axes_grid1.inset_locator import inset_axes, zoomed_inset_axes\n",
    "from mpl_toolkits.mplot3d import Axes3D, axes3d\n",
    "from matplotlib import ticker, cm\n",
    "from mpl_toolkits.axes_grid1 import make_axes_locatable\n",
    "\n",
    "from time import time\n",
    "from src import support_class as spc\n",
    "from src import jeffery_model as jm\n",
    "from codeStore import support_fun as spf\n",
    "from codeStore import support_fun_table as spf_tb\n",
    "\n",
    "# %matplotlib notebook\n",
    "\n",
    "%matplotlib inline\n",
    "rc('animation', html='html5')\n",
    "rc('text', usetex=True)\n",
    "params = {'text.latex.preamble': [r'\\usepackage{bm}', r'\\usepackage{amsmath}']}\n",
    "plt.rcParams.update(params)\n",
    "fontsize = 40\n",
    "figsize = (30, 16)\n",
    "PWD = os.getcwd()"
   ]
  },
  {
   "cell_type": "code",
   "execution_count": 2,
   "metadata": {},
   "outputs": [
    {
     "data": {
      "image/png": "[encoded data removed]",
      "text/plain": [
       "<Figure size 144x144 with 1 Axes>"
      ]
     },
     "metadata": {},
     "output_type": "display_data"
    }
   ],
   "source": [
    "fig = plt.figure(figsize=(2, 2))\n",
    "fig.patch.set_facecolor('white')\n",
    "ax0 = fig.add_subplot(1, 1, 1)"
   ]
  },
  {
   "cell_type": "code",
   "execution_count": 52,
   "metadata": {},
   "outputs": [
    {
     "data": {
      "text/plain": [
       "array([[ 5.90485647e-06, -1.46282868e-05, -1.31749781e-10],\n",
       "       [ 3.53794875e-05,  1.02309635e-04, -2.41294827e-09],\n",
       "       [ 6.18340871e-06, -1.98597993e-05, -7.03130983e-11],\n",
       "       [-3.03077167e-08, -1.20376091e-08,  3.29808357e-05],\n",
       "       [ 2.56842163e-08,  1.29737985e-09,  6.73171849e-07]])"
      ]
     },
     "metadata": {},
     "output_type": "display_data"
    },
    {
     "data": {
      "text/plain": [
       "array([[ 3.66649523e-08, -1.98607989e-08,  1.19618370e-05],\n",
       "       [ 3.06475768e-07,  4.06610904e-07, -2.11718444e-04],\n",
       "       [ 8.80825527e-08, -1.35935315e-08, -6.36852604e-04],\n",
       "       [-1.53761361e-05,  7.96619831e-01, -2.30996017e-08],\n",
       "       [-7.96082163e-01,  1.64279460e-05, -3.24401544e-09]])"
      ]
     },
     "metadata": {},
     "output_type": "display_data"
    },
    {
     "data": {
      "text/plain": [
       "array([[ 0.      ,  0.      ,  0.      ,  0.      ,  0.      ,  0.      ],\n",
       "       [ 0.      ,  0.      ,  0.      ,  0.      ,  0.      ,  0.      ],\n",
       "       [ 0.      ,  0.      ,  0.      ,  0.      ,  0.      ,  0.      ],\n",
       "       [ 0.      ,  0.      ,  0.      ,  0.      ,  0.796351,  0.      ],\n",
       "       [ 0.      ,  0.      ,  0.      , -0.796351,  0.      ,  0.      ]])"
      ]
     },
     "metadata": {},
     "output_type": "display_data"
    },
    {
     "data": {
      "text/plain": [
       "array([0.   , 0.   , 0.004, 0.   , 0.   , 0.   ])"
      ]
     },
     "metadata": {},
     "output_type": "display_data"
    },
    {
     "name": "stdout",
     "output_type": "stream",
     "text": [
      "save table_data to ellipsoidB05_act_baseFlow.pickle\n"
     ]
    }
   ],
   "source": [
    "from shutil import copyfile\n",
    "\n",
    "pickle_name = 'ellipsoidB05_baseFlow'\n",
    "mdf_pickle_name = 'ellipsoidB05_act_baseFlow'\n",
    "# mdf_pickle_name = 'ellipsoidB05_baseFlow_mdf'\n",
    "\n",
    "with open('%s.pickle' % pickle_name, 'rb') as handle:\n",
    "    pickle_dict = pickle.load(handle)\n",
    "display(np.vstack(pickle_dict['uw_Base_list'])[1:6, :3])\n",
    "display(np.vstack(pickle_dict['uw_Base_list'])[1:6, 3:])\n",
    "\n",
    "t1 = pickle_dict['uw_Base_list'].copy()\n",
    "lmd = 0.5 * (t1[4][4] - t1[5][3])\n",
    "# lmd = 0.8\n",
    "for i0 in (0, 1, 2, 3, 4, 5, 6, 7, 8, 9):\n",
    "    t1[i0] = np.zeros_like(t1[i0])\n",
    "t1[4][4] = lmd\n",
    "t1[5][3] = -lmd\n",
    "t1[9] = np.array((0, 0, 0.004, 0, 0, 0))\n",
    "display(np.vstack(t1)[1:6, :])\n",
    "display(np.vstack(t1)[9, :])\n",
    "\n",
    "pickle_dict['uw_Base_list'] = t1\n",
    "tname = '%s.pickle' % mdf_pickle_name\n",
    "with open(tname, 'wb') as handle:\n",
    "    pickle.dump(pickle_dict, handle, protocol=pickle.HIGHEST_PROTOCOL)\n",
    "copyfile(tname, os.path.join(os.getcwd(), os.pardir, os.pardir, 'src', tname))\n",
    "print('save table_data to %s' % tname)\n"
   ]
  },
  {
   "cell_type": "code",
   "execution_count": 46,
   "metadata": {},
   "outputs": [
    {
     "data": {
      "text/plain": [
       "array([[-7.76132412e-03, -5.69502967e-08, -4.66898703e-07],\n",
       "       [ 2.80705829e-02,  1.65351066e-06,  2.25261263e-07],\n",
       "       [ 6.62964540e-08, -7.04582609e-03, -8.56368581e-05],\n",
       "       [ 2.31596494e-07, -2.42372294e-02, -1.41701252e-02],\n",
       "       [ 2.32129486e-02,  4.40727001e-08, -6.61599524e-07]])"
      ]
     },
     "metadata": {},
     "output_type": "display_data"
    },
    {
     "data": {
      "text/plain": [
       "array([[ 2.88299473e-02, -1.46853323e-06, -1.03064360e-06],\n",
       "       [ 5.42510802e-02, -2.22381634e-06, -8.76820219e-06],\n",
       "       [ 1.00153773e-06,  3.19268703e-02,  5.91691688e-02],\n",
       "       [ 6.59827138e-07,  9.56943091e-01, -5.45242721e-02],\n",
       "       [-9.68509888e-01, -5.96048419e-08,  6.67837781e-07]])"
      ]
     },
     "metadata": {},
     "output_type": "display_data"
    }
   ],
   "source": [
    "pickle_name = 'hlxB01_baseFlow'\n",
    "\n",
    "with open('%s.pickle' % pickle_name, 'rb') as handle:\n",
    "    pickle_dict = pickle.load(handle)\n",
    "display(np.vstack(pickle_dict['uw_Base_list'])[1:6, :3])\n",
    "display(np.vstack(pickle_dict['uw_Base_list'])[1:6, 3:])"
   ]
  },
  {
   "cell_type": "code",
   "execution_count": 9,
   "metadata": {},
   "outputs": [
    {
     "data": {
      "text/plain": [
       "{'MPISIZE': 24,\n",
       " 'Tfct': 1,\n",
       " 'basei': 1,\n",
       " 'belemshandle': 'belems',\n",
       " 'bnodeshandle': 'bnodes',\n",
       " 'center': array([0, 0, 0]),\n",
       " 'ch': 3.0,\n",
       " 'dist_hs': 0.5,\n",
       " 'ds': 0.023333,\n",
       " 'eT': -1.0,\n",
       " 'eh': -1.0,\n",
       " 'es': -1.0,\n",
       " 'ffweightT': 2.0,\n",
       " 'ffweightx': 2.0,\n",
       " 'ffweighty': 2.0,\n",
       " 'ffweightz': 2.0,\n",
       " 'field_range': array([[-3, -3, -3],\n",
       "        [ 3,  3,  3]]),\n",
       " 'fileHandle': 'ellipsoidB05_baseFlow',\n",
       " 'getConvergenceHistory': False,\n",
       " 'hfct': 1.0,\n",
       " 'int_epsabs': 1e-200,\n",
       " 'int_epsrel': 1e-10,\n",
       " 'int_limit': 1000,\n",
       " 'left_hand': False,\n",
       " 'ls': 1.0,\n",
       " 'matname': 'body1',\n",
       " 'matrix_method': 'pf',\n",
       " 'n_grid': array([10, 10, 10]),\n",
       " 'n_node_threshold': 5000,\n",
       " 'n_tail': 1,\n",
       " 'ntT': 10,\n",
       " 'nth': 10,\n",
       " 'ph': 0.666667,\n",
       " 'pickProblem': False,\n",
       " 'plot_geo': False,\n",
       " 'precondition_method': 'none',\n",
       " 'rT1': 0.2,\n",
       " 'rT2': 0.03,\n",
       " 'region_type': 'rectangle',\n",
       " 'rel_Uh': array([0., 0., 0., 0., 0., 0.]),\n",
       " 'rel_Us': array([0., 0., 0., 0., 0., 0.]),\n",
       " 'repeat_n': 1,\n",
       " 'restart': False,\n",
       " 'rh1': 0.2,\n",
       " 'rh11': 0.3,\n",
       " 'rh12': 0.3,\n",
       " 'rh2': 0.03,\n",
       " 'rot_norm': array([1, 0, 0]),\n",
       " 'rot_theta': 0,\n",
       " 'rs1': 0.5,\n",
       " 'rs2': 0.166667,\n",
       " 'save_vtk': False,\n",
       " 'solve_method': 'gmres',\n",
       " 'with_T_geo': False,\n",
       " 'with_cover': 2,\n",
       " 'zoom_factor': 1.0}"
      ]
     },
     "execution_count": 9,
     "metadata": {},
     "output_type": "execute_result"
    }
   ],
   "source": [
    "pickle_name = 'ellipsoidB05_baseFlow'\n",
    "with open('%s.pickle' % pickle_name, 'rb') as handle:\n",
    "    pickle_dict = pickle.load(handle)\n",
    "\n",
    "pickle_dict['problem_kwargs']"
   ]
  },
  {
   "cell_type": "code",
   "execution_count": null,
   "metadata": {},
   "outputs": [],
   "source": []
  },
  {
   "cell_type": "code",
   "execution_count": 45,
   "metadata": {},
   "outputs": [
    {
     "data": {
      "image/png": "[encoded data removed]",
      "text/plain": [
       "<Figure size 1350x1350 with 1 Axes>"
      ]
     },
     "metadata": {},
     "output_type": "display_data"
    }
   ],
   "source": [
    "figsize = np.array((16, 9)) * 0.5\n",
    "figsize = np.array((9, 9)) * 0.5\n",
    "dpi = 300\n",
    "\n",
    "t1, t2 = np.meshgrid(np.linspace(-3, 3, 8), np.linspace(-3, 3, 8), indexing='ij')\n",
    "# u1, u2 = t1, -t2\n",
    "# title = '$\\\\tilde{\\\\bm{u}}^{E1} = (x, -y, 0)$'\n",
    "# xlabel, ylabel = '$x$', '$y$'\n",
    "\n",
    "# u1, u2 = -t1, t2\n",
    "# title = '$\\\\tilde{\\\\bm{u}}^{E2} = (0, -y, z)$'\n",
    "# xlabel, ylabel = '$y$', '$z$'\n",
    "\n",
    "# u1, u2 = t2, t1\n",
    "# title = '$\\\\tilde{\\\\bm{u}}^{E3} = (y, x, 0)$'\n",
    "# xlabel, ylabel = '$x$', '$y$'\n",
    "\n",
    "# u1, u2 = t2, t1\n",
    "# title = '$\\\\tilde{\\\\bm{u}}^{E4} = (z, 0, x)$'\n",
    "# xlabel, ylabel = '$x$', '$z$'\n",
    "\n",
    "# u1, u2 = t2, t1\n",
    "# title = '$\\\\tilde{\\\\bm{u}}^{E5} = (0, y, x)$'\n",
    "# xlabel, ylabel = '$y$', '$z$'\n",
    "\n",
    "# u1, u2 = t2, t1\n",
    "# title = '$\\\\tilde{\\\\bm{u}}^{E4} = (z, 0, x)$'\n",
    "# xlabel, ylabel = '$x$', '$z$'\n",
    "\n",
    "u1, u2 = np.ones_like(t2), np.zeros_like(t2)\n",
    "title = ''\n",
    "xlabel, ylabel = '$x$', '$z$'\n",
    "\n",
    "# u1, u2 = -t2, -t1\n",
    "# title = ''\n",
    "# xlabel, ylabel = '$x$', '$z$'\n",
    "\n",
    "# u1, u2 = t2, -t1\n",
    "# title = ''\n",
    "# xlabel, ylabel = '$x$', '$z$'\n",
    "\n",
    "fig, axs = plt.subplots(1, 1, figsize=figsize, dpi=dpi)\n",
    "fig.patch.set_facecolor('white')\n",
    "axi = axs\n",
    "axi.quiver(t1, t2, u1, u2, scale=20)\n",
    "axi.axis('equal')\n",
    "axi.set_title(title)\n",
    "axi.set_xlabel(xlabel)\n",
    "axi.set_ylabel(ylabel)\n",
    "plt.tight_layout()"
   ]
  },
  {
   "cell_type": "code",
   "execution_count": null,
   "metadata": {},
   "outputs": [],
   "source": []
  }
 ],
 "metadata": {
  "kernelspec": {
   "display_name": "Python 3",
   "language": "python",
   "name": "python3"
  },
  "language_info": {
   "codemirror_mode": {
    "name": "ipython",
    "version": 3
   },
   "file_extension": ".py",
   "mimetype": "text/x-python",
   "name": "python",
   "nbconvert_exporter": "python",
   "pygments_lexer": "ipython3",
   "version": "3.5.6"
  }
 },
 "nbformat": 4,
 "nbformat_minor": 4
}
