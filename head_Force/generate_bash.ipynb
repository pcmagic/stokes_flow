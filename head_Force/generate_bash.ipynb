{
 "cells": [
  {
   "cell_type": "code",
   "execution_count": 2,
   "metadata": {
    "nbpresent": {
     "id": "00d398b0-b3c8-4bcc-a7e9-02e2a71873d7"
    }
   },
   "outputs": [],
   "source": [
    "import numpy as np\n",
    "import os\n",
    "from codeStore import support_fun as spf\n"
   ]
  },
  {
   "cell_type": "code",
   "execution_count": 29,
   "metadata": {
    "nbpresent": {
     "id": "4547a67b-384b-439e-9177-6184fe7da51b"
    }
   },
   "outputs": [
    {
     "name": "stdout",
     "output_type": "stream",
     "text": [
      "n_pbs =  88\n"
     ]
    }
   ],
   "source": [
    "# case 1, ecoli (head Force) model in finite pipe. \n",
    "ellipse_centerx_list = [0.75, 0.5, 0]\n",
    "rot_theta_list = np.linspace(0, 2, 11) # true theta=rot_theta_list*np.pi\n",
    "rs1_list = (0.1, 0.2, 0.3)\n",
    "PoiseuilleStrength_list = np.linspace(-0.5, 0.5, 11)\n",
    "# PoiseuilleStrength_list = (0, )\n",
    "job_dir = 'case1a'\n",
    "if not os.path.exists(job_dir):\n",
    "    os.makedirs(job_dir)\n",
    "    \n",
    "t_name = os.path.join(job_dir, 'run.sh')\n",
    "n_pbs = 0\n",
    "with open(t_name, 'w') as frun:\n",
    "    # create .pbs file\n",
    "    for ellipse_centerx_i in ellipse_centerx_list:\n",
    "        for rot_theta_i in rot_theta_list:\n",
    "            for rs1_i in rs1_list:\n",
    "                if rs1_i + ellipse_centerx_i < 1:\n",
    "                    job_name = 'headF_x%.2f_rot%.2f_rs1%.2f' % (ellipse_centerx_i, rot_theta_i, rs1_i)\n",
    "                    t_name = os.path.join(job_dir, '%s.pbs' % job_name)\n",
    "                    with open(t_name, 'w') as fpbs:\n",
    "                        spf.write_pbs_head(fpbs, job_name)\n",
    "                        for PoiseuilleStrength_i in PoiseuilleStrength_list:\n",
    "                            output_name = '%s_P%.2f' % (job_name, PoiseuilleStrength_i)\n",
    "                            fpbs.write('mpirun -n 24 python ')\n",
    "                            fpbs.write(' ../head_Force_in_pipe.py ')\n",
    "                            fpbs.write(' -f %s ' % output_name)\n",
    "                            fpbs.write(' -sm %s ' % 'lg_rs')\n",
    "                            fpbs.write(' -legendre_m %d ' % 3)\n",
    "                            fpbs.write(' -legendre_k %d ' % 2)\n",
    "                            fpbs.write(' -epsilon %f ' % 3)\n",
    "                            fpbs.write(' -PoiseuilleStrength %f ' % PoiseuilleStrength_i)\n",
    "                            fpbs.write(' -ecoli_tail_strength %f ' % 1)\n",
    "                            fpbs.write(' -rs1 %f ' % rs1_i)\n",
    "                            fpbs.write(' -rs2 %f ' % 0.1)\n",
    "                            fpbs.write(' -ds %f ' % 0.01)\n",
    "                            fpbs.write(' -ellipse_centerx %f ' % ellipse_centerx_i)\n",
    "                            fpbs.write(' -ellipse_centery %f ' % 0)\n",
    "                            fpbs.write(' -ellipse_centerz %f ' % 0)\n",
    "                            fpbs.write(' -rot_theta %f ' % rot_theta_i)\n",
    "                            fpbs.write(' -finite_pipe_length %f ' % 10)\n",
    "                            fpbs.write(' -finite_pipe_cover %d ' % 1)\n",
    "                            fpbs.write(' -finite_pipe_ntheta %d ' % 100)\n",
    "                            fpbs.write(' -vtk_matname %s ' % 'pipe_20181209')\n",
    "                            fpbs.write(' -ksp_max_it %d ' % 500)\n",
    "                            fpbs.write(' > %s.txt \\n\\n' % output_name)\n",
    "                    # write to .sh file\n",
    "                    frun.write('qsub %s.pbs\\n' % job_name)\n",
    "                    n_pbs = n_pbs + 1\n",
    "    \n",
    "    frun.write('\\n')\n",
    "    print('n_pbs = ', n_pbs)"
   ]
  },
  {
   "cell_type": "code",
   "execution_count": 61,
   "metadata": {
    "nbpresent": {
     "id": "5956ed1f-3047-4223-94a2-ff01b3f1044a"
    }
   },
   "outputs": [
    {
     "name": "stdout",
     "output_type": "stream",
     "text": [
      "headF_x0.75_rot0.00_rs10.10_P0.00\n",
      "headF_x0.75_rot0.00_rs10.10_P0.05\n",
      "headF_x0.75_rot0.33_rs10.10_P0.00\n",
      "headF_x0.75_rot0.33_rs10.10_P0.05\n",
      "headF_x0.50_rot0.00_rs10.10_P0.00\n",
      "headF_x0.50_rot0.00_rs10.10_P0.05\n",
      "headF_x0.50_rot0.33_rs10.10_P0.00\n",
      "headF_x0.50_rot0.33_rs10.10_P0.05\n",
      "headF_x0.00_rot0.00_rs10.10_P0.00\n",
      "headF_x0.00_rot0.00_rs10.10_P0.05\n",
      "headF_x0.00_rot0.33_rs10.10_P0.00\n",
      "headF_x0.00_rot0.33_rs10.10_P0.05\n",
      "n_pbs =  12\n"
     ]
    }
   ],
   "source": [
    "# case 2, ecoli (head Force) model in finite pipe. motion loop\n",
    "ellipse_centerx_list = (0.75, 0.5, 0)\n",
    "rot_theta_list = (0, 1/3, ) # true theta=rot_theta_list*np.pi\n",
    "rs1_list = (0.1, )\n",
    "PoiseuilleStrength_list = (0, 0.05)\n",
    "# PoiseuilleStrength_list = (0, )\n",
    "PWD = os.getcwd()\n",
    "job_dir = 'case2a'\n",
    "if not os.path.exists(job_dir):\n",
    "    os.makedirs(job_dir)\n",
    "    \n",
    "t_name = os.path.join(job_dir, 'run.sh')\n",
    "n_pbs = 0\n",
    "with open(t_name, 'w') as frun:\n",
    "    # create .pbs file\n",
    "    frun.write('t_dir=$PWD \\n')\n",
    "    for ellipse_centerx_i in ellipse_centerx_list:\n",
    "        for rs1_i in rs1_list:\n",
    "            if rs1_i + ellipse_centerx_i < 1:\n",
    "                for rot_theta_i in rot_theta_list:\n",
    "                    for PoiseuilleStrength_i in PoiseuilleStrength_list:\n",
    "                        job_name = 'headF_x%.2f_rot%.2f_rs1%.2f_P%.2f' % \\\n",
    "                                   (ellipse_centerx_i, rot_theta_i, rs1_i, PoiseuilleStrength_i)\n",
    "                        print(job_name)\n",
    "                        t_path = os.path.join(job_dir, job_name)\n",
    "                        if not os.path.exists(t_path):\n",
    "                            os.makedirs(t_path)\n",
    "                        t_name = os.path.join(t_path, '%s.pbs' % job_name)\n",
    "                        with open(t_name, 'w') as fpbs:\n",
    "                            spf.write_pbs_head(fpbs, job_name)                           \n",
    "                            fpbs.write('mpirun -n 24 python ')\n",
    "                            fpbs.write(' ../../motion_head_Force_pipe.py ')\n",
    "                            fpbs.write(' -f %s ' % output_name)\n",
    "                            fpbs.write(' -sm %s ' % 'lg_rs')\n",
    "                            fpbs.write(' -legendre_m %d ' % 3)\n",
    "                            fpbs.write(' -legendre_k %d ' % 2)\n",
    "                            fpbs.write(' -epsilon %f ' % 3)\n",
    "                            fpbs.write(' -PoiseuilleStrength %f ' % PoiseuilleStrength_i)\n",
    "                            fpbs.write(' -ecoli_tail_strength %f ' % 1)\n",
    "                            fpbs.write(' -rs1 %f ' % rs1_i)\n",
    "                            fpbs.write(' -rs2 %f ' % 0.1)\n",
    "                            fpbs.write(' -ds %f ' % 0.01)\n",
    "                            fpbs.write(' -ellipse_centerx %f ' % ellipse_centerx_i)\n",
    "                            fpbs.write(' -ellipse_centery %f ' % 0)\n",
    "                            fpbs.write(' -ellipse_centerz %f ' % 0)\n",
    "                            fpbs.write(' -rot_theta %f ' % rot_theta_i)\n",
    "                            fpbs.write(' -finite_pipe_length %f ' % 10)\n",
    "                            fpbs.write(' -finite_pipe_cover %d ' % 1)\n",
    "                            fpbs.write(' -finite_pipe_ntheta %d ' % 100)\n",
    "                            fpbs.write(' -vtk_matname %s ' % 'pipe_20181209')\n",
    "                            fpbs.write(' -ksp_max_it %d ' % 500)\n",
    "                            fpbs.write(' -max_iter %d ' % 500)\n",
    "                            fpbs.write(' -eval_dt %f ' % 0.01)\n",
    "                            fpbs.write(' > %s.txt \\n\\n' % output_name)\n",
    "                        # write to .sh file\n",
    "                        frun.write('cd $t_dir/%s\\n' % job_name)\n",
    "                        frun.write('qsub %s.pbs\\n\\n' % job_name)\n",
    "                        n_pbs = n_pbs + 1\n",
    "    \n",
    "    frun.write('\\n')\n",
    "    print('n_pbs = ', n_pbs)"
   ]
  },
  {
   "cell_type": "code",
   "execution_count": 55,
   "metadata": {
    "nbpresent": {
     "id": "6301a16b-8680-4978-80ec-195a1badf3f3"
    }
   },
   "outputs": [
    {
     "data": {
      "text/plain": [
       "'cd /home/zhangji/stokes_flow_master/head_Force/case2a/headF_x0.00_rot0.33_rs10.10_P0.05\\n'"
      ]
     },
     "execution_count": 55,
     "metadata": {},
     "output_type": "execute_result"
    }
   ],
   "source": [
    "('cd %s\\n' % os.path.join(PWD, t_path))\n",
    "# t_path"
   ]
  }
 ],
 "metadata": {
  "kernelspec": {
   "display_name": "Python [conda root]",
   "language": "python",
   "name": "conda-root-py"
  },
  "language_info": {
   "codemirror_mode": {
    "name": "ipython",
    "version": 3
   },
   "file_extension": ".py",
   "mimetype": "text/x-python",
   "name": "python",
   "nbconvert_exporter": "python",
   "pygments_lexer": "ipython3",
   "version": "3.5.6"
  },
  "nbpresent": {
   "slides": {
    "290b0c2f-9fe6-4423-bcb3-a1c72ab04919": {
     "id": "290b0c2f-9fe6-4423-bcb3-a1c72ab04919",
     "prev": "dd0df2e1-6c94-439f-adf2-2854de434a96",
     "regions": {
      "2d6ca33e-cef6-4fdf-9694-0e61c07fe806": {
       "attrs": {
        "height": 0.8,
        "width": 0.8,
        "x": 0.1,
        "y": 0.1
       },
       "content": {
        "cell": "4547a67b-384b-439e-9177-6184fe7da51b",
        "part": "whole"
       },
       "id": "2d6ca33e-cef6-4fdf-9694-0e61c07fe806"
      }
     }
    },
    "6bbd5086-cee1-416b-8341-0be129b6e13e": {
     "id": "6bbd5086-cee1-416b-8341-0be129b6e13e",
     "prev": "b02ad571-dd1a-4cd9-85fe-9d769c39f1f2",
     "regions": {
      "d3cf471a-99df-4488-b966-b450251ed230": {
       "attrs": {
        "height": 0.8,
        "width": 0.8,
        "x": 0.1,
        "y": 0.1
       },
       "content": {
        "cell": "6301a16b-8680-4978-80ec-195a1badf3f3",
        "part": "whole"
       },
       "id": "d3cf471a-99df-4488-b966-b450251ed230"
      }
     }
    },
    "b02ad571-dd1a-4cd9-85fe-9d769c39f1f2": {
     "id": "b02ad571-dd1a-4cd9-85fe-9d769c39f1f2",
     "prev": "290b0c2f-9fe6-4423-bcb3-a1c72ab04919",
     "regions": {
      "3e404b11-9e26-4074-a410-e839f5861c24": {
       "attrs": {
        "height": 0.8,
        "width": 0.8,
        "x": 0.1,
        "y": 0.1
       },
       "content": {
        "cell": "5956ed1f-3047-4223-94a2-ff01b3f1044a",
        "part": "whole"
       },
       "id": "3e404b11-9e26-4074-a410-e839f5861c24"
      }
     }
    },
    "dd0df2e1-6c94-439f-adf2-2854de434a96": {
     "id": "dd0df2e1-6c94-439f-adf2-2854de434a96",
     "prev": null,
     "regions": {
      "477dfcd3-d3f6-4f9e-963b-216c4073d4f4": {
       "attrs": {
        "height": 0.8,
        "width": 0.8,
        "x": 0.1,
        "y": 0.1
       },
       "content": {
        "cell": "00d398b0-b3c8-4bcc-a7e9-02e2a71873d7",
        "part": "whole"
       },
       "id": "477dfcd3-d3f6-4f9e-963b-216c4073d4f4"
      }
     }
    }
   },
   "themes": {}
  }
 },
 "nbformat": 4,
 "nbformat_minor": 2
}
