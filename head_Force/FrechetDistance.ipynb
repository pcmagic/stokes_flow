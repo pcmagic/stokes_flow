{
 "cells": [
  {
   "cell_type": "code",
   "execution_count": 1,
   "metadata": {},
   "outputs": [
    {
     "name": "stdout",
     "output_type": "stream",
     "text": [
      "Populating the interactive namespace from numpy and matplotlib\n"
     ]
    }
   ],
   "source": [
    "# !/usr/bin/env python3\n",
    "# -*- coding: utf-8 -*-\n",
    "\"\"\"\n",
    "Created on 20181221\n",
    "\n",
    "@author: zhangji\n",
    "\"\"\"\n",
    "%pylab inline\n",
    "# pylab.rcParams['figure.figsize'] = (25, 11)\n",
    "fontsize = 40\n",
    "\n",
    "import numpy as np\n",
    "import math\n",
    "import scipy as sp\n",
    "from scipy.optimize import leastsq, curve_fit\n",
    "from scipy import interpolate\n",
    "from scipy.interpolate import interp1d\n",
    "from scipy.io import loadmat, savemat\n",
    "# import scipy.misc\n",
    "\n",
    "import matplotlib\n",
    "from matplotlib import pyplot as plt\n",
    "from matplotlib import animation, rc\n",
    "import matplotlib.ticker as mtick\n",
    "from mpl_toolkits.axes_grid1.inset_locator import inset_axes, zoomed_inset_axes\n",
    "from mpl_toolkits.mplot3d import Axes3D, axes3d\n",
    "\n",
    "from sympy import symbols, simplify, series, exp\n",
    "from sympy.matrices import Matrix\n",
    "from sympy.solvers import solve\n",
    "\n",
    "from IPython.display import display, HTML\n",
    "from tqdm import tqdm_notebook as tqdm\n",
    "import pandas as pd\n",
    "import re\n",
    "from scanf import scanf\n",
    "import os\n",
    "import glob\n",
    "import natsort \n",
    "from shutil import copyfile\n",
    "\n",
    "from codeStore import support_fun as spf\n",
    "from src.support_class import *\n",
    "from src import stokes_flow as sf\n",
    "\n",
    "rc('animation', html='html5')\n",
    "PWD = os.getcwd()\n",
    "font = {'size': 20}\n",
    "matplotlib.rc('font', **font)\n",
    "np.set_printoptions(linewidth=90, precision=5)\n"
   ]
  },
  {
   "cell_type": "code",
   "execution_count": 63,
   "metadata": {},
   "outputs": [
    {
     "ename": "SyntaxError",
     "evalue": "invalid syntax (<ipython-input-63-ba793de710b5>, line 6)",
     "output_type": "error",
     "traceback": [
      "\u001b[0;36m  File \u001b[0;32m\"<ipython-input-63-ba793de710b5>\"\u001b[0;36m, line \u001b[0;32m6\u001b[0m\n\u001b[0;31m    cimport numpy as np\u001b[0m\n\u001b[0m                ^\u001b[0m\n\u001b[0;31mSyntaxError\u001b[0m\u001b[0;31m:\u001b[0m invalid syntax\n"
     ]
    }
   ],
   "source": [
    "def _c(ca,i,j,p,q):\n",
    "\n",
    "    if ca[i,j] > -1:\n",
    "        return ca[i,j]\n",
    "    elif i == 0 and j == 0:\n",
    "        ca[i,j] = np.linalg.norm(p[i]-q[j])\n",
    "    elif i > 0 and j == 0:\n",
    "        ca[i,j] = max( _c(ca,i-1,0,p,q), np.linalg.norm(p[i]-q[j]) )\n",
    "    elif i == 0 and j > 0:\n",
    "        ca[i,j] = max( _c(ca,0,j-1,p,q), np.linalg.norm(p[i]-q[j]) )\n",
    "    elif i > 0 and j > 0:\n",
    "        ca[i,j] = max(                 \\\n",
    "            min(                       \\\n",
    "                _c(ca,i-1,j,p,q),      \\\n",
    "                _c(ca,i-1,j-1,p,q),    \\\n",
    "                _c(ca,i,j-1,p,q)       \\\n",
    "            ),                         \\\n",
    "            np.linalg.norm(p[i]-q[j])  \\\n",
    "            )                                                          \n",
    "    else:\n",
    "        ca[i,j] = float('inf')\n",
    "    \n",
    "    return ca[i,j]\n",
    "\n",
    "\n",
    "def frdist(p,q):\n",
    "    \"\"\" \n",
    "    Computes the discrete Fréchet distance between\n",
    "    two curves. The Fréchet distance between two curves in a\n",
    "    metric space is a measure of the similarity between the curves.\n",
    "    The discrete Fréchet distance may be used for approximately computing\n",
    "    the Fréchet distance between two arbitrary curves, \n",
    "    as an alternative to using the exact Fréchet distance between a polygonal\n",
    "    approximation of the curves or an approximation of this value.\n",
    "    \n",
    "    This is a Python 3.* implementation of the algorithm produced\n",
    "    in Eiter, T. and Mannila, H., 1994. Computing discrete Fréchet distance. Tech. \n",
    "    Report CD-TR 94/64, Information Systems Department, Technical University \n",
    "    of Vienna.\n",
    "    http://www.kr.tuwien.ac.at/staff/eiter/et-archive/cdtr9464.pdf\n",
    "\n",
    "    Function dF(P, Q): real;\n",
    "        input: polygonal curves P = (u1, . . . , up) and Q = (v1, . . . , vq).\n",
    "        return: δdF (P, Q)\n",
    "        ca : array [1..p, 1..q] of real;\n",
    "        function c(i, j): real;\n",
    "            begin\n",
    "                if ca(i, j) > −1 then return ca(i, j)\n",
    "                elsif i = 1 and j = 1 then ca(i, j) := d(u1, v1)\n",
    "                elsif i > 1 and j = 1 then ca(i, j) := max{ c(i − 1, 1), d(ui, v1) }\n",
    "                elsif i = 1 and j > 1 then ca(i, j) := max{ c(1, j − 1), d(u1, vj ) }\n",
    "                elsif i > 1 and j > 1 then ca(i, j) :=\n",
    "                max{ min(c(i − 1, j), c(i − 1, j − 1), c(i, j − 1)), d(ui, vj ) }\n",
    "                else ca(i, j) = ∞\n",
    "                return ca(i, j);\n",
    "            end; /* function c */\n",
    "\n",
    "        begin\n",
    "            for i = 1 to p do for j = 1 to q do ca(i, j) := −1.0;\n",
    "            return c(p, q);\n",
    "        end.\n",
    "\n",
    "    Parameters\n",
    "    ----------\n",
    "    P : Input curve - two dimensional array of points\n",
    "    Q : Input curve - two dimensional array of points\n",
    "\n",
    "    Returns\n",
    "    -------\n",
    "    dist: float64\n",
    "        The discrete Fréchet distance between curves `P` and `Q`.\n",
    "\n",
    "    Examples\n",
    "    --------\n",
    "    >>> from frechetdist import frdist\n",
    "    >>> P=[[1,1], [2,1], [2,2]]\n",
    "    >>> Q=[[2,2], [0,1], [2,4]]\n",
    "    >>> frdist(P,Q)\n",
    "    >>> 2.0\n",
    "    >>> P=[[1,1], [2,1], [2,2]]\n",
    "    >>> Q=[[1,1], [2,1], [2,2]]\n",
    "    >>> frdist(P,Q)\n",
    "    >>> 0\n",
    "    \"\"\"\n",
    "    p = np.array(p, np.float64)\n",
    "    q = np.array(q, np.float64)\n",
    "\n",
    "    len_p = len(p)\n",
    "    len_q = len(q)\n",
    "\n",
    "    if len_p == 0 or len_q == 0:\n",
    "        raise ValueError('Input curves are empty.')\n",
    "\n",
    "    if len_p != len_q or len(p[0]) != len(q[0]):\n",
    "        raise ValueError('Input curves do not have the same dimensions.')\n",
    "\n",
    "    ca    = ( np.ones((len_p,len_q), dtype=np.float64) * -1 ) \n",
    "\n",
    "    dist = _c(ca,len_p-1,len_q-1,p,q)\n",
    "    return dist\n",
    "\n",
    "# Euclidean distance.\n",
    "def euc_dist(pt1,pt2):\n",
    "    return math.sqrt((pt2[0]-pt1[0])*(pt2[0]-pt1[0])+(pt2[1]-pt1[1])*(pt2[1]-pt1[1]))\n",
    "\n",
    "def _c(ca,i,j,P,Q):\n",
    "    if ca[i,j] > -1:\n",
    "        return ca[i,j]\n",
    "    elif i == 0 and j == 0:\n",
    "        ca[i,j] = euc_dist(P[0],Q[0])\n",
    "    elif i > 0 and j == 0:\n",
    "        ca[i,j] = max(_c(ca,i-1,0,P,Q),euc_dist(P[i],Q[0]))\n",
    "    elif i == 0 and j > 0:\n",
    "        ca[i,j] = max(_c(ca,0,j-1,P,Q),euc_dist(P[0],Q[j]))\n",
    "    elif i > 0 and j > 0:\n",
    "        ca[i,j] = max(min(_c(ca,i-1,j,P,Q),_c(ca,i-1,j-1,P,Q),_c(ca,i,j-1,P,Q)),euc_dist(P[i],Q[j]))\n",
    "    else:\n",
    "        ca[i,j] = float(\"inf\")\n",
    "    return ca[i,j]\n",
    "\n",
    "\"\"\" Computes the discrete frechet distance between two polygonal lines\n",
    "Algorithm: http://www.kr.tuwien.ac.at/staff/eiter/et-archive/cdtr9464.pdf\n",
    "P and Q are arrays of 2-element arrays (points)\n",
    "\"\"\"\n",
    "def frechetDist(P,Q):\n",
    "    ca = np.ones((len(P),len(Q)))\n",
    "    ca = np.multiply(ca,-1)\n",
    "    return _c(ca,len(P)-1,len(Q)-1,P,Q)\n",
    "\n",
    "def read_ecoli_mat(mat_name):\n",
    "    mat_contents = loadmat(mat_name)\n",
    "    ecoli_U = mat_contents['ecoli_U']\n",
    "    ecoli_norm = mat_contents['ecoli_norm']\n",
    "    ecoli_center = mat_contents['ecoli_center']\n",
    "    return ecoli_center, ecoli_norm, ecoli_U\n"
   ]
  },
  {
   "cell_type": "code",
   "execution_count": 59,
   "metadata": {},
   "outputs": [
    {
     "data": {
      "text/plain": [
       "0.0"
      ]
     },
     "execution_count": 59,
     "metadata": {},
     "output_type": "execute_result"
    }
   ],
   "source": [
    "P=[[1,1], [2,1], [2,2]]\n",
    "Q=[[1,1], [2,1], [2,2], [2,2]]\n",
    "frechetDist(P,Q)"
   ]
  },
  {
   "cell_type": "code",
   "execution_count": 73,
   "metadata": {},
   "outputs": [
    {
     "name": "stdout",
     "output_type": "stream",
     "text": [
      "/home/zhangji/stokes_flow_master/head_Force/ecoli_shear1c/eq_dt0.010_O1.mat 0.000127075916188 0.00480734833451\n",
      "/home/zhangji/stokes_flow_master/head_Force/ecoli_shear1c/eq_dt0.010_O2.mat 0.000109098699241 0.00412726082036\n",
      "/home/zhangji/stokes_flow_master/head_Force/ecoli_shear1c/eq_dt0.010_O3.mat 7.29694933247e-05 0.00276047407507\n",
      "/home/zhangji/stokes_flow_master/head_Force/ecoli_shear1c/eq_dt0.010_O4.mat 3.65589131018e-05 0.00138304279271\n",
      "/home/zhangji/stokes_flow_master/head_Force/ecoli_shear1c/eq_dt0.010_O5.mat 0.0 0.0\n",
      "/home/zhangji/stokes_flow_master/head_Force/ecoli_shear1c/eq_dt0.050_O1.mat 0.000116317464172 0.00440035047105\n",
      "/home/zhangji/stokes_flow_master/head_Force/ecoli_shear1c/eq_dt0.050_O2.mat 0.000116317464172 0.00440035047105\n",
      "/home/zhangji/stokes_flow_master/head_Force/ecoli_shear1c/eq_dt0.050_O3.mat 0.000225505558207 0.00853099314318\n",
      "/home/zhangji/stokes_flow_master/head_Force/ecoli_shear1c/eq_dt0.050_O4.mat 0.000419755164527 0.0158795572884\n",
      "/home/zhangji/stokes_flow_master/head_Force/ecoli_shear1c/eq_dt0.050_O5.mat 0.000618913347282 0.0234138154459\n",
      "/home/zhangji/stokes_flow_master/head_Force/ecoli_shear1c/eq_dt0.100_O1.mat 0.000261714294386 0.00990078855987\n",
      "/home/zhangji/stokes_flow_master/head_Force/ecoli_shear1c/eq_dt0.100_O2.mat 0.000261714294386 0.00990078855987\n",
      "/home/zhangji/stokes_flow_master/head_Force/ecoli_shear1c/eq_dt0.100_O3.mat 0.000621005620393 0.0234929672314\n",
      "/home/zhangji/stokes_flow_master/head_Force/ecoli_shear1c/eq_dt0.100_O4.mat 0.00103844024888 0.0392847374285\n",
      "/home/zhangji/stokes_flow_master/head_Force/ecoli_shear1c/eq_dt0.100_O5.mat 0.00147326730137 0.0557344721169\n"
     ]
    }
   ],
   "source": [
    "base_mat = os.path.join(PWD, 'ecoli_shear1c', 'eq_dt0.010_O5.mat')\n",
    "dir_name = 'ecoli_shear1c'\n",
    "\n",
    "base_center, base_norm, base_U = read_ecoli_mat(base_mat)\n",
    "base_length = np.linalg.norm((base_center[:-1, :] - base_center[1:, :]), axis=1).sum()\n",
    "_, dt0, _ = scanf('%s/eq_dt%f_%s', base_mat)\n",
    "t_dir = os.path.join(PWD, dir_name)\n",
    "mat_names = glob.glob('%s/*.mat' % t_dir)\n",
    "for mati in natsort.natsorted(mat_names):\n",
    "    ecoli_center, ecoli_norm, ecoli_U = read_ecoli_mat(mati)\n",
    "    _, dt, _ = scanf('%s/eq_dt%f_%s', mati)\n",
    "    scale_cut = int(ecoli_center.shape[0] // (dt / dt0))\n",
    "    t_dst = frechetDist(ecoli_center[:scale_cut, :], base_center)\n",
    "    print(mati, t_dst, t_dst / base_length)\n",
    "    "
   ]
  },
  {
   "cell_type": "code",
   "execution_count": 71,
   "metadata": {},
   "outputs": [
    {
     "data": {
      "text/plain": [
       "0.026434023281670681"
      ]
     },
     "execution_count": 71,
     "metadata": {},
     "output_type": "execute_result"
    }
   ],
   "source": [
    "np.linalg.norm((base_center[:-1, :] - base_center[1:, :]), axis=1).sum()"
   ]
  }
 ],
 "metadata": {
  "kernelspec": {
   "display_name": "Python 3",
   "language": "python",
   "name": "python3"
  },
  "language_info": {
   "codemirror_mode": {
    "name": "ipython",
    "version": 3
   },
   "file_extension": ".py",
   "mimetype": "text/x-python",
   "name": "python",
   "nbconvert_exporter": "python",
   "pygments_lexer": "ipython3",
   "version": "3.5.6"
  }
 },
 "nbformat": 4,
 "nbformat_minor": 2
}
